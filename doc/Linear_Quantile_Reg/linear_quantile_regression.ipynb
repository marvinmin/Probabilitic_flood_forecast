{
 "cells": [
  {
   "cell_type": "code",
   "execution_count": 1,
   "metadata": {},
   "outputs": [],
   "source": [
    "import numpy as np\n",
    "import pandas as pd\n",
    "import statsmodels.api as sm\n",
    "import statsmodels.formula.api as smf\n",
    "import matplotlib.pyplot as plt\n",
    "import datetime\n",
    "from sklearn.model_selection import train_test_split\n",
    "\n",
    "import warnings\n",
    "from pandas.core.common import SettingWithCopyWarning\n",
    "warnings.simplefilter(action=\"ignore\", category=SettingWithCopyWarning)\n",
    "warnings.simplefilter(action='ignore', category=FutureWarning)\n",
    "\n",
    "import altair as alt\n",
    "alt.renderers.enable('mimetype');\n",
    "alt.data_transformers.enable('json');\n",
    "\n",
    "import pickle\n",
    "\n",
    "# Load the functions\n",
    "import sys\n",
    "sys.path.insert(1, '../../src')\n",
    "from preprocessing import*\n",
    "from quantile_regression_functions import*\n",
    "from model_evaluation import*"
   ]
  },
  {
   "cell_type": "markdown",
   "metadata": {},
   "source": [
    "# Linear Quantile Regression Notebook\n",
    "\n",
    "Linear quantile regression is a regression technique similar to least square regression because it is concerned with linear relationships between response and explanatory variables. The difference is that linear quantile regression does not model the conditional mean, instead it models the conditional $nth$ quantile. To use linear quantile regression to generate a distribution, we regress over multiple quantiles and combine the results to create a distribution. \n",
    "\n",
    "For the baseline model we used outputs from the R function `auto.arima` to determine the ideal number of lags across all 17 gauges, which was three lags. We then fit the model to the 3 lagged flow values. When working with the daily data, we found that decomposing the flow data across a julian day resulted in better model performance. However, with hourly flow data when fitting the model we did not decompose the flow data since it did not improve performance. \n",
    "\n",
    "We improved the baseline model by creating a function for a linear quantile regression model that  allowed the number of lags to be modified, and for the NARR data to be added. Though there was improvement by adding spatial data, it was not significant. We believe better results can be obtained by adding features that can capture the signal of flow rate change.\n",
    "\n",
    "A disadvantage to using linear quantile regression is that it makes a linear assumption and can only capture linear relationships between the response and predictors. Furthermore, the linear assumption may result in the occasional nonsense prediction, for example, when the quantile lines cross each other, we may get higher values for 0.7-quantile than the 0.8-quantile. To solve these problems, we turned to the tree-based models.\n"
   ]
  },
  {
   "cell_type": "markdown",
   "metadata": {},
   "source": [
    "## Preprocessing"
   ]
  },
  {
   "cell_type": "markdown",
   "metadata": {},
   "source": [
    "Run `python QR_preprocessing.py` in the terminal to combine flow data that was grouped by distance (see [`NARR_data_processing.ipynb`](https://github.ubc.ca/MDS-2019-20/DSCI_591-BGC/blob/data_product/doc/NARR_data_processing.ipynb) file for more information). This is done for implementation of NARR features later in the notebook."
   ]
  },
  {
   "cell_type": "code",
   "execution_count": 2,
   "metadata": {},
   "outputs": [],
   "source": [
    "# Read training and validation sets from the saved pickle files\n",
    "with open('../../data/pickle/qr_hourly_train.pickle', 'rb') as handle:\n",
    "    df_train = pickle.load(handle)\n",
    "with open('../../data/pickle/qr_hourly_val.pickle', 'rb') as handle:\n",
    "    df_val = pickle.load(handle)"
   ]
  },
  {
   "cell_type": "markdown",
   "metadata": {},
   "source": [
    "Below the end of the training data set and the beginning of the validation data set have been shown to the split captures a continous section of time."
   ]
  },
  {
   "cell_type": "code",
   "execution_count": 3,
   "metadata": {},
   "outputs": [
    {
     "data": {
      "text/html": [
       "<div>\n",
       "<style scoped>\n",
       "    .dataframe tbody tr th:only-of-type {\n",
       "        vertical-align: middle;\n",
       "    }\n",
       "\n",
       "    .dataframe tbody tr th {\n",
       "        vertical-align: top;\n",
       "    }\n",
       "\n",
       "    .dataframe thead th {\n",
       "        text-align: right;\n",
       "    }\n",
       "</style>\n",
       "<table border=\"1\" class=\"dataframe\">\n",
       "  <thead>\n",
       "    <tr style=\"text-align: right;\">\n",
       "      <th></th>\n",
       "      <th>Value</th>\n",
       "      <th>year</th>\n",
       "      <th>day</th>\n",
       "      <th>hour</th>\n",
       "      <th>q1_apcp</th>\n",
       "      <th>q1_ssrun</th>\n",
       "      <th>q1_snom</th>\n",
       "      <th>q1_soilm</th>\n",
       "      <th>q2_apcp</th>\n",
       "      <th>q2_ssrun</th>\n",
       "      <th>q2_snom</th>\n",
       "      <th>q2_soilm</th>\n",
       "      <th>q3_apcp</th>\n",
       "      <th>q3_ssrun</th>\n",
       "      <th>q3_snom</th>\n",
       "      <th>q3_soilm</th>\n",
       "      <th>q4_apcp</th>\n",
       "      <th>q4_ssrun</th>\n",
       "      <th>q4_snom</th>\n",
       "      <th>q4_soilm</th>\n",
       "    </tr>\n",
       "    <tr>\n",
       "      <th>time</th>\n",
       "      <th></th>\n",
       "      <th></th>\n",
       "      <th></th>\n",
       "      <th></th>\n",
       "      <th></th>\n",
       "      <th></th>\n",
       "      <th></th>\n",
       "      <th></th>\n",
       "      <th></th>\n",
       "      <th></th>\n",
       "      <th></th>\n",
       "      <th></th>\n",
       "      <th></th>\n",
       "      <th></th>\n",
       "      <th></th>\n",
       "      <th></th>\n",
       "      <th></th>\n",
       "      <th></th>\n",
       "      <th></th>\n",
       "      <th></th>\n",
       "    </tr>\n",
       "  </thead>\n",
       "  <tbody>\n",
       "    <tr>\n",
       "      <th>2017-06-04 03:00:00+00:00</th>\n",
       "      <td>326.866128</td>\n",
       "      <td>2017</td>\n",
       "      <td>155</td>\n",
       "      <td>3</td>\n",
       "      <td>0.012753</td>\n",
       "      <td>0.000306</td>\n",
       "      <td>0.0</td>\n",
       "      <td>261.59537</td>\n",
       "      <td>0.003907</td>\n",
       "      <td>0.000590</td>\n",
       "      <td>0.001180</td>\n",
       "      <td>112.610820</td>\n",
       "      <td>0.016332</td>\n",
       "      <td>0.002053</td>\n",
       "      <td>0.008617</td>\n",
       "      <td>165.2089</td>\n",
       "      <td>0.007825</td>\n",
       "      <td>0.000746</td>\n",
       "      <td>0.01812</td>\n",
       "      <td>123.577160</td>\n",
       "    </tr>\n",
       "    <tr>\n",
       "      <th>2017-06-04 04:00:00+00:00</th>\n",
       "      <td>324.017140</td>\n",
       "      <td>2017</td>\n",
       "      <td>155</td>\n",
       "      <td>4</td>\n",
       "      <td>0.012753</td>\n",
       "      <td>0.000306</td>\n",
       "      <td>0.0</td>\n",
       "      <td>261.59537</td>\n",
       "      <td>0.003907</td>\n",
       "      <td>0.000590</td>\n",
       "      <td>0.001180</td>\n",
       "      <td>112.610820</td>\n",
       "      <td>0.016332</td>\n",
       "      <td>0.002053</td>\n",
       "      <td>0.008617</td>\n",
       "      <td>165.2089</td>\n",
       "      <td>0.007825</td>\n",
       "      <td>0.000746</td>\n",
       "      <td>0.01812</td>\n",
       "      <td>123.577160</td>\n",
       "    </tr>\n",
       "    <tr>\n",
       "      <th>2017-06-04 05:00:00+00:00</th>\n",
       "      <td>321.168056</td>\n",
       "      <td>2017</td>\n",
       "      <td>155</td>\n",
       "      <td>5</td>\n",
       "      <td>0.001407</td>\n",
       "      <td>0.000000</td>\n",
       "      <td>0.0</td>\n",
       "      <td>261.57852</td>\n",
       "      <td>0.005590</td>\n",
       "      <td>0.000147</td>\n",
       "      <td>0.000295</td>\n",
       "      <td>112.600876</td>\n",
       "      <td>0.003626</td>\n",
       "      <td>0.000000</td>\n",
       "      <td>0.000000</td>\n",
       "      <td>165.2305</td>\n",
       "      <td>0.001960</td>\n",
       "      <td>0.000000</td>\n",
       "      <td>0.00316</td>\n",
       "      <td>123.596085</td>\n",
       "    </tr>\n",
       "    <tr>\n",
       "      <th>2017-06-04 06:00:00+00:00</th>\n",
       "      <td>318.726136</td>\n",
       "      <td>2017</td>\n",
       "      <td>155</td>\n",
       "      <td>6</td>\n",
       "      <td>0.001407</td>\n",
       "      <td>0.000000</td>\n",
       "      <td>0.0</td>\n",
       "      <td>261.57852</td>\n",
       "      <td>0.005590</td>\n",
       "      <td>0.000147</td>\n",
       "      <td>0.000295</td>\n",
       "      <td>112.600876</td>\n",
       "      <td>0.003626</td>\n",
       "      <td>0.000000</td>\n",
       "      <td>0.000000</td>\n",
       "      <td>165.2305</td>\n",
       "      <td>0.001960</td>\n",
       "      <td>0.000000</td>\n",
       "      <td>0.00316</td>\n",
       "      <td>123.596085</td>\n",
       "    </tr>\n",
       "    <tr>\n",
       "      <th>2017-06-04 07:00:00+00:00</th>\n",
       "      <td>317.505127</td>\n",
       "      <td>2017</td>\n",
       "      <td>155</td>\n",
       "      <td>7</td>\n",
       "      <td>0.001407</td>\n",
       "      <td>0.000000</td>\n",
       "      <td>0.0</td>\n",
       "      <td>261.57852</td>\n",
       "      <td>0.005590</td>\n",
       "      <td>0.000147</td>\n",
       "      <td>0.000295</td>\n",
       "      <td>112.600876</td>\n",
       "      <td>0.003626</td>\n",
       "      <td>0.000000</td>\n",
       "      <td>0.000000</td>\n",
       "      <td>165.2305</td>\n",
       "      <td>0.001960</td>\n",
       "      <td>0.000000</td>\n",
       "      <td>0.00316</td>\n",
       "      <td>123.596085</td>\n",
       "    </tr>\n",
       "  </tbody>\n",
       "</table>\n",
       "</div>"
      ],
      "text/plain": [
       "                                Value  year  day  hour   q1_apcp  q1_ssrun  \\\n",
       "time                                                                         \n",
       "2017-06-04 03:00:00+00:00  326.866128  2017  155     3  0.012753  0.000306   \n",
       "2017-06-04 04:00:00+00:00  324.017140  2017  155     4  0.012753  0.000306   \n",
       "2017-06-04 05:00:00+00:00  321.168056  2017  155     5  0.001407  0.000000   \n",
       "2017-06-04 06:00:00+00:00  318.726136  2017  155     6  0.001407  0.000000   \n",
       "2017-06-04 07:00:00+00:00  317.505127  2017  155     7  0.001407  0.000000   \n",
       "\n",
       "                           q1_snom   q1_soilm   q2_apcp  q2_ssrun   q2_snom  \\\n",
       "time                                                                          \n",
       "2017-06-04 03:00:00+00:00      0.0  261.59537  0.003907  0.000590  0.001180   \n",
       "2017-06-04 04:00:00+00:00      0.0  261.59537  0.003907  0.000590  0.001180   \n",
       "2017-06-04 05:00:00+00:00      0.0  261.57852  0.005590  0.000147  0.000295   \n",
       "2017-06-04 06:00:00+00:00      0.0  261.57852  0.005590  0.000147  0.000295   \n",
       "2017-06-04 07:00:00+00:00      0.0  261.57852  0.005590  0.000147  0.000295   \n",
       "\n",
       "                             q2_soilm   q3_apcp  q3_ssrun   q3_snom  q3_soilm  \\\n",
       "time                                                                            \n",
       "2017-06-04 03:00:00+00:00  112.610820  0.016332  0.002053  0.008617  165.2089   \n",
       "2017-06-04 04:00:00+00:00  112.610820  0.016332  0.002053  0.008617  165.2089   \n",
       "2017-06-04 05:00:00+00:00  112.600876  0.003626  0.000000  0.000000  165.2305   \n",
       "2017-06-04 06:00:00+00:00  112.600876  0.003626  0.000000  0.000000  165.2305   \n",
       "2017-06-04 07:00:00+00:00  112.600876  0.003626  0.000000  0.000000  165.2305   \n",
       "\n",
       "                            q4_apcp  q4_ssrun  q4_snom    q4_soilm  \n",
       "time                                                                \n",
       "2017-06-04 03:00:00+00:00  0.007825  0.000746  0.01812  123.577160  \n",
       "2017-06-04 04:00:00+00:00  0.007825  0.000746  0.01812  123.577160  \n",
       "2017-06-04 05:00:00+00:00  0.001960  0.000000  0.00316  123.596085  \n",
       "2017-06-04 06:00:00+00:00  0.001960  0.000000  0.00316  123.596085  \n",
       "2017-06-04 07:00:00+00:00  0.001960  0.000000  0.00316  123.596085  "
      ]
     },
     "execution_count": 3,
     "metadata": {},
     "output_type": "execute_result"
    }
   ],
   "source": [
    "df_train.tail()"
   ]
  },
  {
   "cell_type": "code",
   "execution_count": 4,
   "metadata": {},
   "outputs": [
    {
     "data": {
      "text/html": [
       "<div>\n",
       "<style scoped>\n",
       "    .dataframe tbody tr th:only-of-type {\n",
       "        vertical-align: middle;\n",
       "    }\n",
       "\n",
       "    .dataframe tbody tr th {\n",
       "        vertical-align: top;\n",
       "    }\n",
       "\n",
       "    .dataframe thead th {\n",
       "        text-align: right;\n",
       "    }\n",
       "</style>\n",
       "<table border=\"1\" class=\"dataframe\">\n",
       "  <thead>\n",
       "    <tr style=\"text-align: right;\">\n",
       "      <th></th>\n",
       "      <th>Value</th>\n",
       "      <th>year</th>\n",
       "      <th>day</th>\n",
       "      <th>hour</th>\n",
       "      <th>q1_apcp</th>\n",
       "      <th>q1_ssrun</th>\n",
       "      <th>q1_snom</th>\n",
       "      <th>q1_soilm</th>\n",
       "      <th>q2_apcp</th>\n",
       "      <th>q2_ssrun</th>\n",
       "      <th>q2_snom</th>\n",
       "      <th>q2_soilm</th>\n",
       "      <th>q3_apcp</th>\n",
       "      <th>q3_ssrun</th>\n",
       "      <th>q3_snom</th>\n",
       "      <th>q3_soilm</th>\n",
       "      <th>q4_apcp</th>\n",
       "      <th>q4_ssrun</th>\n",
       "      <th>q4_snom</th>\n",
       "      <th>q4_soilm</th>\n",
       "    </tr>\n",
       "    <tr>\n",
       "      <th>time</th>\n",
       "      <th></th>\n",
       "      <th></th>\n",
       "      <th></th>\n",
       "      <th></th>\n",
       "      <th></th>\n",
       "      <th></th>\n",
       "      <th></th>\n",
       "      <th></th>\n",
       "      <th></th>\n",
       "      <th></th>\n",
       "      <th></th>\n",
       "      <th></th>\n",
       "      <th></th>\n",
       "      <th></th>\n",
       "      <th></th>\n",
       "      <th></th>\n",
       "      <th></th>\n",
       "      <th></th>\n",
       "      <th></th>\n",
       "      <th></th>\n",
       "    </tr>\n",
       "  </thead>\n",
       "  <tbody>\n",
       "    <tr>\n",
       "      <th>2017-06-04 08:00:00+00:00</th>\n",
       "      <td>317.098060</td>\n",
       "      <td>2017</td>\n",
       "      <td>155</td>\n",
       "      <td>8</td>\n",
       "      <td>0.038223</td>\n",
       "      <td>0.003728</td>\n",
       "      <td>0.0</td>\n",
       "      <td>261.57413</td>\n",
       "      <td>0.016895</td>\n",
       "      <td>0.000901</td>\n",
       "      <td>0.000000</td>\n",
       "      <td>112.59958</td>\n",
       "      <td>0.015280</td>\n",
       "      <td>0.002053</td>\n",
       "      <td>0.000000</td>\n",
       "      <td>165.22772</td>\n",
       "      <td>0.010762</td>\n",
       "      <td>0.001468</td>\n",
       "      <td>0.002211</td>\n",
       "      <td>123.59748</td>\n",
       "    </tr>\n",
       "    <tr>\n",
       "      <th>2017-06-04 09:00:00+00:00</th>\n",
       "      <td>315.470081</td>\n",
       "      <td>2017</td>\n",
       "      <td>155</td>\n",
       "      <td>9</td>\n",
       "      <td>0.038223</td>\n",
       "      <td>0.003728</td>\n",
       "      <td>0.0</td>\n",
       "      <td>261.57413</td>\n",
       "      <td>0.016895</td>\n",
       "      <td>0.000901</td>\n",
       "      <td>0.000000</td>\n",
       "      <td>112.59958</td>\n",
       "      <td>0.015280</td>\n",
       "      <td>0.002053</td>\n",
       "      <td>0.000000</td>\n",
       "      <td>165.22772</td>\n",
       "      <td>0.010762</td>\n",
       "      <td>0.001468</td>\n",
       "      <td>0.002211</td>\n",
       "      <td>123.59748</td>\n",
       "    </tr>\n",
       "    <tr>\n",
       "      <th>2017-06-04 10:00:00+00:00</th>\n",
       "      <td>313.842102</td>\n",
       "      <td>2017</td>\n",
       "      <td>155</td>\n",
       "      <td>10</td>\n",
       "      <td>0.038223</td>\n",
       "      <td>0.003728</td>\n",
       "      <td>0.0</td>\n",
       "      <td>261.57413</td>\n",
       "      <td>0.016895</td>\n",
       "      <td>0.000901</td>\n",
       "      <td>0.000000</td>\n",
       "      <td>112.59958</td>\n",
       "      <td>0.015280</td>\n",
       "      <td>0.002053</td>\n",
       "      <td>0.000000</td>\n",
       "      <td>165.22772</td>\n",
       "      <td>0.010762</td>\n",
       "      <td>0.001468</td>\n",
       "      <td>0.002211</td>\n",
       "      <td>123.59748</td>\n",
       "    </tr>\n",
       "    <tr>\n",
       "      <th>2017-06-04 11:00:00+00:00</th>\n",
       "      <td>312.621093</td>\n",
       "      <td>2017</td>\n",
       "      <td>155</td>\n",
       "      <td>11</td>\n",
       "      <td>0.000754</td>\n",
       "      <td>0.000000</td>\n",
       "      <td>0.0</td>\n",
       "      <td>261.56510</td>\n",
       "      <td>0.001821</td>\n",
       "      <td>0.006194</td>\n",
       "      <td>0.011651</td>\n",
       "      <td>112.60146</td>\n",
       "      <td>0.001027</td>\n",
       "      <td>0.015953</td>\n",
       "      <td>0.032313</td>\n",
       "      <td>165.22100</td>\n",
       "      <td>0.000000</td>\n",
       "      <td>0.006605</td>\n",
       "      <td>0.053597</td>\n",
       "      <td>123.59874</td>\n",
       "    </tr>\n",
       "    <tr>\n",
       "      <th>2017-06-04 12:00:00+00:00</th>\n",
       "      <td>310.993114</td>\n",
       "      <td>2017</td>\n",
       "      <td>155</td>\n",
       "      <td>12</td>\n",
       "      <td>0.000754</td>\n",
       "      <td>0.000000</td>\n",
       "      <td>0.0</td>\n",
       "      <td>261.56510</td>\n",
       "      <td>0.001821</td>\n",
       "      <td>0.006194</td>\n",
       "      <td>0.011651</td>\n",
       "      <td>112.60146</td>\n",
       "      <td>0.001027</td>\n",
       "      <td>0.015953</td>\n",
       "      <td>0.032313</td>\n",
       "      <td>165.22100</td>\n",
       "      <td>0.000000</td>\n",
       "      <td>0.006605</td>\n",
       "      <td>0.053597</td>\n",
       "      <td>123.59874</td>\n",
       "    </tr>\n",
       "  </tbody>\n",
       "</table>\n",
       "</div>"
      ],
      "text/plain": [
       "                                Value  year  day  hour   q1_apcp  q1_ssrun  \\\n",
       "time                                                                         \n",
       "2017-06-04 08:00:00+00:00  317.098060  2017  155     8  0.038223  0.003728   \n",
       "2017-06-04 09:00:00+00:00  315.470081  2017  155     9  0.038223  0.003728   \n",
       "2017-06-04 10:00:00+00:00  313.842102  2017  155    10  0.038223  0.003728   \n",
       "2017-06-04 11:00:00+00:00  312.621093  2017  155    11  0.000754  0.000000   \n",
       "2017-06-04 12:00:00+00:00  310.993114  2017  155    12  0.000754  0.000000   \n",
       "\n",
       "                           q1_snom   q1_soilm   q2_apcp  q2_ssrun   q2_snom  \\\n",
       "time                                                                          \n",
       "2017-06-04 08:00:00+00:00      0.0  261.57413  0.016895  0.000901  0.000000   \n",
       "2017-06-04 09:00:00+00:00      0.0  261.57413  0.016895  0.000901  0.000000   \n",
       "2017-06-04 10:00:00+00:00      0.0  261.57413  0.016895  0.000901  0.000000   \n",
       "2017-06-04 11:00:00+00:00      0.0  261.56510  0.001821  0.006194  0.011651   \n",
       "2017-06-04 12:00:00+00:00      0.0  261.56510  0.001821  0.006194  0.011651   \n",
       "\n",
       "                            q2_soilm   q3_apcp  q3_ssrun   q3_snom   q3_soilm  \\\n",
       "time                                                                            \n",
       "2017-06-04 08:00:00+00:00  112.59958  0.015280  0.002053  0.000000  165.22772   \n",
       "2017-06-04 09:00:00+00:00  112.59958  0.015280  0.002053  0.000000  165.22772   \n",
       "2017-06-04 10:00:00+00:00  112.59958  0.015280  0.002053  0.000000  165.22772   \n",
       "2017-06-04 11:00:00+00:00  112.60146  0.001027  0.015953  0.032313  165.22100   \n",
       "2017-06-04 12:00:00+00:00  112.60146  0.001027  0.015953  0.032313  165.22100   \n",
       "\n",
       "                            q4_apcp  q4_ssrun   q4_snom   q4_soilm  \n",
       "time                                                                \n",
       "2017-06-04 08:00:00+00:00  0.010762  0.001468  0.002211  123.59748  \n",
       "2017-06-04 09:00:00+00:00  0.010762  0.001468  0.002211  123.59748  \n",
       "2017-06-04 10:00:00+00:00  0.010762  0.001468  0.002211  123.59748  \n",
       "2017-06-04 11:00:00+00:00  0.000000  0.006605  0.053597  123.59874  \n",
       "2017-06-04 12:00:00+00:00  0.000000  0.006605  0.053597  123.59874  "
      ]
     },
     "execution_count": 4,
     "metadata": {},
     "output_type": "execute_result"
    }
   ],
   "source": [
    "df_val.head()"
   ]
  },
  {
   "cell_type": "markdown",
   "metadata": {},
   "source": [
    "## Train the model"
   ]
  },
  {
   "cell_type": "markdown",
   "metadata": {},
   "source": [
    "To train the model, three different sets of predictor are used. The first set is only the lagged flow data, the next set includes precipitation and surface runoff for only the quater of NARR data closest to the gauge. The final set again includes precipitation and surface runoff, but also included soil moisture for the quater of the watershed closest to the gauge. These predictors can be changed in the [`QR_train.py`](https://github.ubc.ca/MDS-2019-20/DSCI_591-BGC/blob/data_product/doc/Linear_Quantile_Reg/QR_train.py) script."
   ]
  },
  {
   "cell_type": "markdown",
   "metadata": {},
   "source": [
    "Please run `python QR_train.py` in the terminal if you want to re-train the models and re-save the predicted results in the `data/pickle` folder as pickle files. It may take long to train the model. Please note that the parameters of the models and the predictors can be changed in the [script](https://github.ubc.ca/MDS-2019-20/DSCI_591-BGC/blob/data_product/doc/Linear_Quantile_Reg/QR_train.py).\n",
    "\n",
    "**NOTE**: You **DO NOT** need to train the model to run this notebook. The results have already been stored in the `data/pickle` folder."
   ]
  },
  {
   "cell_type": "code",
   "execution_count": 5,
   "metadata": {},
   "outputs": [],
   "source": [
    "# Read result of model without NARR from the saved pickle files\n",
    "with open('../../data/pickle/qr_without_NARR.pickle', 'rb') as handle:\n",
    "    without_NARR = pickle.load(handle)"
   ]
  },
  {
   "cell_type": "markdown",
   "metadata": {},
   "source": [
    "The results of the linear quantile regression model with different predictors are shown below. Comparing the first plot of only flow data, to the second plot with total accumulative precipitation and surface runoff we can see that the distributions narrow with the additon of the spatial variables. \n",
    "\n",
    "The addition of the soil moisture doesn't narrow the distribution, but it centers the predicted values within the distribution. This shows that the addition of the soil moisture creates a distribution more likley to include higher flow values, which is valuable as we are concerned with high flow events."
   ]
  },
  {
   "cell_type": "code",
   "execution_count": 6,
   "metadata": {},
   "outputs": [
    {
     "data": {
      "application/vnd.vegalite.v4+json": {
       "$schema": "https://vega.github.io/schema/vega-lite/v4.0.2.json",
       "config": {
        "view": {
         "continuousHeight": 300,
         "continuousWidth": 400
        }
       },
       "height": 400,
       "layer": [
        {
         "data": {
          "format": {
           "type": "json"
          },
          "url": "altair-data-6310a8652663d2f356c8e6beaa773d10.json"
         },
         "encoding": {
          "color": {
           "field": "legend",
           "scale": {
            "domain": [
             "true flow",
             "quantile predictions"
            ],
            "range": [
             "red",
             "grey"
            ]
           },
           "type": "nominal"
          },
          "x": {
           "axis": {
            "labelAngle": 0
           },
           "field": "step",
           "title": "Step",
           "type": "nominal"
          },
          "y": {
           "field": "value",
           "scale": {
            "zero": false
           },
           "title": "Flow (m^3/s)",
           "type": "quantitative"
          }
         },
         "mark": {
          "opacity": 0.2,
          "type": "line"
         }
        },
        {
         "data": {
          "format": {
           "type": "json"
          },
          "url": "altair-data-5ef74ac3de0a24762e7184736e2af207.json"
         },
         "encoding": {
          "color": {
           "field": "legend",
           "scale": {
            "domain": [
             "true flow",
             "quantile predictions"
            ],
            "range": [
             "red",
             "gray"
            ]
           },
           "type": "nominal"
          },
          "x": {
           "axis": {
            "labelAngle": 0
           },
           "field": "step",
           "title": "Step",
           "type": "nominal"
          },
          "y": {
           "field": "value",
           "scale": {
            "zero": false
           },
           "title": "Flow (m^3/s)",
           "type": "quantitative"
          }
         },
         "mark": {
          "opacity": 0.2,
          "type": "line"
         }
        },
        {
         "data": {
          "format": {
           "type": "json"
          },
          "url": "altair-data-4dfab90bd3b65e14a6c8a83d67eb58af.json"
         },
         "encoding": {
          "color": {
           "field": "legend",
           "scale": {
            "domain": [
             "true flow",
             "quantile predictions"
            ],
            "range": [
             "red",
             "gray"
            ]
           },
           "type": "nominal"
          },
          "x": {
           "axis": {
            "labelAngle": 0
           },
           "field": "step",
           "title": "Step",
           "type": "nominal"
          },
          "y": {
           "field": "value",
           "scale": {
            "zero": false
           },
           "title": "Flow (m^3/s)",
           "type": "quantitative"
          }
         },
         "mark": {
          "opacity": 0.2,
          "type": "line"
         }
        },
        {
         "data": {
          "format": {
           "type": "json"
          },
          "url": "altair-data-a1056a2cc09ce276fb31b34dd1cdc448.json"
         },
         "encoding": {
          "color": {
           "field": "legend",
           "scale": {
            "domain": [
             "true flow",
             "quantile predictions"
            ],
            "range": [
             "red",
             "gray"
            ]
           },
           "type": "nominal"
          },
          "x": {
           "axis": {
            "labelAngle": 0
           },
           "field": "step",
           "title": "Step",
           "type": "nominal"
          },
          "y": {
           "field": "value",
           "scale": {
            "zero": false
           },
           "title": "Flow (m^3/s)",
           "type": "quantitative"
          }
         },
         "mark": {
          "opacity": 0.2,
          "type": "line"
         }
        },
        {
         "data": {
          "format": {
           "type": "json"
          },
          "url": "altair-data-129760d1b4b6ed2ab6b0de51901fceaa.json"
         },
         "encoding": {
          "color": {
           "field": "legend",
           "scale": {
            "domain": [
             "true flow",
             "quantile predictions"
            ],
            "range": [
             "red",
             "gray"
            ]
           },
           "type": "nominal"
          },
          "x": {
           "axis": {
            "labelAngle": 0
           },
           "field": "step",
           "title": "Step",
           "type": "nominal"
          },
          "y": {
           "field": "value",
           "scale": {
            "zero": false
           },
           "title": "Flow (m^3/s)",
           "type": "quantitative"
          }
         },
         "mark": {
          "opacity": 0.2,
          "type": "line"
         }
        },
        {
         "data": {
          "format": {
           "type": "json"
          },
          "url": "altair-data-cb1c776ea3d2ea15bdab679cd767b5da.json"
         },
         "encoding": {
          "color": {
           "field": "legend",
           "scale": {
            "domain": [
             "true flow",
             "quantile predictions"
            ],
            "range": [
             "red",
             "gray"
            ]
           },
           "type": "nominal"
          },
          "x": {
           "axis": {
            "labelAngle": 0
           },
           "field": "step",
           "title": "Step",
           "type": "nominal"
          },
          "y": {
           "field": "value",
           "scale": {
            "zero": false
           },
           "title": "Flow (m^3/s)",
           "type": "quantitative"
          }
         },
         "mark": {
          "opacity": 0.2,
          "type": "line"
         }
        },
        {
         "data": {
          "format": {
           "type": "json"
          },
          "url": "altair-data-7c5e5e74f06d51da70565d336514f4a8.json"
         },
         "encoding": {
          "color": {
           "field": "legend",
           "scale": {
            "domain": [
             "true flow",
             "quantile predictions"
            ],
            "range": [
             "red",
             "gray"
            ]
           },
           "type": "nominal"
          },
          "x": {
           "axis": {
            "labelAngle": 0
           },
           "field": "step",
           "title": "Step",
           "type": "nominal"
          },
          "y": {
           "field": "value",
           "scale": {
            "zero": false
           },
           "title": "Flow (m^3/s)",
           "type": "quantitative"
          }
         },
         "mark": {
          "opacity": 0.2,
          "type": "line"
         }
        },
        {
         "data": {
          "format": {
           "type": "json"
          },
          "url": "altair-data-5cdce57ec5d9ac180efc71ab701283ab.json"
         },
         "encoding": {
          "color": {
           "field": "legend",
           "scale": {
            "domain": [
             "true flow",
             "quantile predictions"
            ],
            "range": [
             "red",
             "gray"
            ]
           },
           "type": "nominal"
          },
          "x": {
           "axis": {
            "labelAngle": 0
           },
           "field": "step",
           "title": "Step",
           "type": "nominal"
          },
          "y": {
           "field": "value",
           "scale": {
            "zero": false
           },
           "title": "Flow (m^3/s)",
           "type": "quantitative"
          }
         },
         "mark": {
          "opacity": 0.2,
          "type": "line"
         }
        },
        {
         "data": {
          "format": {
           "type": "json"
          },
          "url": "altair-data-3059d5ddb3a188b6646186116ea50124.json"
         },
         "encoding": {
          "color": {
           "field": "legend",
           "scale": {
            "domain": [
             "true flow",
             "quantile predictions"
            ],
            "range": [
             "red",
             "gray"
            ]
           },
           "type": "nominal"
          },
          "x": {
           "axis": {
            "labelAngle": 0
           },
           "field": "step",
           "title": "Step",
           "type": "nominal"
          },
          "y": {
           "field": "value",
           "scale": {
            "zero": false
           },
           "title": "Flow (m^3/s)",
           "type": "quantitative"
          }
         },
         "mark": {
          "opacity": 0.2,
          "type": "line"
         }
        },
        {
         "data": {
          "format": {
           "type": "json"
          },
          "url": "altair-data-e346d0ed0072c416dde550abc69365f0.json"
         },
         "encoding": {
          "color": {
           "field": "legend",
           "scale": {
            "domain": [
             "true flow",
             "quantile predictions"
            ],
            "range": [
             "red",
             "gray"
            ]
           },
           "type": "nominal"
          },
          "x": {
           "axis": {
            "labelAngle": 0
           },
           "field": "step",
           "title": "Step",
           "type": "nominal"
          },
          "y": {
           "field": "value",
           "scale": {
            "zero": false
           },
           "title": "Flow (m^3/s)",
           "type": "quantitative"
          }
         },
         "mark": {
          "opacity": 0.2,
          "type": "line"
         }
        },
        {
         "data": {
          "format": {
           "type": "json"
          },
          "url": "altair-data-9944bad8be49670e1e4db2fb3ea5e250.json"
         },
         "encoding": {
          "color": {
           "field": "legend",
           "scale": {
            "domain": [
             "true flow",
             "quantile predictions"
            ],
            "range": [
             "red",
             "gray"
            ]
           },
           "type": "nominal"
          },
          "x": {
           "axis": {
            "labelAngle": 0
           },
           "field": "step",
           "title": "Step",
           "type": "nominal"
          },
          "y": {
           "field": "value",
           "scale": {
            "zero": false
           },
           "title": "Flow (m^3/s)",
           "type": "quantitative"
          }
         },
         "mark": {
          "opacity": 0.2,
          "type": "line"
         }
        },
        {
         "data": {
          "format": {
           "type": "json"
          },
          "url": "altair-data-811f11cd2f6eabd5d236948687fe0caf.json"
         },
         "encoding": {
          "color": {
           "field": "legend",
           "scale": {
            "domain": [
             "true flow",
             "quantile predictions"
            ],
            "range": [
             "red",
             "gray"
            ]
           },
           "type": "nominal"
          },
          "x": {
           "axis": {
            "labelAngle": 0
           },
           "field": "step",
           "title": "Step",
           "type": "nominal"
          },
          "y": {
           "field": "value",
           "scale": {
            "zero": false
           },
           "title": "Flow (m^3/s)",
           "type": "quantitative"
          }
         },
         "mark": {
          "opacity": 0.2,
          "type": "line"
         }
        },
        {
         "data": {
          "format": {
           "type": "json"
          },
          "url": "altair-data-dec0ad9d1d1b26649b6a76def274f22e.json"
         },
         "encoding": {
          "color": {
           "field": "legend",
           "scale": {
            "domain": [
             "true flow",
             "quantile predictions"
            ],
            "range": [
             "red",
             "gray"
            ]
           },
           "type": "nominal"
          },
          "x": {
           "axis": {
            "labelAngle": 0
           },
           "field": "step",
           "title": "Step",
           "type": "nominal"
          },
          "y": {
           "field": "value",
           "scale": {
            "zero": false
           },
           "title": "Flow (m^3/s)",
           "type": "quantitative"
          }
         },
         "mark": {
          "opacity": 0.2,
          "type": "line"
         }
        },
        {
         "data": {
          "format": {
           "type": "json"
          },
          "url": "altair-data-5e20a9fcca788f9e408d5ecba8ba3034.json"
         },
         "encoding": {
          "color": {
           "field": "legend",
           "scale": {
            "domain": [
             "true flow",
             "quantile predictions"
            ],
            "range": [
             "red",
             "gray"
            ]
           },
           "type": "nominal"
          },
          "x": {
           "axis": {
            "labelAngle": 0
           },
           "field": "step",
           "title": "Step",
           "type": "nominal"
          },
          "y": {
           "field": "value",
           "scale": {
            "zero": false
           },
           "title": "Flow (m^3/s)",
           "type": "quantitative"
          }
         },
         "mark": {
          "opacity": 0.2,
          "type": "line"
         }
        },
        {
         "data": {
          "format": {
           "type": "json"
          },
          "url": "altair-data-6d07ccc3140348e36e0d21fafc082d91.json"
         },
         "encoding": {
          "color": {
           "field": "legend",
           "scale": {
            "domain": [
             "true flow",
             "quantile predictions"
            ],
            "range": [
             "red",
             "gray"
            ]
           },
           "type": "nominal"
          },
          "x": {
           "axis": {
            "labelAngle": 0
           },
           "field": "step",
           "title": "Step",
           "type": "nominal"
          },
          "y": {
           "field": "value",
           "scale": {
            "zero": false
           },
           "title": "Flow (m^3/s)",
           "type": "quantitative"
          }
         },
         "mark": {
          "opacity": 0.2,
          "type": "line"
         }
        },
        {
         "data": {
          "format": {
           "type": "json"
          },
          "url": "altair-data-a1e8969d6ad732919ea97c9b7db4729c.json"
         },
         "encoding": {
          "color": {
           "field": "legend",
           "scale": {
            "domain": [
             "true flow",
             "quantile predictions"
            ],
            "range": [
             "red",
             "gray"
            ]
           },
           "type": "nominal"
          },
          "x": {
           "axis": {
            "labelAngle": 0
           },
           "field": "step",
           "title": "Step",
           "type": "nominal"
          },
          "y": {
           "field": "value",
           "scale": {
            "zero": false
           },
           "title": "Flow (m^3/s)",
           "type": "quantitative"
          }
         },
         "mark": {
          "opacity": 0.2,
          "type": "line"
         }
        },
        {
         "data": {
          "format": {
           "type": "json"
          },
          "url": "altair-data-523c4fda0ab1c698b75b42f1be713022.json"
         },
         "encoding": {
          "color": {
           "field": "legend",
           "scale": {
            "domain": [
             "true flow",
             "quantile predictions"
            ],
            "range": [
             "red",
             "gray"
            ]
           },
           "type": "nominal"
          },
          "x": {
           "axis": {
            "labelAngle": 0
           },
           "field": "step",
           "title": "Step",
           "type": "nominal"
          },
          "y": {
           "field": "value",
           "scale": {
            "zero": false
           },
           "title": "Flow (m^3/s)",
           "type": "quantitative"
          }
         },
         "mark": {
          "opacity": 0.2,
          "type": "line"
         }
        },
        {
         "data": {
          "format": {
           "type": "json"
          },
          "url": "altair-data-f31d013ef1309d7cad897bbdcaf10381.json"
         },
         "encoding": {
          "color": {
           "field": "legend",
           "scale": {
            "domain": [
             "true flow",
             "quantile predictions"
            ],
            "range": [
             "red",
             "gray"
            ]
           },
           "type": "nominal"
          },
          "x": {
           "axis": {
            "labelAngle": 0
           },
           "field": "step",
           "title": "Step",
           "type": "nominal"
          },
          "y": {
           "field": "value",
           "scale": {
            "zero": false
           },
           "title": "Flow (m^3/s)",
           "type": "quantitative"
          }
         },
         "mark": {
          "opacity": 0.2,
          "type": "line"
         }
        },
        {
         "data": {
          "format": {
           "type": "json"
          },
          "url": "altair-data-ed58b459ac8b8d3bb005a2347ff42a3d.json"
         },
         "encoding": {
          "color": {
           "field": "legend",
           "scale": {
            "domain": [
             "true flow",
             "quantile predictions"
            ],
            "range": [
             "red",
             "gray"
            ]
           },
           "type": "nominal"
          },
          "x": {
           "axis": {
            "labelAngle": 0
           },
           "field": "step",
           "title": "Step",
           "type": "nominal"
          },
          "y": {
           "field": "value",
           "scale": {
            "zero": false
           },
           "title": "Flow (m^3/s)",
           "type": "quantitative"
          }
         },
         "mark": {
          "opacity": 0.2,
          "type": "line"
         }
        },
        {
         "data": {
          "format": {
           "type": "json"
          },
          "url": "altair-data-0c4be2d392aa172d1bd408c3e8f874ac.json"
         },
         "encoding": {
          "color": {
           "field": "legend",
           "scale": {
            "domain": [
             "true flow",
             "quantile predictions"
            ],
            "range": [
             "red",
             "gray"
            ]
           },
           "type": "nominal"
          },
          "x": {
           "axis": {
            "labelAngle": 0
           },
           "field": "step",
           "title": "Step",
           "type": "nominal"
          },
          "y": {
           "field": "value",
           "scale": {
            "zero": false
           },
           "title": "Flow (m^3/s)",
           "type": "quantitative"
          }
         },
         "mark": {
          "opacity": 0.2,
          "type": "line"
         }
        },
        {
         "data": {
          "format": {
           "type": "json"
          },
          "url": "altair-data-c131affe5486a97124988161ef4f660d.json"
         },
         "encoding": {
          "color": {
           "field": "legend",
           "scale": {
            "domain": [
             "true flow",
             "quantile predictions"
            ],
            "range": [
             "red",
             "gray"
            ]
           },
           "type": "nominal"
          },
          "x": {
           "axis": {
            "labelAngle": 0
           },
           "field": "step",
           "title": "Step",
           "type": "nominal"
          },
          "y": {
           "field": "value",
           "scale": {
            "zero": false
           },
           "title": "Flow (m^3/s)",
           "type": "quantitative"
          }
         },
         "mark": {
          "opacity": 0.2,
          "type": "line"
         }
        },
        {
         "data": {
          "format": {
           "type": "json"
          },
          "url": "altair-data-909d6f9f6649953eeebaf597d6442f58.json"
         },
         "encoding": {
          "color": {
           "field": "legend",
           "scale": {
            "domain": [
             "true flow",
             "quantile predictions"
            ],
            "range": [
             "red",
             "gray"
            ]
           },
           "type": "nominal"
          },
          "x": {
           "axis": {
            "labelAngle": 0
           },
           "field": "step",
           "title": "Step",
           "type": "nominal"
          },
          "y": {
           "field": "value",
           "scale": {
            "zero": false
           },
           "title": "Flow (m^3/s)",
           "type": "quantitative"
          }
         },
         "mark": {
          "opacity": 0.2,
          "type": "line"
         }
        },
        {
         "data": {
          "format": {
           "type": "json"
          },
          "url": "altair-data-a7234046e07fa1c2a715dfe7ebd5128f.json"
         },
         "encoding": {
          "color": {
           "field": "legend",
           "scale": {
            "domain": [
             "true flow",
             "quantile predictions"
            ],
            "range": [
             "red",
             "gray"
            ]
           },
           "type": "nominal"
          },
          "x": {
           "axis": {
            "labelAngle": 0
           },
           "field": "step",
           "title": "Step",
           "type": "nominal"
          },
          "y": {
           "field": "value",
           "scale": {
            "zero": false
           },
           "title": "Flow (m^3/s)",
           "type": "quantitative"
          }
         },
         "mark": {
          "opacity": 0.2,
          "type": "line"
         }
        },
        {
         "data": {
          "format": {
           "type": "json"
          },
          "url": "altair-data-b0932b7d3699835ab6c727ba14c61d89.json"
         },
         "encoding": {
          "color": {
           "field": "legend",
           "scale": {
            "domain": [
             "true flow",
             "quantile predictions"
            ],
            "range": [
             "red",
             "gray"
            ]
           },
           "type": "nominal"
          },
          "x": {
           "axis": {
            "labelAngle": 0
           },
           "field": "step",
           "title": "Step",
           "type": "nominal"
          },
          "y": {
           "field": "value",
           "scale": {
            "zero": false
           },
           "title": "Flow (m^3/s)",
           "type": "quantitative"
          }
         },
         "mark": {
          "opacity": 0.2,
          "type": "line"
         }
        },
        {
         "data": {
          "format": {
           "type": "json"
          },
          "url": "altair-data-54d61dcd119aea4ca31f093b93815576.json"
         },
         "encoding": {
          "color": {
           "field": "legend",
           "scale": {
            "domain": [
             "true flow",
             "quantile predictions"
            ],
            "range": [
             "red",
             "gray"
            ]
           },
           "type": "nominal"
          },
          "x": {
           "axis": {
            "labelAngle": 0
           },
           "field": "step",
           "title": "Step",
           "type": "nominal"
          },
          "y": {
           "field": "value",
           "scale": {
            "zero": false
           },
           "title": "Flow (m^3/s)",
           "type": "quantitative"
          }
         },
         "mark": {
          "opacity": 0.2,
          "type": "line"
         }
        },
        {
         "data": {
          "format": {
           "type": "json"
          },
          "url": "altair-data-70a215772e2d3b7e44acd86e23575fc7.json"
         },
         "encoding": {
          "color": {
           "field": "legend",
           "scale": {
            "domain": [
             "true flow",
             "quantile predictions"
            ],
            "range": [
             "red",
             "gray"
            ]
           },
           "type": "nominal"
          },
          "x": {
           "axis": {
            "labelAngle": 0
           },
           "field": "step",
           "title": "Step",
           "type": "nominal"
          },
          "y": {
           "field": "value",
           "scale": {
            "zero": false
           },
           "title": "Flow (m^3/s)",
           "type": "quantitative"
          }
         },
         "mark": {
          "opacity": 0.2,
          "type": "line"
         }
        },
        {
         "data": {
          "format": {
           "type": "json"
          },
          "url": "altair-data-71eee29b5c91b4a91cc7d1d1d040c59f.json"
         },
         "encoding": {
          "color": {
           "field": "legend",
           "scale": {
            "domain": [
             "true flow",
             "quantile predictions"
            ],
            "range": [
             "red",
             "gray"
            ]
           },
           "type": "nominal"
          },
          "x": {
           "axis": {
            "labelAngle": 0
           },
           "field": "step",
           "title": "Step",
           "type": "nominal"
          },
          "y": {
           "field": "value",
           "scale": {
            "zero": false
           },
           "title": "Flow (m^3/s)",
           "type": "quantitative"
          }
         },
         "mark": {
          "opacity": 0.2,
          "type": "line"
         }
        },
        {
         "data": {
          "format": {
           "type": "json"
          },
          "url": "altair-data-a1c35a001fe4237391d56687fe33a8b3.json"
         },
         "encoding": {
          "color": {
           "field": "legend",
           "scale": {
            "domain": [
             "true flow",
             "quantile predictions"
            ],
            "range": [
             "red",
             "gray"
            ]
           },
           "type": "nominal"
          },
          "x": {
           "axis": {
            "labelAngle": 0
           },
           "field": "step",
           "title": "Step",
           "type": "nominal"
          },
          "y": {
           "field": "value",
           "scale": {
            "zero": false
           },
           "title": "Flow (m^3/s)",
           "type": "quantitative"
          }
         },
         "mark": {
          "opacity": 0.2,
          "type": "line"
         }
        },
        {
         "data": {
          "format": {
           "type": "json"
          },
          "url": "altair-data-878d0b86d93172fa10def32f4d5d19ae.json"
         },
         "encoding": {
          "color": {
           "field": "legend",
           "scale": {
            "domain": [
             "true flow",
             "quantile predictions"
            ],
            "range": [
             "red",
             "gray"
            ]
           },
           "type": "nominal"
          },
          "x": {
           "axis": {
            "labelAngle": 0
           },
           "field": "step",
           "title": "Step",
           "type": "nominal"
          },
          "y": {
           "field": "value",
           "scale": {
            "zero": false
           },
           "title": "Flow (m^3/s)",
           "type": "quantitative"
          }
         },
         "mark": {
          "opacity": 0.2,
          "type": "line"
         }
        },
        {
         "data": {
          "format": {
           "type": "json"
          },
          "url": "altair-data-161a08df13b02e75d14e354a6d5139d8.json"
         },
         "encoding": {
          "color": {
           "field": "legend",
           "scale": {
            "domain": [
             "true flow",
             "quantile predictions"
            ],
            "range": [
             "red",
             "gray"
            ]
           },
           "type": "nominal"
          },
          "x": {
           "axis": {
            "labelAngle": 0
           },
           "field": "step",
           "title": "Step",
           "type": "nominal"
          },
          "y": {
           "field": "value",
           "scale": {
            "zero": false
           },
           "title": "Flow (m^3/s)",
           "type": "quantitative"
          }
         },
         "mark": {
          "opacity": 0.2,
          "type": "line"
         }
        },
        {
         "data": {
          "format": {
           "type": "json"
          },
          "url": "altair-data-889bd9bc7689ee8f011b387cd1113cac.json"
         },
         "encoding": {
          "color": {
           "field": "legend",
           "scale": {
            "domain": [
             "true flow",
             "quantile predictions"
            ],
            "range": [
             "red",
             "gray"
            ]
           },
           "type": "nominal"
          },
          "x": {
           "axis": {
            "labelAngle": 0
           },
           "field": "step",
           "title": "Step",
           "type": "nominal"
          },
          "y": {
           "field": "value",
           "scale": {
            "zero": false
           },
           "title": "Flow (m^3/s)",
           "type": "quantitative"
          }
         },
         "mark": {
          "opacity": 0.2,
          "type": "line"
         }
        },
        {
         "data": {
          "format": {
           "type": "json"
          },
          "url": "altair-data-af4b6ed1494b91823c3380f8bc582ae0.json"
         },
         "encoding": {
          "color": {
           "field": "legend",
           "scale": {
            "domain": [
             "true flow",
             "quantile predictions"
            ],
            "range": [
             "red",
             "gray"
            ]
           },
           "type": "nominal"
          },
          "x": {
           "axis": {
            "labelAngle": 0
           },
           "field": "step",
           "title": "Step",
           "type": "nominal"
          },
          "y": {
           "field": "value",
           "scale": {
            "zero": false
           },
           "title": "Flow (m^3/s)",
           "type": "quantitative"
          }
         },
         "mark": {
          "opacity": 0.2,
          "type": "line"
         }
        },
        {
         "data": {
          "format": {
           "type": "json"
          },
          "url": "altair-data-4500d0e1ce16d4da0b001e1b1f7f94b6.json"
         },
         "encoding": {
          "color": {
           "field": "legend",
           "scale": {
            "domain": [
             "true flow",
             "quantile predictions"
            ],
            "range": [
             "red",
             "gray"
            ]
           },
           "type": "nominal"
          },
          "x": {
           "axis": {
            "labelAngle": 0
           },
           "field": "step",
           "title": "Step",
           "type": "nominal"
          },
          "y": {
           "field": "value",
           "scale": {
            "zero": false
           },
           "title": "Flow (m^3/s)",
           "type": "quantitative"
          }
         },
         "mark": {
          "opacity": 0.2,
          "type": "line"
         }
        },
        {
         "data": {
          "format": {
           "type": "json"
          },
          "url": "altair-data-6c216fce86a92ced3cf061bff4e9875f.json"
         },
         "encoding": {
          "color": {
           "field": "legend",
           "scale": {
            "domain": [
             "true flow",
             "quantile predictions"
            ],
            "range": [
             "red",
             "gray"
            ]
           },
           "type": "nominal"
          },
          "x": {
           "axis": {
            "labelAngle": 0
           },
           "field": "step",
           "title": "Step",
           "type": "nominal"
          },
          "y": {
           "field": "value",
           "scale": {
            "zero": false
           },
           "title": "Flow (m^3/s)",
           "type": "quantitative"
          }
         },
         "mark": {
          "opacity": 0.2,
          "type": "line"
         }
        },
        {
         "data": {
          "format": {
           "type": "json"
          },
          "url": "altair-data-60446487dc15cdd81ddf66fef5255095.json"
         },
         "encoding": {
          "color": {
           "field": "legend",
           "scale": {
            "domain": [
             "true flow",
             "quantile predictions"
            ],
            "range": [
             "red",
             "gray"
            ]
           },
           "type": "nominal"
          },
          "x": {
           "axis": {
            "labelAngle": 0
           },
           "field": "step",
           "title": "Step",
           "type": "nominal"
          },
          "y": {
           "field": "value",
           "scale": {
            "zero": false
           },
           "title": "Flow (m^3/s)",
           "type": "quantitative"
          }
         },
         "mark": {
          "opacity": 0.2,
          "type": "line"
         }
        },
        {
         "data": {
          "format": {
           "type": "json"
          },
          "url": "altair-data-fcb133126eeb5cd16c61f8d7e23a9f5f.json"
         },
         "encoding": {
          "color": {
           "field": "legend",
           "scale": {
            "domain": [
             "true flow",
             "quantile predictions"
            ],
            "range": [
             "red",
             "gray"
            ]
           },
           "type": "nominal"
          },
          "x": {
           "axis": {
            "labelAngle": 0
           },
           "field": "step",
           "title": "Step",
           "type": "nominal"
          },
          "y": {
           "field": "value",
           "scale": {
            "zero": false
           },
           "title": "Flow (m^3/s)",
           "type": "quantitative"
          }
         },
         "mark": {
          "opacity": 0.2,
          "type": "line"
         }
        },
        {
         "data": {
          "format": {
           "type": "json"
          },
          "url": "altair-data-ef1d651fe36f1333fae68531c5e48e4e.json"
         },
         "encoding": {
          "color": {
           "field": "legend",
           "scale": {
            "domain": [
             "true flow",
             "quantile predictions"
            ],
            "range": [
             "red",
             "gray"
            ]
           },
           "type": "nominal"
          },
          "x": {
           "axis": {
            "labelAngle": 0
           },
           "field": "step",
           "title": "Step",
           "type": "nominal"
          },
          "y": {
           "field": "value",
           "scale": {
            "zero": false
           },
           "title": "Flow (m^3/s)",
           "type": "quantitative"
          }
         },
         "mark": {
          "opacity": 0.2,
          "type": "line"
         }
        },
        {
         "data": {
          "format": {
           "type": "json"
          },
          "url": "altair-data-fa5aedf373faf1cd72f1dc3123319896.json"
         },
         "encoding": {
          "color": {
           "field": "legend",
           "scale": {
            "domain": [
             "true flow",
             "quantile predictions"
            ],
            "range": [
             "red",
             "gray"
            ]
           },
           "type": "nominal"
          },
          "x": {
           "axis": {
            "labelAngle": 0
           },
           "field": "step",
           "title": "Step",
           "type": "nominal"
          },
          "y": {
           "field": "value",
           "scale": {
            "zero": false
           },
           "title": "Flow (m^3/s)",
           "type": "quantitative"
          }
         },
         "mark": {
          "opacity": 0.2,
          "type": "line"
         }
        },
        {
         "data": {
          "format": {
           "type": "json"
          },
          "url": "altair-data-aa20a2395f853c4c11dfd1179837aafa.json"
         },
         "encoding": {
          "color": {
           "field": "legend",
           "scale": {
            "domain": [
             "true flow",
             "quantile predictions"
            ],
            "range": [
             "red",
             "gray"
            ]
           },
           "type": "nominal"
          },
          "x": {
           "axis": {
            "labelAngle": 0
           },
           "field": "step",
           "title": "Step",
           "type": "nominal"
          },
          "y": {
           "field": "value",
           "scale": {
            "zero": false
           },
           "title": "Flow (m^3/s)",
           "type": "quantitative"
          }
         },
         "mark": {
          "opacity": 0.2,
          "type": "line"
         }
        },
        {
         "data": {
          "format": {
           "type": "json"
          },
          "url": "altair-data-7b6bd71c67ec853c17d6ecebd2c4d6b8.json"
         },
         "encoding": {
          "color": {
           "field": "legend",
           "scale": {
            "domain": [
             "true flow",
             "quantile predictions"
            ],
            "range": [
             "red",
             "gray"
            ]
           },
           "type": "nominal"
          },
          "x": {
           "axis": {
            "labelAngle": 0
           },
           "field": "step",
           "title": "Step",
           "type": "nominal"
          },
          "y": {
           "field": "value",
           "scale": {
            "zero": false
           },
           "title": "Flow (m^3/s)",
           "type": "quantitative"
          }
         },
         "mark": {
          "opacity": 0.2,
          "type": "line"
         }
        },
        {
         "data": {
          "format": {
           "type": "json"
          },
          "url": "altair-data-42384cc7ce13991da1169869dc2d0e83.json"
         },
         "encoding": {
          "color": {
           "field": "legend",
           "scale": {
            "domain": [
             "true flow",
             "quantile predictions"
            ],
            "range": [
             "red",
             "gray"
            ]
           },
           "type": "nominal"
          },
          "x": {
           "axis": {
            "labelAngle": 0
           },
           "field": "step",
           "title": "Step",
           "type": "nominal"
          },
          "y": {
           "field": "value",
           "scale": {
            "zero": false
           },
           "title": "Flow (m^3/s)",
           "type": "quantitative"
          }
         },
         "mark": {
          "opacity": 0.2,
          "type": "line"
         }
        },
        {
         "data": {
          "format": {
           "type": "json"
          },
          "url": "altair-data-9088ad41179641bf7082abafbc2ca44b.json"
         },
         "encoding": {
          "color": {
           "field": "legend",
           "scale": {
            "domain": [
             "true flow",
             "quantile predictions"
            ],
            "range": [
             "red",
             "gray"
            ]
           },
           "type": "nominal"
          },
          "x": {
           "axis": {
            "labelAngle": 0
           },
           "field": "step",
           "title": "Step",
           "type": "nominal"
          },
          "y": {
           "field": "value",
           "scale": {
            "zero": false
           },
           "title": "Flow (m^3/s)",
           "type": "quantitative"
          }
         },
         "mark": {
          "opacity": 0.2,
          "type": "line"
         }
        },
        {
         "data": {
          "format": {
           "type": "json"
          },
          "url": "altair-data-ff621438fff07bb5bdfa2ffcaeeb7756.json"
         },
         "encoding": {
          "color": {
           "field": "legend",
           "scale": {
            "domain": [
             "true flow",
             "quantile predictions"
            ],
            "range": [
             "red",
             "gray"
            ]
           },
           "type": "nominal"
          },
          "x": {
           "axis": {
            "labelAngle": 0
           },
           "field": "step",
           "title": "Step",
           "type": "nominal"
          },
          "y": {
           "field": "value",
           "scale": {
            "zero": false
           },
           "title": "Flow (m^3/s)",
           "type": "quantitative"
          }
         },
         "mark": {
          "opacity": 0.2,
          "type": "line"
         }
        },
        {
         "data": {
          "format": {
           "type": "json"
          },
          "url": "altair-data-1ce792362fd4a05541b5a827bc4e0eaa.json"
         },
         "encoding": {
          "color": {
           "field": "legend",
           "scale": {
            "domain": [
             "true flow",
             "quantile predictions"
            ],
            "range": [
             "red",
             "gray"
            ]
           },
           "type": "nominal"
          },
          "x": {
           "axis": {
            "labelAngle": 0
           },
           "field": "step",
           "title": "Step",
           "type": "nominal"
          },
          "y": {
           "field": "value",
           "scale": {
            "zero": false
           },
           "title": "Flow (m^3/s)",
           "type": "quantitative"
          }
         },
         "mark": {
          "opacity": 0.2,
          "type": "line"
         }
        },
        {
         "data": {
          "format": {
           "type": "json"
          },
          "url": "altair-data-294d43b4255f5808958c087fc5ee8c37.json"
         },
         "encoding": {
          "color": {
           "field": "legend",
           "scale": {
            "domain": [
             "true flow",
             "quantile predictions"
            ],
            "range": [
             "red",
             "gray"
            ]
           },
           "type": "nominal"
          },
          "x": {
           "axis": {
            "labelAngle": 0
           },
           "field": "step",
           "title": "Step",
           "type": "nominal"
          },
          "y": {
           "field": "value",
           "scale": {
            "zero": false
           },
           "title": "Flow (m^3/s)",
           "type": "quantitative"
          }
         },
         "mark": {
          "opacity": 0.2,
          "type": "line"
         }
        },
        {
         "data": {
          "format": {
           "type": "json"
          },
          "url": "altair-data-5d81058e2793231c79b5bcff90132375.json"
         },
         "encoding": {
          "color": {
           "field": "legend",
           "scale": {
            "domain": [
             "true flow",
             "quantile predictions"
            ],
            "range": [
             "red",
             "gray"
            ]
           },
           "type": "nominal"
          },
          "x": {
           "axis": {
            "labelAngle": 0
           },
           "field": "step",
           "title": "Step",
           "type": "nominal"
          },
          "y": {
           "field": "value",
           "scale": {
            "zero": false
           },
           "title": "Flow (m^3/s)",
           "type": "quantitative"
          }
         },
         "mark": {
          "opacity": 0.2,
          "type": "line"
         }
        },
        {
         "data": {
          "format": {
           "type": "json"
          },
          "url": "altair-data-d02cfddac7ba4b8830ae0686d35c28a1.json"
         },
         "encoding": {
          "color": {
           "field": "legend",
           "scale": {
            "domain": [
             "true flow",
             "quantile predictions"
            ],
            "range": [
             "red",
             "gray"
            ]
           },
           "type": "nominal"
          },
          "x": {
           "axis": {
            "labelAngle": 0
           },
           "field": "step",
           "title": "Step",
           "type": "nominal"
          },
          "y": {
           "field": "value",
           "scale": {
            "zero": false
           },
           "title": "Flow (m^3/s)",
           "type": "quantitative"
          }
         },
         "mark": {
          "opacity": 0.2,
          "type": "line"
         }
        },
        {
         "data": {
          "format": {
           "type": "json"
          },
          "url": "altair-data-92217e1ffd9c5ed0b7bac9ab24021e43.json"
         },
         "encoding": {
          "color": {
           "field": "legend",
           "scale": {
            "domain": [
             "true flow",
             "quantile predictions"
            ],
            "range": [
             "red",
             "gray"
            ]
           },
           "type": "nominal"
          },
          "x": {
           "axis": {
            "labelAngle": 0
           },
           "field": "step",
           "title": "Step",
           "type": "nominal"
          },
          "y": {
           "field": "value",
           "scale": {
            "zero": false
           },
           "title": "Flow (m^3/s)",
           "type": "quantitative"
          }
         },
         "mark": {
          "opacity": 0.2,
          "type": "line"
         }
        },
        {
         "data": {
          "format": {
           "type": "json"
          },
          "url": "altair-data-dbbc3e78637e5fd50a3330b18d34a0c1.json"
         },
         "encoding": {
          "color": {
           "field": "legend",
           "scale": {
            "domain": [
             "true flow",
             "quantile predictions"
            ],
            "range": [
             "red",
             "gray"
            ]
           },
           "type": "nominal"
          },
          "x": {
           "axis": {
            "labelAngle": 0
           },
           "field": "step",
           "title": "Step",
           "type": "nominal"
          },
          "y": {
           "field": "value",
           "scale": {
            "zero": false
           },
           "title": "Flow (m^3/s)",
           "type": "quantitative"
          }
         },
         "mark": {
          "opacity": 0.2,
          "type": "line"
         }
        },
        {
         "data": {
          "format": {
           "type": "json"
          },
          "url": "altair-data-f900d3ee63ce7b7a3db71b16bcb29cc3.json"
         },
         "encoding": {
          "color": {
           "field": "legend",
           "scale": {
            "domain": [
             "true flow",
             "quantile predictions"
            ],
            "range": [
             "red",
             "gray"
            ]
           },
           "type": "nominal"
          },
          "x": {
           "axis": {
            "labelAngle": 0
           },
           "field": "step",
           "title": "Step",
           "type": "nominal"
          },
          "y": {
           "field": "value",
           "scale": {
            "zero": false
           },
           "title": "Flow (m^3/s)",
           "type": "quantitative"
          }
         },
         "mark": {
          "opacity": 0.2,
          "type": "line"
         }
        },
        {
         "data": {
          "format": {
           "type": "json"
          },
          "url": "altair-data-3ad1919c8f93ad33a1976ca8c38c45a8.json"
         },
         "encoding": {
          "color": {
           "field": "legend",
           "scale": {
            "domain": [
             "true flow",
             "quantile predictions"
            ],
            "range": [
             "red",
             "gray"
            ]
           },
           "type": "nominal"
          },
          "x": {
           "axis": {
            "labelAngle": 0
           },
           "field": "step",
           "title": "Step",
           "type": "nominal"
          },
          "y": {
           "field": "value",
           "scale": {
            "zero": false
           },
           "title": "Flow (m^3/s)",
           "type": "quantitative"
          }
         },
         "mark": {
          "opacity": 0.2,
          "type": "line"
         }
        },
        {
         "data": {
          "format": {
           "type": "json"
          },
          "url": "altair-data-105f2f344521ba6efee7b06522178862.json"
         },
         "encoding": {
          "color": {
           "field": "legend",
           "scale": {
            "domain": [
             "true flow",
             "quantile predictions"
            ],
            "range": [
             "red",
             "gray"
            ]
           },
           "type": "nominal"
          },
          "x": {
           "axis": {
            "labelAngle": 0
           },
           "field": "step",
           "title": "Step",
           "type": "nominal"
          },
          "y": {
           "field": "value",
           "scale": {
            "zero": false
           },
           "title": "Flow (m^3/s)",
           "type": "quantitative"
          }
         },
         "mark": {
          "opacity": 0.2,
          "type": "line"
         }
        },
        {
         "data": {
          "format": {
           "type": "json"
          },
          "url": "altair-data-19b3088d8bfb0961c0ae1a4380c5d7fd.json"
         },
         "encoding": {
          "color": {
           "field": "legend",
           "scale": {
            "domain": [
             "true flow",
             "quantile predictions"
            ],
            "range": [
             "red",
             "gray"
            ]
           },
           "type": "nominal"
          },
          "x": {
           "axis": {
            "labelAngle": 0
           },
           "field": "step",
           "title": "Step",
           "type": "nominal"
          },
          "y": {
           "field": "value",
           "scale": {
            "zero": false
           },
           "title": "Flow (m^3/s)",
           "type": "quantitative"
          }
         },
         "mark": {
          "opacity": 0.2,
          "type": "line"
         }
        },
        {
         "data": {
          "format": {
           "type": "json"
          },
          "url": "altair-data-09fe28138a51a7a507753c454351ae23.json"
         },
         "encoding": {
          "color": {
           "field": "legend",
           "scale": {
            "domain": [
             "true flow",
             "quantile predictions"
            ],
            "range": [
             "red",
             "gray"
            ]
           },
           "type": "nominal"
          },
          "x": {
           "axis": {
            "labelAngle": 0
           },
           "field": "step",
           "title": "Step",
           "type": "nominal"
          },
          "y": {
           "field": "value",
           "scale": {
            "zero": false
           },
           "title": "Flow (m^3/s)",
           "type": "quantitative"
          }
         },
         "mark": {
          "opacity": 0.2,
          "type": "line"
         }
        },
        {
         "data": {
          "format": {
           "type": "json"
          },
          "url": "altair-data-1f0cc1a2cd5671bd46de243b740bdf08.json"
         },
         "encoding": {
          "color": {
           "field": "legend",
           "scale": {
            "domain": [
             "true flow",
             "quantile predictions"
            ],
            "range": [
             "red",
             "gray"
            ]
           },
           "type": "nominal"
          },
          "x": {
           "axis": {
            "labelAngle": 0
           },
           "field": "step",
           "title": "Step",
           "type": "nominal"
          },
          "y": {
           "field": "value",
           "scale": {
            "zero": false
           },
           "title": "Flow (m^3/s)",
           "type": "quantitative"
          }
         },
         "mark": {
          "opacity": 0.2,
          "type": "line"
         }
        },
        {
         "data": {
          "format": {
           "type": "json"
          },
          "url": "altair-data-99b61356fad2dbf030f2fdd2470de609.json"
         },
         "encoding": {
          "color": {
           "field": "legend",
           "scale": {
            "domain": [
             "true flow",
             "quantile predictions"
            ],
            "range": [
             "red",
             "gray"
            ]
           },
           "type": "nominal"
          },
          "x": {
           "axis": {
            "labelAngle": 0
           },
           "field": "step",
           "title": "Step",
           "type": "nominal"
          },
          "y": {
           "field": "value",
           "scale": {
            "zero": false
           },
           "title": "Flow (m^3/s)",
           "type": "quantitative"
          }
         },
         "mark": {
          "opacity": 0.2,
          "type": "line"
         }
        },
        {
         "data": {
          "format": {
           "type": "json"
          },
          "url": "altair-data-5e31db69cb4215e6a62d1adc608cecf1.json"
         },
         "encoding": {
          "color": {
           "field": "legend",
           "scale": {
            "domain": [
             "true flow",
             "quantile predictions"
            ],
            "range": [
             "red",
             "gray"
            ]
           },
           "type": "nominal"
          },
          "x": {
           "axis": {
            "labelAngle": 0
           },
           "field": "step",
           "title": "Step",
           "type": "nominal"
          },
          "y": {
           "field": "value",
           "scale": {
            "zero": false
           },
           "title": "Flow (m^3/s)",
           "type": "quantitative"
          }
         },
         "mark": {
          "opacity": 0.2,
          "type": "line"
         }
        },
        {
         "data": {
          "format": {
           "type": "json"
          },
          "url": "altair-data-ec0c337aefd188a6d7dda18725c6d6c3.json"
         },
         "encoding": {
          "color": {
           "field": "legend",
           "scale": {
            "domain": [
             "true flow",
             "quantile predictions"
            ],
            "range": [
             "red",
             "gray"
            ]
           },
           "type": "nominal"
          },
          "x": {
           "axis": {
            "labelAngle": 0
           },
           "field": "step",
           "title": "Step",
           "type": "nominal"
          },
          "y": {
           "field": "value",
           "scale": {
            "zero": false
           },
           "title": "Flow (m^3/s)",
           "type": "quantitative"
          }
         },
         "mark": {
          "opacity": 0.2,
          "type": "line"
         }
        },
        {
         "data": {
          "format": {
           "type": "json"
          },
          "url": "altair-data-f4a95438f49205cfe0390993dace9144.json"
         },
         "encoding": {
          "color": {
           "field": "legend",
           "scale": {
            "domain": [
             "true flow",
             "quantile predictions"
            ],
            "range": [
             "red",
             "gray"
            ]
           },
           "type": "nominal"
          },
          "x": {
           "axis": {
            "labelAngle": 0
           },
           "field": "step",
           "title": "Step",
           "type": "nominal"
          },
          "y": {
           "field": "value",
           "scale": {
            "zero": false
           },
           "title": "Flow (m^3/s)",
           "type": "quantitative"
          }
         },
         "mark": {
          "opacity": 0.2,
          "type": "line"
         }
        },
        {
         "data": {
          "format": {
           "type": "json"
          },
          "url": "altair-data-7b49af60992a1b44c487a19dc38b097a.json"
         },
         "encoding": {
          "color": {
           "field": "legend",
           "scale": {
            "domain": [
             "true flow",
             "quantile predictions"
            ],
            "range": [
             "red",
             "gray"
            ]
           },
           "type": "nominal"
          },
          "x": {
           "axis": {
            "labelAngle": 0
           },
           "field": "step",
           "title": "Step",
           "type": "nominal"
          },
          "y": {
           "field": "value",
           "scale": {
            "zero": false
           },
           "title": "Flow (m^3/s)",
           "type": "quantitative"
          }
         },
         "mark": {
          "opacity": 0.2,
          "type": "line"
         }
        },
        {
         "data": {
          "format": {
           "type": "json"
          },
          "url": "altair-data-ca83600b199a67bea0e5eafc068218fd.json"
         },
         "encoding": {
          "color": {
           "field": "legend",
           "scale": {
            "domain": [
             "true flow",
             "quantile predictions"
            ],
            "range": [
             "red",
             "gray"
            ]
           },
           "type": "nominal"
          },
          "x": {
           "axis": {
            "labelAngle": 0
           },
           "field": "step",
           "title": "Step",
           "type": "nominal"
          },
          "y": {
           "field": "value",
           "scale": {
            "zero": false
           },
           "title": "Flow (m^3/s)",
           "type": "quantitative"
          }
         },
         "mark": {
          "opacity": 0.2,
          "type": "line"
         }
        },
        {
         "data": {
          "format": {
           "type": "json"
          },
          "url": "altair-data-a20d86682945237d7d2a51a1df9bba49.json"
         },
         "encoding": {
          "color": {
           "field": "legend",
           "scale": {
            "domain": [
             "true flow",
             "quantile predictions"
            ],
            "range": [
             "red",
             "gray"
            ]
           },
           "type": "nominal"
          },
          "x": {
           "axis": {
            "labelAngle": 0
           },
           "field": "step",
           "title": "Step",
           "type": "nominal"
          },
          "y": {
           "field": "value",
           "scale": {
            "zero": false
           },
           "title": "Flow (m^3/s)",
           "type": "quantitative"
          }
         },
         "mark": {
          "opacity": 0.2,
          "type": "line"
         }
        },
        {
         "data": {
          "format": {
           "type": "json"
          },
          "url": "altair-data-2126ec3309995e6af657af4b7da3b81d.json"
         },
         "encoding": {
          "color": {
           "field": "legend",
           "scale": {
            "domain": [
             "true flow",
             "quantile predictions"
            ],
            "range": [
             "red",
             "gray"
            ]
           },
           "type": "nominal"
          },
          "x": {
           "axis": {
            "labelAngle": 0
           },
           "field": "step",
           "title": "Step",
           "type": "nominal"
          },
          "y": {
           "field": "value",
           "scale": {
            "zero": false
           },
           "title": "Flow (m^3/s)",
           "type": "quantitative"
          }
         },
         "mark": {
          "opacity": 0.2,
          "type": "line"
         }
        },
        {
         "data": {
          "format": {
           "type": "json"
          },
          "url": "altair-data-b6cc6ab886d8c693d83743c97fc00563.json"
         },
         "encoding": {
          "color": {
           "field": "legend",
           "scale": {
            "domain": [
             "true flow",
             "quantile predictions"
            ],
            "range": [
             "red",
             "gray"
            ]
           },
           "type": "nominal"
          },
          "x": {
           "axis": {
            "labelAngle": 0
           },
           "field": "step",
           "title": "Step",
           "type": "nominal"
          },
          "y": {
           "field": "value",
           "scale": {
            "zero": false
           },
           "title": "Flow (m^3/s)",
           "type": "quantitative"
          }
         },
         "mark": {
          "opacity": 0.2,
          "type": "line"
         }
        },
        {
         "data": {
          "format": {
           "type": "json"
          },
          "url": "altair-data-6c8209499c48abef4706977620c04d39.json"
         },
         "encoding": {
          "color": {
           "field": "legend",
           "scale": {
            "domain": [
             "true flow",
             "quantile predictions"
            ],
            "range": [
             "red",
             "gray"
            ]
           },
           "type": "nominal"
          },
          "x": {
           "axis": {
            "labelAngle": 0
           },
           "field": "step",
           "title": "Step",
           "type": "nominal"
          },
          "y": {
           "field": "value",
           "scale": {
            "zero": false
           },
           "title": "Flow (m^3/s)",
           "type": "quantitative"
          }
         },
         "mark": {
          "opacity": 0.2,
          "type": "line"
         }
        },
        {
         "data": {
          "format": {
           "type": "json"
          },
          "url": "altair-data-af7c96b5a5c40dbbbe29738ebc54a39b.json"
         },
         "encoding": {
          "color": {
           "field": "legend",
           "scale": {
            "domain": [
             "true flow",
             "quantile predictions"
            ],
            "range": [
             "red",
             "gray"
            ]
           },
           "type": "nominal"
          },
          "x": {
           "axis": {
            "labelAngle": 0
           },
           "field": "step",
           "title": "Step",
           "type": "nominal"
          },
          "y": {
           "field": "value",
           "scale": {
            "zero": false
           },
           "title": "Flow (m^3/s)",
           "type": "quantitative"
          }
         },
         "mark": {
          "opacity": 0.2,
          "type": "line"
         }
        },
        {
         "data": {
          "format": {
           "type": "json"
          },
          "url": "altair-data-022ba646d0d701eee1c1220ade5234eb.json"
         },
         "encoding": {
          "color": {
           "field": "legend",
           "scale": {
            "domain": [
             "true flow",
             "quantile predictions"
            ],
            "range": [
             "red",
             "gray"
            ]
           },
           "type": "nominal"
          },
          "x": {
           "axis": {
            "labelAngle": 0
           },
           "field": "step",
           "title": "Step",
           "type": "nominal"
          },
          "y": {
           "field": "value",
           "scale": {
            "zero": false
           },
           "title": "Flow (m^3/s)",
           "type": "quantitative"
          }
         },
         "mark": {
          "opacity": 0.2,
          "type": "line"
         }
        },
        {
         "data": {
          "format": {
           "type": "json"
          },
          "url": "altair-data-cf9387b89dd7ca7822e4821eba42d17e.json"
         },
         "encoding": {
          "color": {
           "field": "legend",
           "scale": {
            "domain": [
             "true flow",
             "quantile predictions"
            ],
            "range": [
             "red",
             "gray"
            ]
           },
           "type": "nominal"
          },
          "x": {
           "axis": {
            "labelAngle": 0
           },
           "field": "step",
           "title": "Step",
           "type": "nominal"
          },
          "y": {
           "field": "value",
           "scale": {
            "zero": false
           },
           "title": "Flow (m^3/s)",
           "type": "quantitative"
          }
         },
         "mark": {
          "opacity": 0.2,
          "type": "line"
         }
        },
        {
         "data": {
          "format": {
           "type": "json"
          },
          "url": "altair-data-d9734e768813d0393a08b7f6542f190e.json"
         },
         "encoding": {
          "color": {
           "field": "legend",
           "scale": {
            "domain": [
             "true flow",
             "quantile predictions"
            ],
            "range": [
             "red",
             "gray"
            ]
           },
           "type": "nominal"
          },
          "x": {
           "axis": {
            "labelAngle": 0
           },
           "field": "step",
           "title": "Step",
           "type": "nominal"
          },
          "y": {
           "field": "value",
           "scale": {
            "zero": false
           },
           "title": "Flow (m^3/s)",
           "type": "quantitative"
          }
         },
         "mark": {
          "opacity": 0.2,
          "type": "line"
         }
        },
        {
         "data": {
          "format": {
           "type": "json"
          },
          "url": "altair-data-1913663d7b9c29f3ac7d6b74a25a29e8.json"
         },
         "encoding": {
          "color": {
           "field": "legend",
           "scale": {
            "domain": [
             "true flow",
             "quantile predictions"
            ],
            "range": [
             "red",
             "gray"
            ]
           },
           "type": "nominal"
          },
          "x": {
           "axis": {
            "labelAngle": 0
           },
           "field": "step",
           "title": "Step",
           "type": "nominal"
          },
          "y": {
           "field": "value",
           "scale": {
            "zero": false
           },
           "title": "Flow (m^3/s)",
           "type": "quantitative"
          }
         },
         "mark": {
          "opacity": 0.2,
          "type": "line"
         }
        },
        {
         "data": {
          "format": {
           "type": "json"
          },
          "url": "altair-data-0d4c10399fb9e04e6f678d09902becb8.json"
         },
         "encoding": {
          "color": {
           "field": "legend",
           "scale": {
            "domain": [
             "true flow",
             "quantile predictions"
            ],
            "range": [
             "red",
             "gray"
            ]
           },
           "type": "nominal"
          },
          "x": {
           "axis": {
            "labelAngle": 0
           },
           "field": "step",
           "title": "Step",
           "type": "nominal"
          },
          "y": {
           "field": "value",
           "scale": {
            "zero": false
           },
           "title": "Flow (m^3/s)",
           "type": "quantitative"
          }
         },
         "mark": {
          "opacity": 0.2,
          "type": "line"
         }
        },
        {
         "data": {
          "format": {
           "type": "json"
          },
          "url": "altair-data-0092700b49e7bd64acbd6a66b208a779.json"
         },
         "encoding": {
          "color": {
           "field": "legend",
           "scale": {
            "domain": [
             "true flow",
             "quantile predictions"
            ],
            "range": [
             "red",
             "gray"
            ]
           },
           "type": "nominal"
          },
          "x": {
           "axis": {
            "labelAngle": 0
           },
           "field": "step",
           "title": "Step",
           "type": "nominal"
          },
          "y": {
           "field": "value",
           "scale": {
            "zero": false
           },
           "title": "Flow (m^3/s)",
           "type": "quantitative"
          }
         },
         "mark": {
          "opacity": 0.2,
          "type": "line"
         }
        },
        {
         "data": {
          "format": {
           "type": "json"
          },
          "url": "altair-data-b6e965aa5ecf8fba7a5127865663d8b5.json"
         },
         "encoding": {
          "color": {
           "field": "legend",
           "scale": {
            "domain": [
             "true flow",
             "quantile predictions"
            ],
            "range": [
             "red",
             "gray"
            ]
           },
           "type": "nominal"
          },
          "x": {
           "axis": {
            "labelAngle": 0
           },
           "field": "step",
           "title": "Step",
           "type": "nominal"
          },
          "y": {
           "field": "value",
           "scale": {
            "zero": false
           },
           "title": "Flow (m^3/s)",
           "type": "quantitative"
          }
         },
         "mark": {
          "opacity": 0.2,
          "type": "line"
         }
        },
        {
         "data": {
          "format": {
           "type": "json"
          },
          "url": "altair-data-bd55888baebf69fc28871faa5785fe39.json"
         },
         "encoding": {
          "color": {
           "field": "legend",
           "scale": {
            "domain": [
             "true flow",
             "quantile predictions"
            ],
            "range": [
             "red",
             "gray"
            ]
           },
           "type": "nominal"
          },
          "x": {
           "axis": {
            "labelAngle": 0
           },
           "field": "step",
           "title": "Step",
           "type": "nominal"
          },
          "y": {
           "field": "value",
           "scale": {
            "zero": false
           },
           "title": "Flow (m^3/s)",
           "type": "quantitative"
          }
         },
         "mark": {
          "opacity": 0.2,
          "type": "line"
         }
        },
        {
         "data": {
          "format": {
           "type": "json"
          },
          "url": "altair-data-a5d7b2fc8e9d1077966f658b196c0f69.json"
         },
         "encoding": {
          "color": {
           "field": "legend",
           "scale": {
            "domain": [
             "true flow",
             "quantile predictions"
            ],
            "range": [
             "red",
             "gray"
            ]
           },
           "type": "nominal"
          },
          "x": {
           "axis": {
            "labelAngle": 0
           },
           "field": "step",
           "title": "Step",
           "type": "nominal"
          },
          "y": {
           "field": "value",
           "scale": {
            "zero": false
           },
           "title": "Flow (m^3/s)",
           "type": "quantitative"
          }
         },
         "mark": {
          "opacity": 0.2,
          "type": "line"
         }
        },
        {
         "data": {
          "format": {
           "type": "json"
          },
          "url": "altair-data-0fec696b38415754f60b6a50774521ef.json"
         },
         "encoding": {
          "color": {
           "field": "legend",
           "scale": {
            "domain": [
             "true flow",
             "quantile predictions"
            ],
            "range": [
             "red",
             "gray"
            ]
           },
           "type": "nominal"
          },
          "x": {
           "axis": {
            "labelAngle": 0
           },
           "field": "step",
           "title": "Step",
           "type": "nominal"
          },
          "y": {
           "field": "value",
           "scale": {
            "zero": false
           },
           "title": "Flow (m^3/s)",
           "type": "quantitative"
          }
         },
         "mark": {
          "opacity": 0.2,
          "type": "line"
         }
        },
        {
         "data": {
          "format": {
           "type": "json"
          },
          "url": "altair-data-5a744cf5e02b78ec07d58f1e46d68f7e.json"
         },
         "encoding": {
          "color": {
           "field": "legend",
           "scale": {
            "domain": [
             "true flow",
             "quantile predictions"
            ],
            "range": [
             "red",
             "gray"
            ]
           },
           "type": "nominal"
          },
          "x": {
           "axis": {
            "labelAngle": 0
           },
           "field": "step",
           "title": "Step",
           "type": "nominal"
          },
          "y": {
           "field": "value",
           "scale": {
            "zero": false
           },
           "title": "Flow (m^3/s)",
           "type": "quantitative"
          }
         },
         "mark": {
          "opacity": 0.2,
          "type": "line"
         }
        },
        {
         "data": {
          "format": {
           "type": "json"
          },
          "url": "altair-data-2960fe803c9f5ae072546c90ee4fcd0c.json"
         },
         "encoding": {
          "color": {
           "field": "legend",
           "scale": {
            "domain": [
             "true flow",
             "quantile predictions"
            ],
            "range": [
             "red",
             "gray"
            ]
           },
           "type": "nominal"
          },
          "x": {
           "axis": {
            "labelAngle": 0
           },
           "field": "step",
           "title": "Step",
           "type": "nominal"
          },
          "y": {
           "field": "value",
           "scale": {
            "zero": false
           },
           "title": "Flow (m^3/s)",
           "type": "quantitative"
          }
         },
         "mark": {
          "opacity": 0.2,
          "type": "line"
         }
        },
        {
         "data": {
          "format": {
           "type": "json"
          },
          "url": "altair-data-e92b4b65fb5817650438a491567a06d8.json"
         },
         "encoding": {
          "color": {
           "field": "legend",
           "scale": {
            "domain": [
             "true flow",
             "quantile predictions"
            ],
            "range": [
             "red",
             "gray"
            ]
           },
           "type": "nominal"
          },
          "x": {
           "axis": {
            "labelAngle": 0
           },
           "field": "step",
           "title": "Step",
           "type": "nominal"
          },
          "y": {
           "field": "value",
           "scale": {
            "zero": false
           },
           "title": "Flow (m^3/s)",
           "type": "quantitative"
          }
         },
         "mark": {
          "opacity": 0.2,
          "type": "line"
         }
        },
        {
         "data": {
          "format": {
           "type": "json"
          },
          "url": "altair-data-950a4f873301d4d3858257ce3323bf6b.json"
         },
         "encoding": {
          "color": {
           "field": "legend",
           "scale": {
            "domain": [
             "true flow",
             "quantile predictions"
            ],
            "range": [
             "red",
             "gray"
            ]
           },
           "type": "nominal"
          },
          "x": {
           "axis": {
            "labelAngle": 0
           },
           "field": "step",
           "title": "Step",
           "type": "nominal"
          },
          "y": {
           "field": "value",
           "scale": {
            "zero": false
           },
           "title": "Flow (m^3/s)",
           "type": "quantitative"
          }
         },
         "mark": {
          "opacity": 0.2,
          "type": "line"
         }
        },
        {
         "data": {
          "format": {
           "type": "json"
          },
          "url": "altair-data-6a76ce801bb29f2668f37e09a0fca751.json"
         },
         "encoding": {
          "color": {
           "field": "legend",
           "scale": {
            "domain": [
             "true flow",
             "quantile predictions"
            ],
            "range": [
             "red",
             "gray"
            ]
           },
           "type": "nominal"
          },
          "x": {
           "axis": {
            "labelAngle": 0
           },
           "field": "step",
           "title": "Step",
           "type": "nominal"
          },
          "y": {
           "field": "value",
           "scale": {
            "zero": false
           },
           "title": "Flow (m^3/s)",
           "type": "quantitative"
          }
         },
         "mark": {
          "opacity": 0.2,
          "type": "line"
         }
        },
        {
         "data": {
          "format": {
           "type": "json"
          },
          "url": "altair-data-95e44e86897b30d87ddcb1df64207cff.json"
         },
         "encoding": {
          "color": {
           "field": "legend",
           "scale": {
            "domain": [
             "true flow",
             "quantile predictions"
            ],
            "range": [
             "red",
             "gray"
            ]
           },
           "type": "nominal"
          },
          "x": {
           "axis": {
            "labelAngle": 0
           },
           "field": "step",
           "title": "Step",
           "type": "nominal"
          },
          "y": {
           "field": "value",
           "scale": {
            "zero": false
           },
           "title": "Flow (m^3/s)",
           "type": "quantitative"
          }
         },
         "mark": {
          "opacity": 0.2,
          "type": "line"
         }
        },
        {
         "data": {
          "format": {
           "type": "json"
          },
          "url": "altair-data-7af8dc631c39f35f11dd95352548b99b.json"
         },
         "encoding": {
          "color": {
           "field": "legend",
           "scale": {
            "domain": [
             "true flow",
             "quantile predictions"
            ],
            "range": [
             "red",
             "gray"
            ]
           },
           "type": "nominal"
          },
          "x": {
           "axis": {
            "labelAngle": 0
           },
           "field": "step",
           "title": "Step",
           "type": "nominal"
          },
          "y": {
           "field": "value",
           "scale": {
            "zero": false
           },
           "title": "Flow (m^3/s)",
           "type": "quantitative"
          }
         },
         "mark": {
          "opacity": 0.2,
          "type": "line"
         }
        },
        {
         "data": {
          "format": {
           "type": "json"
          },
          "url": "altair-data-da30edcfcc4cd3fa0fd6bb7f29648dca.json"
         },
         "encoding": {
          "color": {
           "field": "legend",
           "scale": {
            "domain": [
             "true flow",
             "quantile predictions"
            ],
            "range": [
             "red",
             "gray"
            ]
           },
           "type": "nominal"
          },
          "x": {
           "axis": {
            "labelAngle": 0
           },
           "field": "step",
           "title": "Step",
           "type": "nominal"
          },
          "y": {
           "field": "value",
           "scale": {
            "zero": false
           },
           "title": "Flow (m^3/s)",
           "type": "quantitative"
          }
         },
         "mark": {
          "opacity": 0.2,
          "type": "line"
         }
        },
        {
         "data": {
          "format": {
           "type": "json"
          },
          "url": "altair-data-d841cb3fd7d87670b6d7d1bd57edab24.json"
         },
         "encoding": {
          "color": {
           "field": "legend",
           "scale": {
            "domain": [
             "true flow",
             "quantile predictions"
            ],
            "range": [
             "red",
             "gray"
            ]
           },
           "type": "nominal"
          },
          "x": {
           "axis": {
            "labelAngle": 0
           },
           "field": "step",
           "title": "Step",
           "type": "nominal"
          },
          "y": {
           "field": "value",
           "scale": {
            "zero": false
           },
           "title": "Flow (m^3/s)",
           "type": "quantitative"
          }
         },
         "mark": {
          "opacity": 0.2,
          "type": "line"
         }
        },
        {
         "data": {
          "format": {
           "type": "json"
          },
          "url": "altair-data-4e82560d4d8e781f39a782d59284a194.json"
         },
         "encoding": {
          "color": {
           "field": "legend",
           "scale": {
            "domain": [
             "true flow",
             "quantile predictions"
            ],
            "range": [
             "red",
             "gray"
            ]
           },
           "type": "nominal"
          },
          "x": {
           "axis": {
            "labelAngle": 0
           },
           "field": "step",
           "title": "Step",
           "type": "nominal"
          },
          "y": {
           "field": "value",
           "scale": {
            "zero": false
           },
           "title": "Flow (m^3/s)",
           "type": "quantitative"
          }
         },
         "mark": {
          "opacity": 0.2,
          "type": "line"
         }
        },
        {
         "data": {
          "format": {
           "type": "json"
          },
          "url": "altair-data-a358c88a4806f1937272512a6e98267e.json"
         },
         "encoding": {
          "color": {
           "field": "legend",
           "scale": {
            "domain": [
             "true flow",
             "quantile predictions"
            ],
            "range": [
             "red",
             "gray"
            ]
           },
           "type": "nominal"
          },
          "x": {
           "axis": {
            "labelAngle": 0
           },
           "field": "step",
           "title": "Step",
           "type": "nominal"
          },
          "y": {
           "field": "value",
           "scale": {
            "zero": false
           },
           "title": "Flow (m^3/s)",
           "type": "quantitative"
          }
         },
         "mark": {
          "opacity": 0.2,
          "type": "line"
         }
        },
        {
         "data": {
          "format": {
           "type": "json"
          },
          "url": "altair-data-8bf2f02c5f96b8eba693b9643d226d83.json"
         },
         "encoding": {
          "color": {
           "field": "legend",
           "scale": {
            "domain": [
             "true flow",
             "quantile predictions"
            ],
            "range": [
             "red",
             "gray"
            ]
           },
           "type": "nominal"
          },
          "x": {
           "axis": {
            "labelAngle": 0
           },
           "field": "step",
           "title": "Step",
           "type": "nominal"
          },
          "y": {
           "field": "value",
           "scale": {
            "zero": false
           },
           "title": "Flow (m^3/s)",
           "type": "quantitative"
          }
         },
         "mark": {
          "opacity": 0.2,
          "type": "line"
         }
        },
        {
         "data": {
          "format": {
           "type": "json"
          },
          "url": "altair-data-9484027756fcd9a32550708adb7a434a.json"
         },
         "encoding": {
          "color": {
           "field": "legend",
           "scale": {
            "domain": [
             "true flow",
             "quantile predictions"
            ],
            "range": [
             "red",
             "gray"
            ]
           },
           "type": "nominal"
          },
          "x": {
           "axis": {
            "labelAngle": 0
           },
           "field": "step",
           "title": "Step",
           "type": "nominal"
          },
          "y": {
           "field": "value",
           "scale": {
            "zero": false
           },
           "title": "Flow (m^3/s)",
           "type": "quantitative"
          }
         },
         "mark": {
          "opacity": 0.2,
          "type": "line"
         }
        },
        {
         "data": {
          "format": {
           "type": "json"
          },
          "url": "altair-data-7fef890eec1d3836c232dadd9bc94699.json"
         },
         "encoding": {
          "color": {
           "field": "legend",
           "scale": {
            "domain": [
             "true flow",
             "quantile predictions"
            ],
            "range": [
             "red",
             "gray"
            ]
           },
           "type": "nominal"
          },
          "x": {
           "axis": {
            "labelAngle": 0
           },
           "field": "step",
           "title": "Step",
           "type": "nominal"
          },
          "y": {
           "field": "value",
           "scale": {
            "zero": false
           },
           "title": "Flow (m^3/s)",
           "type": "quantitative"
          }
         },
         "mark": {
          "opacity": 0.2,
          "type": "line"
         }
        },
        {
         "data": {
          "format": {
           "type": "json"
          },
          "url": "altair-data-10724045e59af0326830aaee2e870eb6.json"
         },
         "encoding": {
          "color": {
           "field": "legend",
           "scale": {
            "domain": [
             "true flow",
             "quantile predictions"
            ],
            "range": [
             "red",
             "gray"
            ]
           },
           "type": "nominal"
          },
          "x": {
           "axis": {
            "labelAngle": 0
           },
           "field": "step",
           "title": "Step",
           "type": "nominal"
          },
          "y": {
           "field": "value",
           "scale": {
            "zero": false
           },
           "title": "Flow (m^3/s)",
           "type": "quantitative"
          }
         },
         "mark": {
          "opacity": 0.2,
          "type": "line"
         }
        },
        {
         "data": {
          "format": {
           "type": "json"
          },
          "url": "altair-data-09cbbed269ab8e9e1f5e0fc4379c6ffb.json"
         },
         "encoding": {
          "color": {
           "field": "legend",
           "scale": {
            "domain": [
             "true flow",
             "quantile predictions"
            ],
            "range": [
             "red",
             "gray"
            ]
           },
           "type": "nominal"
          },
          "x": {
           "axis": {
            "labelAngle": 0
           },
           "field": "step",
           "title": "Step",
           "type": "nominal"
          },
          "y": {
           "field": "value",
           "scale": {
            "zero": false
           },
           "title": "Flow (m^3/s)",
           "type": "quantitative"
          }
         },
         "mark": {
          "opacity": 0.2,
          "type": "line"
         }
        },
        {
         "data": {
          "format": {
           "type": "json"
          },
          "url": "altair-data-d9881adb89f1ae67c913b4f52027e32f.json"
         },
         "encoding": {
          "color": {
           "field": "legend",
           "scale": {
            "domain": [
             "true flow",
             "quantile predictions"
            ],
            "range": [
             "red",
             "gray"
            ]
           },
           "type": "nominal"
          },
          "x": {
           "axis": {
            "labelAngle": 0
           },
           "field": "step",
           "title": "Step",
           "type": "nominal"
          },
          "y": {
           "field": "value",
           "scale": {
            "zero": false
           },
           "title": "Flow (m^3/s)",
           "type": "quantitative"
          }
         },
         "mark": {
          "opacity": 0.2,
          "type": "line"
         }
        },
        {
         "data": {
          "format": {
           "type": "json"
          },
          "url": "altair-data-1aaba3e28f63f3dc6f0e88d5c8b09c84.json"
         },
         "encoding": {
          "color": {
           "field": "legend",
           "scale": {
            "domain": [
             "true flow",
             "quantile predictions"
            ],
            "range": [
             "red",
             "gray"
            ]
           },
           "type": "nominal"
          },
          "x": {
           "axis": {
            "labelAngle": 0
           },
           "field": "step",
           "title": "Step",
           "type": "nominal"
          },
          "y": {
           "field": "value",
           "scale": {
            "zero": false
           },
           "title": "Flow (m^3/s)",
           "type": "quantitative"
          }
         },
         "mark": {
          "opacity": 0.2,
          "type": "line"
         }
        },
        {
         "data": {
          "format": {
           "type": "json"
          },
          "url": "altair-data-5a6055ff8eee81deafeb1c7a409b0c6a.json"
         },
         "encoding": {
          "color": {
           "field": "legend",
           "scale": {
            "domain": [
             "true flow",
             "quantile predictions"
            ],
            "range": [
             "red",
             "gray"
            ]
           },
           "type": "nominal"
          },
          "x": {
           "axis": {
            "labelAngle": 0
           },
           "field": "step",
           "title": "Step",
           "type": "nominal"
          },
          "y": {
           "field": "value",
           "scale": {
            "zero": false
           },
           "title": "Flow (m^3/s)",
           "type": "quantitative"
          }
         },
         "mark": {
          "opacity": 0.2,
          "type": "line"
         }
        },
        {
         "data": {
          "format": {
           "type": "json"
          },
          "url": "altair-data-d54a60ac2de80a2e8247c04fe78cf806.json"
         },
         "encoding": {
          "color": {
           "field": "legend",
           "scale": {
            "domain": [
             "true flow",
             "quantile predictions"
            ],
            "range": [
             "red",
             "gray"
            ]
           },
           "type": "nominal"
          },
          "x": {
           "axis": {
            "labelAngle": 0
           },
           "field": "step",
           "title": "Step",
           "type": "nominal"
          },
          "y": {
           "field": "value",
           "scale": {
            "zero": false
           },
           "title": "Flow (m^3/s)",
           "type": "quantitative"
          }
         },
         "mark": {
          "opacity": 0.2,
          "type": "line"
         }
        },
        {
         "data": {
          "format": {
           "type": "json"
          },
          "url": "altair-data-2c7fd7a175617fa07ff6a9c286793e26.json"
         },
         "encoding": {
          "color": {
           "field": "legend",
           "scale": {
            "domain": [
             "true flow",
             "quantile predictions"
            ],
            "range": [
             "red",
             "gray"
            ]
           },
           "type": "nominal"
          },
          "x": {
           "axis": {
            "labelAngle": 0
           },
           "field": "step",
           "title": "Step",
           "type": "nominal"
          },
          "y": {
           "field": "value",
           "scale": {
            "zero": false
           },
           "title": "Flow (m^3/s)",
           "type": "quantitative"
          }
         },
         "mark": {
          "opacity": 0.2,
          "type": "line"
         }
        },
        {
         "data": {
          "format": {
           "type": "json"
          },
          "url": "altair-data-70fcbd6b67976e1f1e090bfc5071aa01.json"
         },
         "encoding": {
          "color": {
           "field": "legend",
           "scale": {
            "domain": [
             "true flow",
             "quantile predictions"
            ],
            "range": [
             "red",
             "gray"
            ]
           },
           "type": "nominal"
          },
          "x": {
           "axis": {
            "labelAngle": 0
           },
           "field": "step",
           "title": "Step",
           "type": "nominal"
          },
          "y": {
           "field": "value",
           "scale": {
            "zero": false
           },
           "title": "Flow (m^3/s)",
           "type": "quantitative"
          }
         },
         "mark": {
          "opacity": 0.2,
          "type": "line"
         }
        },
        {
         "data": {
          "format": {
           "type": "json"
          },
          "url": "altair-data-9c26308099965ad28c8be742707a515c.json"
         },
         "encoding": {
          "color": {
           "field": "legend",
           "scale": {
            "domain": [
             "true flow",
             "quantile predictions"
            ],
            "range": [
             "red",
             "gray"
            ]
           },
           "type": "nominal"
          },
          "x": {
           "axis": {
            "labelAngle": 0
           },
           "field": "step",
           "title": "Step",
           "type": "nominal"
          },
          "y": {
           "field": "value",
           "scale": {
            "zero": false
           },
           "title": "Flow (m^3/s)",
           "type": "quantitative"
          }
         },
         "mark": {
          "opacity": 0.2,
          "type": "line"
         }
        },
        {
         "data": {
          "format": {
           "type": "json"
          },
          "url": "altair-data-63f031cb11bdd89dc34fd769c9829155.json"
         },
         "encoding": {
          "color": {
           "field": "legend",
           "scale": {
            "domain": [
             "true flow",
             "quantile predictions"
            ],
            "range": [
             "red",
             "gray"
            ]
           },
           "type": "nominal"
          },
          "x": {
           "axis": {
            "labelAngle": 0
           },
           "field": "step",
           "title": "Step",
           "type": "nominal"
          },
          "y": {
           "field": "value",
           "scale": {
            "zero": false
           },
           "title": "Flow (m^3/s)",
           "type": "quantitative"
          }
         },
         "mark": {
          "opacity": 0.2,
          "type": "line"
         }
        },
        {
         "data": {
          "format": {
           "type": "json"
          },
          "url": "altair-data-e615c2bcf0daccdcb11d7c9be9d932c3.json"
         },
         "encoding": {
          "color": {
           "field": "legend",
           "legend": {
            "orient": "left",
            "title": "Flows by color"
           },
           "scale": {
            "domain": [
             "true flow",
             "quantile predictions"
            ],
            "range": [
             "red",
             "grey"
            ]
           },
           "type": "nominal"
          },
          "x": {
           "axis": {
            "labelAngle": 0
           },
           "field": "step",
           "title": "Step",
           "type": "nominal"
          },
          "y": {
           "field": "value",
           "scale": {
            "zero": false
           },
           "title": "Flow (m^3/s)",
           "type": "quantitative"
          }
         },
         "mark": "line"
        },
        {
         "data": {
          "format": {
           "type": "json"
          },
          "url": "altair-data-44e87bac83402df18f239d3cfee4fe6f.json"
         },
         "encoding": {
          "x": {
           "axis": {
            "labelAngle": 0
           },
           "field": "step",
           "title": "Step",
           "type": "nominal"
          },
          "y": {
           "field": "value",
           "scale": {
            "zero": false
           },
           "title": "Flow (m^3/s)",
           "type": "quantitative"
          }
         },
         "mark": {
          "color": "gray",
          "opacity": 0.2,
          "type": "circle"
         }
        }
       ],
       "title": "6 Steps Ahead Prediction",
       "width": 600
      },
      "image/png": "[encoded data removed]",
      "text/plain": [
       "<VegaLite 4 object>\n",
       "\n",
       "If you see this message, it means the renderer has not been properly enabled\n",
       "for the frontend that you are using. For more information, see\n",
       "https://altair-viz.github.io/user_guide/troubleshooting.html\n"
      ]
     },
     "execution_count": 6,
     "metadata": {},
     "output_type": "execute_result"
    }
   ],
   "source": [
    "plot_multiple_step_prediction(df_train, df_val, without_NARR, hourly=True, width=600, height=400)"
   ]
  },
  {
   "cell_type": "code",
   "execution_count": 7,
   "metadata": {},
   "outputs": [],
   "source": [
    "# Read result of model with NARR from the saved pickle files\n",
    "with open('../../data/pickle/qr_with_NARR.pickle', 'rb') as handle:\n",
    "    NARR = pickle.load(handle)"
   ]
  },
  {
   "cell_type": "code",
   "execution_count": 8,
   "metadata": {},
   "outputs": [
    {
     "data": {
      "application/vnd.vegalite.v4+json": {
       "$schema": "https://vega.github.io/schema/vega-lite/v4.0.2.json",
       "config": {
        "view": {
         "continuousHeight": 300,
         "continuousWidth": 400
        }
       },
       "height": 400,
       "layer": [
        {
         "data": {
          "format": {
           "type": "json"
          },
          "url": "altair-data-1ea033d7da46457ee5c3b078a6d537b4.json"
         },
         "encoding": {
          "color": {
           "field": "legend",
           "scale": {
            "domain": [
             "true flow",
             "quantile predictions"
            ],
            "range": [
             "red",
             "grey"
            ]
           },
           "type": "nominal"
          },
          "x": {
           "axis": {
            "labelAngle": 0
           },
           "field": "step",
           "title": "Step",
           "type": "nominal"
          },
          "y": {
           "field": "value",
           "scale": {
            "zero": false
           },
           "title": "Flow (m^3/s)",
           "type": "quantitative"
          }
         },
         "mark": {
          "opacity": 0.2,
          "type": "line"
         }
        },
        {
         "data": {
          "format": {
           "type": "json"
          },
          "url": "altair-data-35da97c81d12ea3aa5f26c599ea2043d.json"
         },
         "encoding": {
          "color": {
           "field": "legend",
           "scale": {
            "domain": [
             "true flow",
             "quantile predictions"
            ],
            "range": [
             "red",
             "gray"
            ]
           },
           "type": "nominal"
          },
          "x": {
           "axis": {
            "labelAngle": 0
           },
           "field": "step",
           "title": "Step",
           "type": "nominal"
          },
          "y": {
           "field": "value",
           "scale": {
            "zero": false
           },
           "title": "Flow (m^3/s)",
           "type": "quantitative"
          }
         },
         "mark": {
          "opacity": 0.2,
          "type": "line"
         }
        },
        {
         "data": {
          "format": {
           "type": "json"
          },
          "url": "altair-data-55af8433ecfa14275c7e792d63e47b86.json"
         },
         "encoding": {
          "color": {
           "field": "legend",
           "scale": {
            "domain": [
             "true flow",
             "quantile predictions"
            ],
            "range": [
             "red",
             "gray"
            ]
           },
           "type": "nominal"
          },
          "x": {
           "axis": {
            "labelAngle": 0
           },
           "field": "step",
           "title": "Step",
           "type": "nominal"
          },
          "y": {
           "field": "value",
           "scale": {
            "zero": false
           },
           "title": "Flow (m^3/s)",
           "type": "quantitative"
          }
         },
         "mark": {
          "opacity": 0.2,
          "type": "line"
         }
        },
        {
         "data": {
          "format": {
           "type": "json"
          },
          "url": "altair-data-b51142f0818f6cd5682c8fb9a7fa9ecc.json"
         },
         "encoding": {
          "color": {
           "field": "legend",
           "scale": {
            "domain": [
             "true flow",
             "quantile predictions"
            ],
            "range": [
             "red",
             "gray"
            ]
           },
           "type": "nominal"
          },
          "x": {
           "axis": {
            "labelAngle": 0
           },
           "field": "step",
           "title": "Step",
           "type": "nominal"
          },
          "y": {
           "field": "value",
           "scale": {
            "zero": false
           },
           "title": "Flow (m^3/s)",
           "type": "quantitative"
          }
         },
         "mark": {
          "opacity": 0.2,
          "type": "line"
         }
        },
        {
         "data": {
          "format": {
           "type": "json"
          },
          "url": "altair-data-8ef8c18775d9cee4df0f80cd72bb1c69.json"
         },
         "encoding": {
          "color": {
           "field": "legend",
           "scale": {
            "domain": [
             "true flow",
             "quantile predictions"
            ],
            "range": [
             "red",
             "gray"
            ]
           },
           "type": "nominal"
          },
          "x": {
           "axis": {
            "labelAngle": 0
           },
           "field": "step",
           "title": "Step",
           "type": "nominal"
          },
          "y": {
           "field": "value",
           "scale": {
            "zero": false
           },
           "title": "Flow (m^3/s)",
           "type": "quantitative"
          }
         },
         "mark": {
          "opacity": 0.2,
          "type": "line"
         }
        },
        {
         "data": {
          "format": {
           "type": "json"
          },
          "url": "altair-data-dfabd5ca1855b61b3213e1ff73c0d9cb.json"
         },
         "encoding": {
          "color": {
           "field": "legend",
           "scale": {
            "domain": [
             "true flow",
             "quantile predictions"
            ],
            "range": [
             "red",
             "gray"
            ]
           },
           "type": "nominal"
          },
          "x": {
           "axis": {
            "labelAngle": 0
           },
           "field": "step",
           "title": "Step",
           "type": "nominal"
          },
          "y": {
           "field": "value",
           "scale": {
            "zero": false
           },
           "title": "Flow (m^3/s)",
           "type": "quantitative"
          }
         },
         "mark": {
          "opacity": 0.2,
          "type": "line"
         }
        },
        {
         "data": {
          "format": {
           "type": "json"
          },
          "url": "altair-data-7fe74001b37fe199474719ca74a03be5.json"
         },
         "encoding": {
          "color": {
           "field": "legend",
           "scale": {
            "domain": [
             "true flow",
             "quantile predictions"
            ],
            "range": [
             "red",
             "gray"
            ]
           },
           "type": "nominal"
          },
          "x": {
           "axis": {
            "labelAngle": 0
           },
           "field": "step",
           "title": "Step",
           "type": "nominal"
          },
          "y": {
           "field": "value",
           "scale": {
            "zero": false
           },
           "title": "Flow (m^3/s)",
           "type": "quantitative"
          }
         },
         "mark": {
          "opacity": 0.2,
          "type": "line"
         }
        },
        {
         "data": {
          "format": {
           "type": "json"
          },
          "url": "altair-data-f5d6e69d6047b4ee8fb6d41267d3fb3b.json"
         },
         "encoding": {
          "color": {
           "field": "legend",
           "scale": {
            "domain": [
             "true flow",
             "quantile predictions"
            ],
            "range": [
             "red",
             "gray"
            ]
           },
           "type": "nominal"
          },
          "x": {
           "axis": {
            "labelAngle": 0
           },
           "field": "step",
           "title": "Step",
           "type": "nominal"
          },
          "y": {
           "field": "value",
           "scale": {
            "zero": false
           },
           "title": "Flow (m^3/s)",
           "type": "quantitative"
          }
         },
         "mark": {
          "opacity": 0.2,
          "type": "line"
         }
        },
        {
         "data": {
          "format": {
           "type": "json"
          },
          "url": "altair-data-4c334a75661010787577b96967d402fb.json"
         },
         "encoding": {
          "color": {
           "field": "legend",
           "scale": {
            "domain": [
             "true flow",
             "quantile predictions"
            ],
            "range": [
             "red",
             "gray"
            ]
           },
           "type": "nominal"
          },
          "x": {
           "axis": {
            "labelAngle": 0
           },
           "field": "step",
           "title": "Step",
           "type": "nominal"
          },
          "y": {
           "field": "value",
           "scale": {
            "zero": false
           },
           "title": "Flow (m^3/s)",
           "type": "quantitative"
          }
         },
         "mark": {
          "opacity": 0.2,
          "type": "line"
         }
        },
        {
         "data": {
          "format": {
           "type": "json"
          },
          "url": "altair-data-23c16bd4f847d07daafdbc062883b6dd.json"
         },
         "encoding": {
          "color": {
           "field": "legend",
           "scale": {
            "domain": [
             "true flow",
             "quantile predictions"
            ],
            "range": [
             "red",
             "gray"
            ]
           },
           "type": "nominal"
          },
          "x": {
           "axis": {
            "labelAngle": 0
           },
           "field": "step",
           "title": "Step",
           "type": "nominal"
          },
          "y": {
           "field": "value",
           "scale": {
            "zero": false
           },
           "title": "Flow (m^3/s)",
           "type": "quantitative"
          }
         },
         "mark": {
          "opacity": 0.2,
          "type": "line"
         }
        },
        {
         "data": {
          "format": {
           "type": "json"
          },
          "url": "altair-data-f5104256b9194af5d890f3b8f9bf1ef5.json"
         },
         "encoding": {
          "color": {
           "field": "legend",
           "scale": {
            "domain": [
             "true flow",
             "quantile predictions"
            ],
            "range": [
             "red",
             "gray"
            ]
           },
           "type": "nominal"
          },
          "x": {
           "axis": {
            "labelAngle": 0
           },
           "field": "step",
           "title": "Step",
           "type": "nominal"
          },
          "y": {
           "field": "value",
           "scale": {
            "zero": false
           },
           "title": "Flow (m^3/s)",
           "type": "quantitative"
          }
         },
         "mark": {
          "opacity": 0.2,
          "type": "line"
         }
        },
        {
         "data": {
          "format": {
           "type": "json"
          },
          "url": "altair-data-ed336a2a7f3d9ef2265af44ff5fd490f.json"
         },
         "encoding": {
          "color": {
           "field": "legend",
           "scale": {
            "domain": [
             "true flow",
             "quantile predictions"
            ],
            "range": [
             "red",
             "gray"
            ]
           },
           "type": "nominal"
          },
          "x": {
           "axis": {
            "labelAngle": 0
           },
           "field": "step",
           "title": "Step",
           "type": "nominal"
          },
          "y": {
           "field": "value",
           "scale": {
            "zero": false
           },
           "title": "Flow (m^3/s)",
           "type": "quantitative"
          }
         },
         "mark": {
          "opacity": 0.2,
          "type": "line"
         }
        },
        {
         "data": {
          "format": {
           "type": "json"
          },
          "url": "altair-data-d9c74158d8fb127024229091b2a33875.json"
         },
         "encoding": {
          "color": {
           "field": "legend",
           "scale": {
            "domain": [
             "true flow",
             "quantile predictions"
            ],
            "range": [
             "red",
             "gray"
            ]
           },
           "type": "nominal"
          },
          "x": {
           "axis": {
            "labelAngle": 0
           },
           "field": "step",
           "title": "Step",
           "type": "nominal"
          },
          "y": {
           "field": "value",
           "scale": {
            "zero": false
           },
           "title": "Flow (m^3/s)",
           "type": "quantitative"
          }
         },
         "mark": {
          "opacity": 0.2,
          "type": "line"
         }
        },
        {
         "data": {
          "format": {
           "type": "json"
          },
          "url": "altair-data-6a80684dc59348bea609030e5b3603e0.json"
         },
         "encoding": {
          "color": {
           "field": "legend",
           "scale": {
            "domain": [
             "true flow",
             "quantile predictions"
            ],
            "range": [
             "red",
             "gray"
            ]
           },
           "type": "nominal"
          },
          "x": {
           "axis": {
            "labelAngle": 0
           },
           "field": "step",
           "title": "Step",
           "type": "nominal"
          },
          "y": {
           "field": "value",
           "scale": {
            "zero": false
           },
           "title": "Flow (m^3/s)",
           "type": "quantitative"
          }
         },
         "mark": {
          "opacity": 0.2,
          "type": "line"
         }
        },
        {
         "data": {
          "format": {
           "type": "json"
          },
          "url": "altair-data-08b704802add0b51bc0138bc693b7af6.json"
         },
         "encoding": {
          "color": {
           "field": "legend",
           "scale": {
            "domain": [
             "true flow",
             "quantile predictions"
            ],
            "range": [
             "red",
             "gray"
            ]
           },
           "type": "nominal"
          },
          "x": {
           "axis": {
            "labelAngle": 0
           },
           "field": "step",
           "title": "Step",
           "type": "nominal"
          },
          "y": {
           "field": "value",
           "scale": {
            "zero": false
           },
           "title": "Flow (m^3/s)",
           "type": "quantitative"
          }
         },
         "mark": {
          "opacity": 0.2,
          "type": "line"
         }
        },
        {
         "data": {
          "format": {
           "type": "json"
          },
          "url": "altair-data-afd5f52f13a88ce529813bbd36e27394.json"
         },
         "encoding": {
          "color": {
           "field": "legend",
           "scale": {
            "domain": [
             "true flow",
             "quantile predictions"
            ],
            "range": [
             "red",
             "gray"
            ]
           },
           "type": "nominal"
          },
          "x": {
           "axis": {
            "labelAngle": 0
           },
           "field": "step",
           "title": "Step",
           "type": "nominal"
          },
          "y": {
           "field": "value",
           "scale": {
            "zero": false
           },
           "title": "Flow (m^3/s)",
           "type": "quantitative"
          }
         },
         "mark": {
          "opacity": 0.2,
          "type": "line"
         }
        },
        {
         "data": {
          "format": {
           "type": "json"
          },
          "url": "altair-data-c1d1a7711ac00983a4329ecfe3569c6b.json"
         },
         "encoding": {
          "color": {
           "field": "legend",
           "scale": {
            "domain": [
             "true flow",
             "quantile predictions"
            ],
            "range": [
             "red",
             "gray"
            ]
           },
           "type": "nominal"
          },
          "x": {
           "axis": {
            "labelAngle": 0
           },
           "field": "step",
           "title": "Step",
           "type": "nominal"
          },
          "y": {
           "field": "value",
           "scale": {
            "zero": false
           },
           "title": "Flow (m^3/s)",
           "type": "quantitative"
          }
         },
         "mark": {
          "opacity": 0.2,
          "type": "line"
         }
        },
        {
         "data": {
          "format": {
           "type": "json"
          },
          "url": "altair-data-a7280339edef5cb1ec1af4e534bad7bc.json"
         },
         "encoding": {
          "color": {
           "field": "legend",
           "scale": {
            "domain": [
             "true flow",
             "quantile predictions"
            ],
            "range": [
             "red",
             "gray"
            ]
           },
           "type": "nominal"
          },
          "x": {
           "axis": {
            "labelAngle": 0
           },
           "field": "step",
           "title": "Step",
           "type": "nominal"
          },
          "y": {
           "field": "value",
           "scale": {
            "zero": false
           },
           "title": "Flow (m^3/s)",
           "type": "quantitative"
          }
         },
         "mark": {
          "opacity": 0.2,
          "type": "line"
         }
        },
        {
         "data": {
          "format": {
           "type": "json"
          },
          "url": "altair-data-7531f8135e84a2cd6487c05626d700aa.json"
         },
         "encoding": {
          "color": {
           "field": "legend",
           "scale": {
            "domain": [
             "true flow",
             "quantile predictions"
            ],
            "range": [
             "red",
             "gray"
            ]
           },
           "type": "nominal"
          },
          "x": {
           "axis": {
            "labelAngle": 0
           },
           "field": "step",
           "title": "Step",
           "type": "nominal"
          },
          "y": {
           "field": "value",
           "scale": {
            "zero": false
           },
           "title": "Flow (m^3/s)",
           "type": "quantitative"
          }
         },
         "mark": {
          "opacity": 0.2,
          "type": "line"
         }
        },
        {
         "data": {
          "format": {
           "type": "json"
          },
          "url": "altair-data-932aa89afded79fab575bf11a1b457cb.json"
         },
         "encoding": {
          "color": {
           "field": "legend",
           "scale": {
            "domain": [
             "true flow",
             "quantile predictions"
            ],
            "range": [
             "red",
             "gray"
            ]
           },
           "type": "nominal"
          },
          "x": {
           "axis": {
            "labelAngle": 0
           },
           "field": "step",
           "title": "Step",
           "type": "nominal"
          },
          "y": {
           "field": "value",
           "scale": {
            "zero": false
           },
           "title": "Flow (m^3/s)",
           "type": "quantitative"
          }
         },
         "mark": {
          "opacity": 0.2,
          "type": "line"
         }
        },
        {
         "data": {
          "format": {
           "type": "json"
          },
          "url": "altair-data-c32f4fd6b7f36d25fafb5edaed4ed4b5.json"
         },
         "encoding": {
          "color": {
           "field": "legend",
           "scale": {
            "domain": [
             "true flow",
             "quantile predictions"
            ],
            "range": [
             "red",
             "gray"
            ]
           },
           "type": "nominal"
          },
          "x": {
           "axis": {
            "labelAngle": 0
           },
           "field": "step",
           "title": "Step",
           "type": "nominal"
          },
          "y": {
           "field": "value",
           "scale": {
            "zero": false
           },
           "title": "Flow (m^3/s)",
           "type": "quantitative"
          }
         },
         "mark": {
          "opacity": 0.2,
          "type": "line"
         }
        },
        {
         "data": {
          "format": {
           "type": "json"
          },
          "url": "altair-data-29b16603a26e1ca325a55262165c7eaa.json"
         },
         "encoding": {
          "color": {
           "field": "legend",
           "scale": {
            "domain": [
             "true flow",
             "quantile predictions"
            ],
            "range": [
             "red",
             "gray"
            ]
           },
           "type": "nominal"
          },
          "x": {
           "axis": {
            "labelAngle": 0
           },
           "field": "step",
           "title": "Step",
           "type": "nominal"
          },
          "y": {
           "field": "value",
           "scale": {
            "zero": false
           },
           "title": "Flow (m^3/s)",
           "type": "quantitative"
          }
         },
         "mark": {
          "opacity": 0.2,
          "type": "line"
         }
        },
        {
         "data": {
          "format": {
           "type": "json"
          },
          "url": "altair-data-ce8b93f3892bf4ba93282ed3403eb8c6.json"
         },
         "encoding": {
          "color": {
           "field": "legend",
           "scale": {
            "domain": [
             "true flow",
             "quantile predictions"
            ],
            "range": [
             "red",
             "gray"
            ]
           },
           "type": "nominal"
          },
          "x": {
           "axis": {
            "labelAngle": 0
           },
           "field": "step",
           "title": "Step",
           "type": "nominal"
          },
          "y": {
           "field": "value",
           "scale": {
            "zero": false
           },
           "title": "Flow (m^3/s)",
           "type": "quantitative"
          }
         },
         "mark": {
          "opacity": 0.2,
          "type": "line"
         }
        },
        {
         "data": {
          "format": {
           "type": "json"
          },
          "url": "altair-data-19224e26584037235503cb57b3b9ac4d.json"
         },
         "encoding": {
          "color": {
           "field": "legend",
           "scale": {
            "domain": [
             "true flow",
             "quantile predictions"
            ],
            "range": [
             "red",
             "gray"
            ]
           },
           "type": "nominal"
          },
          "x": {
           "axis": {
            "labelAngle": 0
           },
           "field": "step",
           "title": "Step",
           "type": "nominal"
          },
          "y": {
           "field": "value",
           "scale": {
            "zero": false
           },
           "title": "Flow (m^3/s)",
           "type": "quantitative"
          }
         },
         "mark": {
          "opacity": 0.2,
          "type": "line"
         }
        },
        {
         "data": {
          "format": {
           "type": "json"
          },
          "url": "altair-data-21f3bcb6989c314d5eb0bbd8efe9bea4.json"
         },
         "encoding": {
          "color": {
           "field": "legend",
           "scale": {
            "domain": [
             "true flow",
             "quantile predictions"
            ],
            "range": [
             "red",
             "gray"
            ]
           },
           "type": "nominal"
          },
          "x": {
           "axis": {
            "labelAngle": 0
           },
           "field": "step",
           "title": "Step",
           "type": "nominal"
          },
          "y": {
           "field": "value",
           "scale": {
            "zero": false
           },
           "title": "Flow (m^3/s)",
           "type": "quantitative"
          }
         },
         "mark": {
          "opacity": 0.2,
          "type": "line"
         }
        },
        {
         "data": {
          "format": {
           "type": "json"
          },
          "url": "altair-data-4b0949e3f1fdfb9aea20389b39884c56.json"
         },
         "encoding": {
          "color": {
           "field": "legend",
           "scale": {
            "domain": [
             "true flow",
             "quantile predictions"
            ],
            "range": [
             "red",
             "gray"
            ]
           },
           "type": "nominal"
          },
          "x": {
           "axis": {
            "labelAngle": 0
           },
           "field": "step",
           "title": "Step",
           "type": "nominal"
          },
          "y": {
           "field": "value",
           "scale": {
            "zero": false
           },
           "title": "Flow (m^3/s)",
           "type": "quantitative"
          }
         },
         "mark": {
          "opacity": 0.2,
          "type": "line"
         }
        },
        {
         "data": {
          "format": {
           "type": "json"
          },
          "url": "altair-data-4fe6973ecbc69b17af317191ca784b52.json"
         },
         "encoding": {
          "color": {
           "field": "legend",
           "scale": {
            "domain": [
             "true flow",
             "quantile predictions"
            ],
            "range": [
             "red",
             "gray"
            ]
           },
           "type": "nominal"
          },
          "x": {
           "axis": {
            "labelAngle": 0
           },
           "field": "step",
           "title": "Step",
           "type": "nominal"
          },
          "y": {
           "field": "value",
           "scale": {
            "zero": false
           },
           "title": "Flow (m^3/s)",
           "type": "quantitative"
          }
         },
         "mark": {
          "opacity": 0.2,
          "type": "line"
         }
        },
        {
         "data": {
          "format": {
           "type": "json"
          },
          "url": "altair-data-432422c832a921f21fa4857d2c661e70.json"
         },
         "encoding": {
          "color": {
           "field": "legend",
           "scale": {
            "domain": [
             "true flow",
             "quantile predictions"
            ],
            "range": [
             "red",
             "gray"
            ]
           },
           "type": "nominal"
          },
          "x": {
           "axis": {
            "labelAngle": 0
           },
           "field": "step",
           "title": "Step",
           "type": "nominal"
          },
          "y": {
           "field": "value",
           "scale": {
            "zero": false
           },
           "title": "Flow (m^3/s)",
           "type": "quantitative"
          }
         },
         "mark": {
          "opacity": 0.2,
          "type": "line"
         }
        },
        {
         "data": {
          "format": {
           "type": "json"
          },
          "url": "altair-data-c290c97b4f7517aa3da1607e579aa725.json"
         },
         "encoding": {
          "color": {
           "field": "legend",
           "scale": {
            "domain": [
             "true flow",
             "quantile predictions"
            ],
            "range": [
             "red",
             "gray"
            ]
           },
           "type": "nominal"
          },
          "x": {
           "axis": {
            "labelAngle": 0
           },
           "field": "step",
           "title": "Step",
           "type": "nominal"
          },
          "y": {
           "field": "value",
           "scale": {
            "zero": false
           },
           "title": "Flow (m^3/s)",
           "type": "quantitative"
          }
         },
         "mark": {
          "opacity": 0.2,
          "type": "line"
         }
        },
        {
         "data": {
          "format": {
           "type": "json"
          },
          "url": "altair-data-77a057b10e1dad96f9012db2677de0f5.json"
         },
         "encoding": {
          "color": {
           "field": "legend",
           "scale": {
            "domain": [
             "true flow",
             "quantile predictions"
            ],
            "range": [
             "red",
             "gray"
            ]
           },
           "type": "nominal"
          },
          "x": {
           "axis": {
            "labelAngle": 0
           },
           "field": "step",
           "title": "Step",
           "type": "nominal"
          },
          "y": {
           "field": "value",
           "scale": {
            "zero": false
           },
           "title": "Flow (m^3/s)",
           "type": "quantitative"
          }
         },
         "mark": {
          "opacity": 0.2,
          "type": "line"
         }
        },
        {
         "data": {
          "format": {
           "type": "json"
          },
          "url": "altair-data-929ba2b698bb77370e827746650668b7.json"
         },
         "encoding": {
          "color": {
           "field": "legend",
           "scale": {
            "domain": [
             "true flow",
             "quantile predictions"
            ],
            "range": [
             "red",
             "gray"
            ]
           },
           "type": "nominal"
          },
          "x": {
           "axis": {
            "labelAngle": 0
           },
           "field": "step",
           "title": "Step",
           "type": "nominal"
          },
          "y": {
           "field": "value",
           "scale": {
            "zero": false
           },
           "title": "Flow (m^3/s)",
           "type": "quantitative"
          }
         },
         "mark": {
          "opacity": 0.2,
          "type": "line"
         }
        },
        {
         "data": {
          "format": {
           "type": "json"
          },
          "url": "altair-data-3ace0a461feb8f6a57d40b3124554fb1.json"
         },
         "encoding": {
          "color": {
           "field": "legend",
           "scale": {
            "domain": [
             "true flow",
             "quantile predictions"
            ],
            "range": [
             "red",
             "gray"
            ]
           },
           "type": "nominal"
          },
          "x": {
           "axis": {
            "labelAngle": 0
           },
           "field": "step",
           "title": "Step",
           "type": "nominal"
          },
          "y": {
           "field": "value",
           "scale": {
            "zero": false
           },
           "title": "Flow (m^3/s)",
           "type": "quantitative"
          }
         },
         "mark": {
          "opacity": 0.2,
          "type": "line"
         }
        },
        {
         "data": {
          "format": {
           "type": "json"
          },
          "url": "altair-data-5934d28e745b0db578fba81569b9d6fd.json"
         },
         "encoding": {
          "color": {
           "field": "legend",
           "scale": {
            "domain": [
             "true flow",
             "quantile predictions"
            ],
            "range": [
             "red",
             "gray"
            ]
           },
           "type": "nominal"
          },
          "x": {
           "axis": {
            "labelAngle": 0
           },
           "field": "step",
           "title": "Step",
           "type": "nominal"
          },
          "y": {
           "field": "value",
           "scale": {
            "zero": false
           },
           "title": "Flow (m^3/s)",
           "type": "quantitative"
          }
         },
         "mark": {
          "opacity": 0.2,
          "type": "line"
         }
        },
        {
         "data": {
          "format": {
           "type": "json"
          },
          "url": "altair-data-8089ea4872c7b9372c65d2f6d9c7def9.json"
         },
         "encoding": {
          "color": {
           "field": "legend",
           "scale": {
            "domain": [
             "true flow",
             "quantile predictions"
            ],
            "range": [
             "red",
             "gray"
            ]
           },
           "type": "nominal"
          },
          "x": {
           "axis": {
            "labelAngle": 0
           },
           "field": "step",
           "title": "Step",
           "type": "nominal"
          },
          "y": {
           "field": "value",
           "scale": {
            "zero": false
           },
           "title": "Flow (m^3/s)",
           "type": "quantitative"
          }
         },
         "mark": {
          "opacity": 0.2,
          "type": "line"
         }
        },
        {
         "data": {
          "format": {
           "type": "json"
          },
          "url": "altair-data-56f9470cc9fd76548a90ce9e1505a639.json"
         },
         "encoding": {
          "color": {
           "field": "legend",
           "scale": {
            "domain": [
             "true flow",
             "quantile predictions"
            ],
            "range": [
             "red",
             "gray"
            ]
           },
           "type": "nominal"
          },
          "x": {
           "axis": {
            "labelAngle": 0
           },
           "field": "step",
           "title": "Step",
           "type": "nominal"
          },
          "y": {
           "field": "value",
           "scale": {
            "zero": false
           },
           "title": "Flow (m^3/s)",
           "type": "quantitative"
          }
         },
         "mark": {
          "opacity": 0.2,
          "type": "line"
         }
        },
        {
         "data": {
          "format": {
           "type": "json"
          },
          "url": "altair-data-f0379ed43af7ef76022eb5211cd99aac.json"
         },
         "encoding": {
          "color": {
           "field": "legend",
           "scale": {
            "domain": [
             "true flow",
             "quantile predictions"
            ],
            "range": [
             "red",
             "gray"
            ]
           },
           "type": "nominal"
          },
          "x": {
           "axis": {
            "labelAngle": 0
           },
           "field": "step",
           "title": "Step",
           "type": "nominal"
          },
          "y": {
           "field": "value",
           "scale": {
            "zero": false
           },
           "title": "Flow (m^3/s)",
           "type": "quantitative"
          }
         },
         "mark": {
          "opacity": 0.2,
          "type": "line"
         }
        },
        {
         "data": {
          "format": {
           "type": "json"
          },
          "url": "altair-data-3cdced43892960ec38cdee95590a8bec.json"
         },
         "encoding": {
          "color": {
           "field": "legend",
           "scale": {
            "domain": [
             "true flow",
             "quantile predictions"
            ],
            "range": [
             "red",
             "gray"
            ]
           },
           "type": "nominal"
          },
          "x": {
           "axis": {
            "labelAngle": 0
           },
           "field": "step",
           "title": "Step",
           "type": "nominal"
          },
          "y": {
           "field": "value",
           "scale": {
            "zero": false
           },
           "title": "Flow (m^3/s)",
           "type": "quantitative"
          }
         },
         "mark": {
          "opacity": 0.2,
          "type": "line"
         }
        },
        {
         "data": {
          "format": {
           "type": "json"
          },
          "url": "altair-data-c047c95c56a80a53a47ceddc7b58bb2e.json"
         },
         "encoding": {
          "color": {
           "field": "legend",
           "scale": {
            "domain": [
             "true flow",
             "quantile predictions"
            ],
            "range": [
             "red",
             "gray"
            ]
           },
           "type": "nominal"
          },
          "x": {
           "axis": {
            "labelAngle": 0
           },
           "field": "step",
           "title": "Step",
           "type": "nominal"
          },
          "y": {
           "field": "value",
           "scale": {
            "zero": false
           },
           "title": "Flow (m^3/s)",
           "type": "quantitative"
          }
         },
         "mark": {
          "opacity": 0.2,
          "type": "line"
         }
        },
        {
         "data": {
          "format": {
           "type": "json"
          },
          "url": "altair-data-38bab684e4d25d3e64b0194bb5fee18f.json"
         },
         "encoding": {
          "color": {
           "field": "legend",
           "scale": {
            "domain": [
             "true flow",
             "quantile predictions"
            ],
            "range": [
             "red",
             "gray"
            ]
           },
           "type": "nominal"
          },
          "x": {
           "axis": {
            "labelAngle": 0
           },
           "field": "step",
           "title": "Step",
           "type": "nominal"
          },
          "y": {
           "field": "value",
           "scale": {
            "zero": false
           },
           "title": "Flow (m^3/s)",
           "type": "quantitative"
          }
         },
         "mark": {
          "opacity": 0.2,
          "type": "line"
         }
        },
        {
         "data": {
          "format": {
           "type": "json"
          },
          "url": "altair-data-6b0a4ee3b6081c10c4e272ae535e58a8.json"
         },
         "encoding": {
          "color": {
           "field": "legend",
           "scale": {
            "domain": [
             "true flow",
             "quantile predictions"
            ],
            "range": [
             "red",
             "gray"
            ]
           },
           "type": "nominal"
          },
          "x": {
           "axis": {
            "labelAngle": 0
           },
           "field": "step",
           "title": "Step",
           "type": "nominal"
          },
          "y": {
           "field": "value",
           "scale": {
            "zero": false
           },
           "title": "Flow (m^3/s)",
           "type": "quantitative"
          }
         },
         "mark": {
          "opacity": 0.2,
          "type": "line"
         }
        },
        {
         "data": {
          "format": {
           "type": "json"
          },
          "url": "altair-data-545a2fdb4692ff8523dba2f0a6ee2828.json"
         },
         "encoding": {
          "color": {
           "field": "legend",
           "scale": {
            "domain": [
             "true flow",
             "quantile predictions"
            ],
            "range": [
             "red",
             "gray"
            ]
           },
           "type": "nominal"
          },
          "x": {
           "axis": {
            "labelAngle": 0
           },
           "field": "step",
           "title": "Step",
           "type": "nominal"
          },
          "y": {
           "field": "value",
           "scale": {
            "zero": false
           },
           "title": "Flow (m^3/s)",
           "type": "quantitative"
          }
         },
         "mark": {
          "opacity": 0.2,
          "type": "line"
         }
        },
        {
         "data": {
          "format": {
           "type": "json"
          },
          "url": "altair-data-4cf63c5efe5d07ecb901c56125052b2d.json"
         },
         "encoding": {
          "color": {
           "field": "legend",
           "scale": {
            "domain": [
             "true flow",
             "quantile predictions"
            ],
            "range": [
             "red",
             "gray"
            ]
           },
           "type": "nominal"
          },
          "x": {
           "axis": {
            "labelAngle": 0
           },
           "field": "step",
           "title": "Step",
           "type": "nominal"
          },
          "y": {
           "field": "value",
           "scale": {
            "zero": false
           },
           "title": "Flow (m^3/s)",
           "type": "quantitative"
          }
         },
         "mark": {
          "opacity": 0.2,
          "type": "line"
         }
        },
        {
         "data": {
          "format": {
           "type": "json"
          },
          "url": "altair-data-9cca73306571784bac757a72528c6eea.json"
         },
         "encoding": {
          "color": {
           "field": "legend",
           "scale": {
            "domain": [
             "true flow",
             "quantile predictions"
            ],
            "range": [
             "red",
             "gray"
            ]
           },
           "type": "nominal"
          },
          "x": {
           "axis": {
            "labelAngle": 0
           },
           "field": "step",
           "title": "Step",
           "type": "nominal"
          },
          "y": {
           "field": "value",
           "scale": {
            "zero": false
           },
           "title": "Flow (m^3/s)",
           "type": "quantitative"
          }
         },
         "mark": {
          "opacity": 0.2,
          "type": "line"
         }
        },
        {
         "data": {
          "format": {
           "type": "json"
          },
          "url": "altair-data-fef7c8bcd86c36607d7739757ff7b2f4.json"
         },
         "encoding": {
          "color": {
           "field": "legend",
           "scale": {
            "domain": [
             "true flow",
             "quantile predictions"
            ],
            "range": [
             "red",
             "gray"
            ]
           },
           "type": "nominal"
          },
          "x": {
           "axis": {
            "labelAngle": 0
           },
           "field": "step",
           "title": "Step",
           "type": "nominal"
          },
          "y": {
           "field": "value",
           "scale": {
            "zero": false
           },
           "title": "Flow (m^3/s)",
           "type": "quantitative"
          }
         },
         "mark": {
          "opacity": 0.2,
          "type": "line"
         }
        },
        {
         "data": {
          "format": {
           "type": "json"
          },
          "url": "altair-data-ef4f966aabcc838ac6637755c3e3210c.json"
         },
         "encoding": {
          "color": {
           "field": "legend",
           "scale": {
            "domain": [
             "true flow",
             "quantile predictions"
            ],
            "range": [
             "red",
             "gray"
            ]
           },
           "type": "nominal"
          },
          "x": {
           "axis": {
            "labelAngle": 0
           },
           "field": "step",
           "title": "Step",
           "type": "nominal"
          },
          "y": {
           "field": "value",
           "scale": {
            "zero": false
           },
           "title": "Flow (m^3/s)",
           "type": "quantitative"
          }
         },
         "mark": {
          "opacity": 0.2,
          "type": "line"
         }
        },
        {
         "data": {
          "format": {
           "type": "json"
          },
          "url": "altair-data-6bef7ba7ca9ed68789eacab081fc2f2c.json"
         },
         "encoding": {
          "color": {
           "field": "legend",
           "scale": {
            "domain": [
             "true flow",
             "quantile predictions"
            ],
            "range": [
             "red",
             "gray"
            ]
           },
           "type": "nominal"
          },
          "x": {
           "axis": {
            "labelAngle": 0
           },
           "field": "step",
           "title": "Step",
           "type": "nominal"
          },
          "y": {
           "field": "value",
           "scale": {
            "zero": false
           },
           "title": "Flow (m^3/s)",
           "type": "quantitative"
          }
         },
         "mark": {
          "opacity": 0.2,
          "type": "line"
         }
        },
        {
         "data": {
          "format": {
           "type": "json"
          },
          "url": "altair-data-fc53388552381a9acdbc7240ef6a5085.json"
         },
         "encoding": {
          "color": {
           "field": "legend",
           "scale": {
            "domain": [
             "true flow",
             "quantile predictions"
            ],
            "range": [
             "red",
             "gray"
            ]
           },
           "type": "nominal"
          },
          "x": {
           "axis": {
            "labelAngle": 0
           },
           "field": "step",
           "title": "Step",
           "type": "nominal"
          },
          "y": {
           "field": "value",
           "scale": {
            "zero": false
           },
           "title": "Flow (m^3/s)",
           "type": "quantitative"
          }
         },
         "mark": {
          "opacity": 0.2,
          "type": "line"
         }
        },
        {
         "data": {
          "format": {
           "type": "json"
          },
          "url": "altair-data-3e688d6a4161c8a651b7fc0451e20df0.json"
         },
         "encoding": {
          "color": {
           "field": "legend",
           "scale": {
            "domain": [
             "true flow",
             "quantile predictions"
            ],
            "range": [
             "red",
             "gray"
            ]
           },
           "type": "nominal"
          },
          "x": {
           "axis": {
            "labelAngle": 0
           },
           "field": "step",
           "title": "Step",
           "type": "nominal"
          },
          "y": {
           "field": "value",
           "scale": {
            "zero": false
           },
           "title": "Flow (m^3/s)",
           "type": "quantitative"
          }
         },
         "mark": {
          "opacity": 0.2,
          "type": "line"
         }
        },
        {
         "data": {
          "format": {
           "type": "json"
          },
          "url": "altair-data-cd67ddc3e05819fe05502f8d738d6347.json"
         },
         "encoding": {
          "color": {
           "field": "legend",
           "scale": {
            "domain": [
             "true flow",
             "quantile predictions"
            ],
            "range": [
             "red",
             "gray"
            ]
           },
           "type": "nominal"
          },
          "x": {
           "axis": {
            "labelAngle": 0
           },
           "field": "step",
           "title": "Step",
           "type": "nominal"
          },
          "y": {
           "field": "value",
           "scale": {
            "zero": false
           },
           "title": "Flow (m^3/s)",
           "type": "quantitative"
          }
         },
         "mark": {
          "opacity": 0.2,
          "type": "line"
         }
        },
        {
         "data": {
          "format": {
           "type": "json"
          },
          "url": "altair-data-9961917bfc81435bb05fad350e8f3aae.json"
         },
         "encoding": {
          "color": {
           "field": "legend",
           "scale": {
            "domain": [
             "true flow",
             "quantile predictions"
            ],
            "range": [
             "red",
             "gray"
            ]
           },
           "type": "nominal"
          },
          "x": {
           "axis": {
            "labelAngle": 0
           },
           "field": "step",
           "title": "Step",
           "type": "nominal"
          },
          "y": {
           "field": "value",
           "scale": {
            "zero": false
           },
           "title": "Flow (m^3/s)",
           "type": "quantitative"
          }
         },
         "mark": {
          "opacity": 0.2,
          "type": "line"
         }
        },
        {
         "data": {
          "format": {
           "type": "json"
          },
          "url": "altair-data-35b8864407f4b378e1772ba6967e69f6.json"
         },
         "encoding": {
          "color": {
           "field": "legend",
           "scale": {
            "domain": [
             "true flow",
             "quantile predictions"
            ],
            "range": [
             "red",
             "gray"
            ]
           },
           "type": "nominal"
          },
          "x": {
           "axis": {
            "labelAngle": 0
           },
           "field": "step",
           "title": "Step",
           "type": "nominal"
          },
          "y": {
           "field": "value",
           "scale": {
            "zero": false
           },
           "title": "Flow (m^3/s)",
           "type": "quantitative"
          }
         },
         "mark": {
          "opacity": 0.2,
          "type": "line"
         }
        },
        {
         "data": {
          "format": {
           "type": "json"
          },
          "url": "altair-data-5e898a6044db1ed9ffca907786dcfe83.json"
         },
         "encoding": {
          "color": {
           "field": "legend",
           "scale": {
            "domain": [
             "true flow",
             "quantile predictions"
            ],
            "range": [
             "red",
             "gray"
            ]
           },
           "type": "nominal"
          },
          "x": {
           "axis": {
            "labelAngle": 0
           },
           "field": "step",
           "title": "Step",
           "type": "nominal"
          },
          "y": {
           "field": "value",
           "scale": {
            "zero": false
           },
           "title": "Flow (m^3/s)",
           "type": "quantitative"
          }
         },
         "mark": {
          "opacity": 0.2,
          "type": "line"
         }
        },
        {
         "data": {
          "format": {
           "type": "json"
          },
          "url": "altair-data-97ca2499deb123f9b300a004be22d318.json"
         },
         "encoding": {
          "color": {
           "field": "legend",
           "scale": {
            "domain": [
             "true flow",
             "quantile predictions"
            ],
            "range": [
             "red",
             "gray"
            ]
           },
           "type": "nominal"
          },
          "x": {
           "axis": {
            "labelAngle": 0
           },
           "field": "step",
           "title": "Step",
           "type": "nominal"
          },
          "y": {
           "field": "value",
           "scale": {
            "zero": false
           },
           "title": "Flow (m^3/s)",
           "type": "quantitative"
          }
         },
         "mark": {
          "opacity": 0.2,
          "type": "line"
         }
        },
        {
         "data": {
          "format": {
           "type": "json"
          },
          "url": "altair-data-a076fdd6a53ad3b0d3e3cef67a2bcc25.json"
         },
         "encoding": {
          "color": {
           "field": "legend",
           "scale": {
            "domain": [
             "true flow",
             "quantile predictions"
            ],
            "range": [
             "red",
             "gray"
            ]
           },
           "type": "nominal"
          },
          "x": {
           "axis": {
            "labelAngle": 0
           },
           "field": "step",
           "title": "Step",
           "type": "nominal"
          },
          "y": {
           "field": "value",
           "scale": {
            "zero": false
           },
           "title": "Flow (m^3/s)",
           "type": "quantitative"
          }
         },
         "mark": {
          "opacity": 0.2,
          "type": "line"
         }
        },
        {
         "data": {
          "format": {
           "type": "json"
          },
          "url": "altair-data-85ffdd1850aec9d3c93c0e2f0c6d46cf.json"
         },
         "encoding": {
          "color": {
           "field": "legend",
           "scale": {
            "domain": [
             "true flow",
             "quantile predictions"
            ],
            "range": [
             "red",
             "gray"
            ]
           },
           "type": "nominal"
          },
          "x": {
           "axis": {
            "labelAngle": 0
           },
           "field": "step",
           "title": "Step",
           "type": "nominal"
          },
          "y": {
           "field": "value",
           "scale": {
            "zero": false
           },
           "title": "Flow (m^3/s)",
           "type": "quantitative"
          }
         },
         "mark": {
          "opacity": 0.2,
          "type": "line"
         }
        },
        {
         "data": {
          "format": {
           "type": "json"
          },
          "url": "altair-data-67f3a79a171caab3207d150fd27573fb.json"
         },
         "encoding": {
          "color": {
           "field": "legend",
           "scale": {
            "domain": [
             "true flow",
             "quantile predictions"
            ],
            "range": [
             "red",
             "gray"
            ]
           },
           "type": "nominal"
          },
          "x": {
           "axis": {
            "labelAngle": 0
           },
           "field": "step",
           "title": "Step",
           "type": "nominal"
          },
          "y": {
           "field": "value",
           "scale": {
            "zero": false
           },
           "title": "Flow (m^3/s)",
           "type": "quantitative"
          }
         },
         "mark": {
          "opacity": 0.2,
          "type": "line"
         }
        },
        {
         "data": {
          "format": {
           "type": "json"
          },
          "url": "altair-data-e2c379fb95d3640ebaf3ceaed6b2ea8f.json"
         },
         "encoding": {
          "color": {
           "field": "legend",
           "scale": {
            "domain": [
             "true flow",
             "quantile predictions"
            ],
            "range": [
             "red",
             "gray"
            ]
           },
           "type": "nominal"
          },
          "x": {
           "axis": {
            "labelAngle": 0
           },
           "field": "step",
           "title": "Step",
           "type": "nominal"
          },
          "y": {
           "field": "value",
           "scale": {
            "zero": false
           },
           "title": "Flow (m^3/s)",
           "type": "quantitative"
          }
         },
         "mark": {
          "opacity": 0.2,
          "type": "line"
         }
        },
        {
         "data": {
          "format": {
           "type": "json"
          },
          "url": "altair-data-7f707edc5b030db8b3a7c4f62b55aac6.json"
         },
         "encoding": {
          "color": {
           "field": "legend",
           "scale": {
            "domain": [
             "true flow",
             "quantile predictions"
            ],
            "range": [
             "red",
             "gray"
            ]
           },
           "type": "nominal"
          },
          "x": {
           "axis": {
            "labelAngle": 0
           },
           "field": "step",
           "title": "Step",
           "type": "nominal"
          },
          "y": {
           "field": "value",
           "scale": {
            "zero": false
           },
           "title": "Flow (m^3/s)",
           "type": "quantitative"
          }
         },
         "mark": {
          "opacity": 0.2,
          "type": "line"
         }
        },
        {
         "data": {
          "format": {
           "type": "json"
          },
          "url": "altair-data-62257af142c837fe3a0db225a7aa9aae.json"
         },
         "encoding": {
          "color": {
           "field": "legend",
           "scale": {
            "domain": [
             "true flow",
             "quantile predictions"
            ],
            "range": [
             "red",
             "gray"
            ]
           },
           "type": "nominal"
          },
          "x": {
           "axis": {
            "labelAngle": 0
           },
           "field": "step",
           "title": "Step",
           "type": "nominal"
          },
          "y": {
           "field": "value",
           "scale": {
            "zero": false
           },
           "title": "Flow (m^3/s)",
           "type": "quantitative"
          }
         },
         "mark": {
          "opacity": 0.2,
          "type": "line"
         }
        },
        {
         "data": {
          "format": {
           "type": "json"
          },
          "url": "altair-data-4a9bf4d70dce545908cd0cccd95bcdfb.json"
         },
         "encoding": {
          "color": {
           "field": "legend",
           "scale": {
            "domain": [
             "true flow",
             "quantile predictions"
            ],
            "range": [
             "red",
             "gray"
            ]
           },
           "type": "nominal"
          },
          "x": {
           "axis": {
            "labelAngle": 0
           },
           "field": "step",
           "title": "Step",
           "type": "nominal"
          },
          "y": {
           "field": "value",
           "scale": {
            "zero": false
           },
           "title": "Flow (m^3/s)",
           "type": "quantitative"
          }
         },
         "mark": {
          "opacity": 0.2,
          "type": "line"
         }
        },
        {
         "data": {
          "format": {
           "type": "json"
          },
          "url": "altair-data-382cc87a89b4c9295314a2f9efdd87a5.json"
         },
         "encoding": {
          "color": {
           "field": "legend",
           "scale": {
            "domain": [
             "true flow",
             "quantile predictions"
            ],
            "range": [
             "red",
             "gray"
            ]
           },
           "type": "nominal"
          },
          "x": {
           "axis": {
            "labelAngle": 0
           },
           "field": "step",
           "title": "Step",
           "type": "nominal"
          },
          "y": {
           "field": "value",
           "scale": {
            "zero": false
           },
           "title": "Flow (m^3/s)",
           "type": "quantitative"
          }
         },
         "mark": {
          "opacity": 0.2,
          "type": "line"
         }
        },
        {
         "data": {
          "format": {
           "type": "json"
          },
          "url": "altair-data-e3ecaf2ffba3838953d609e69563bb55.json"
         },
         "encoding": {
          "color": {
           "field": "legend",
           "scale": {
            "domain": [
             "true flow",
             "quantile predictions"
            ],
            "range": [
             "red",
             "gray"
            ]
           },
           "type": "nominal"
          },
          "x": {
           "axis": {
            "labelAngle": 0
           },
           "field": "step",
           "title": "Step",
           "type": "nominal"
          },
          "y": {
           "field": "value",
           "scale": {
            "zero": false
           },
           "title": "Flow (m^3/s)",
           "type": "quantitative"
          }
         },
         "mark": {
          "opacity": 0.2,
          "type": "line"
         }
        },
        {
         "data": {
          "format": {
           "type": "json"
          },
          "url": "altair-data-fed3508c34ed285d0f22e5c697ad8af8.json"
         },
         "encoding": {
          "color": {
           "field": "legend",
           "scale": {
            "domain": [
             "true flow",
             "quantile predictions"
            ],
            "range": [
             "red",
             "gray"
            ]
           },
           "type": "nominal"
          },
          "x": {
           "axis": {
            "labelAngle": 0
           },
           "field": "step",
           "title": "Step",
           "type": "nominal"
          },
          "y": {
           "field": "value",
           "scale": {
            "zero": false
           },
           "title": "Flow (m^3/s)",
           "type": "quantitative"
          }
         },
         "mark": {
          "opacity": 0.2,
          "type": "line"
         }
        },
        {
         "data": {
          "format": {
           "type": "json"
          },
          "url": "altair-data-aa019e1011cdc9394e1e5be261ca3823.json"
         },
         "encoding": {
          "color": {
           "field": "legend",
           "scale": {
            "domain": [
             "true flow",
             "quantile predictions"
            ],
            "range": [
             "red",
             "gray"
            ]
           },
           "type": "nominal"
          },
          "x": {
           "axis": {
            "labelAngle": 0
           },
           "field": "step",
           "title": "Step",
           "type": "nominal"
          },
          "y": {
           "field": "value",
           "scale": {
            "zero": false
           },
           "title": "Flow (m^3/s)",
           "type": "quantitative"
          }
         },
         "mark": {
          "opacity": 0.2,
          "type": "line"
         }
        },
        {
         "data": {
          "format": {
           "type": "json"
          },
          "url": "altair-data-d85f8edd374325b5dd53ee2d039f154c.json"
         },
         "encoding": {
          "color": {
           "field": "legend",
           "scale": {
            "domain": [
             "true flow",
             "quantile predictions"
            ],
            "range": [
             "red",
             "gray"
            ]
           },
           "type": "nominal"
          },
          "x": {
           "axis": {
            "labelAngle": 0
           },
           "field": "step",
           "title": "Step",
           "type": "nominal"
          },
          "y": {
           "field": "value",
           "scale": {
            "zero": false
           },
           "title": "Flow (m^3/s)",
           "type": "quantitative"
          }
         },
         "mark": {
          "opacity": 0.2,
          "type": "line"
         }
        },
        {
         "data": {
          "format": {
           "type": "json"
          },
          "url": "altair-data-8c93f11a7f823e7b62f73d651dc24926.json"
         },
         "encoding": {
          "color": {
           "field": "legend",
           "scale": {
            "domain": [
             "true flow",
             "quantile predictions"
            ],
            "range": [
             "red",
             "gray"
            ]
           },
           "type": "nominal"
          },
          "x": {
           "axis": {
            "labelAngle": 0
           },
           "field": "step",
           "title": "Step",
           "type": "nominal"
          },
          "y": {
           "field": "value",
           "scale": {
            "zero": false
           },
           "title": "Flow (m^3/s)",
           "type": "quantitative"
          }
         },
         "mark": {
          "opacity": 0.2,
          "type": "line"
         }
        },
        {
         "data": {
          "format": {
           "type": "json"
          },
          "url": "altair-data-f6a4f75302f0d6e74192b1bf10ba3f7f.json"
         },
         "encoding": {
          "color": {
           "field": "legend",
           "scale": {
            "domain": [
             "true flow",
             "quantile predictions"
            ],
            "range": [
             "red",
             "gray"
            ]
           },
           "type": "nominal"
          },
          "x": {
           "axis": {
            "labelAngle": 0
           },
           "field": "step",
           "title": "Step",
           "type": "nominal"
          },
          "y": {
           "field": "value",
           "scale": {
            "zero": false
           },
           "title": "Flow (m^3/s)",
           "type": "quantitative"
          }
         },
         "mark": {
          "opacity": 0.2,
          "type": "line"
         }
        },
        {
         "data": {
          "format": {
           "type": "json"
          },
          "url": "altair-data-b22eddfaf987ea8c4cbf039fdb07eef6.json"
         },
         "encoding": {
          "color": {
           "field": "legend",
           "scale": {
            "domain": [
             "true flow",
             "quantile predictions"
            ],
            "range": [
             "red",
             "gray"
            ]
           },
           "type": "nominal"
          },
          "x": {
           "axis": {
            "labelAngle": 0
           },
           "field": "step",
           "title": "Step",
           "type": "nominal"
          },
          "y": {
           "field": "value",
           "scale": {
            "zero": false
           },
           "title": "Flow (m^3/s)",
           "type": "quantitative"
          }
         },
         "mark": {
          "opacity": 0.2,
          "type": "line"
         }
        },
        {
         "data": {
          "format": {
           "type": "json"
          },
          "url": "altair-data-d5380e4a5a72e85915836491c2cecce6.json"
         },
         "encoding": {
          "color": {
           "field": "legend",
           "scale": {
            "domain": [
             "true flow",
             "quantile predictions"
            ],
            "range": [
             "red",
             "gray"
            ]
           },
           "type": "nominal"
          },
          "x": {
           "axis": {
            "labelAngle": 0
           },
           "field": "step",
           "title": "Step",
           "type": "nominal"
          },
          "y": {
           "field": "value",
           "scale": {
            "zero": false
           },
           "title": "Flow (m^3/s)",
           "type": "quantitative"
          }
         },
         "mark": {
          "opacity": 0.2,
          "type": "line"
         }
        },
        {
         "data": {
          "format": {
           "type": "json"
          },
          "url": "altair-data-90bcec8e67e180b3ab6185a46c451c7c.json"
         },
         "encoding": {
          "color": {
           "field": "legend",
           "scale": {
            "domain": [
             "true flow",
             "quantile predictions"
            ],
            "range": [
             "red",
             "gray"
            ]
           },
           "type": "nominal"
          },
          "x": {
           "axis": {
            "labelAngle": 0
           },
           "field": "step",
           "title": "Step",
           "type": "nominal"
          },
          "y": {
           "field": "value",
           "scale": {
            "zero": false
           },
           "title": "Flow (m^3/s)",
           "type": "quantitative"
          }
         },
         "mark": {
          "opacity": 0.2,
          "type": "line"
         }
        },
        {
         "data": {
          "format": {
           "type": "json"
          },
          "url": "altair-data-ae93e80e6b54a36b50a493e38321a916.json"
         },
         "encoding": {
          "color": {
           "field": "legend",
           "scale": {
            "domain": [
             "true flow",
             "quantile predictions"
            ],
            "range": [
             "red",
             "gray"
            ]
           },
           "type": "nominal"
          },
          "x": {
           "axis": {
            "labelAngle": 0
           },
           "field": "step",
           "title": "Step",
           "type": "nominal"
          },
          "y": {
           "field": "value",
           "scale": {
            "zero": false
           },
           "title": "Flow (m^3/s)",
           "type": "quantitative"
          }
         },
         "mark": {
          "opacity": 0.2,
          "type": "line"
         }
        },
        {
         "data": {
          "format": {
           "type": "json"
          },
          "url": "altair-data-bffba5750889e5806f29ca7ddccb52b3.json"
         },
         "encoding": {
          "color": {
           "field": "legend",
           "scale": {
            "domain": [
             "true flow",
             "quantile predictions"
            ],
            "range": [
             "red",
             "gray"
            ]
           },
           "type": "nominal"
          },
          "x": {
           "axis": {
            "labelAngle": 0
           },
           "field": "step",
           "title": "Step",
           "type": "nominal"
          },
          "y": {
           "field": "value",
           "scale": {
            "zero": false
           },
           "title": "Flow (m^3/s)",
           "type": "quantitative"
          }
         },
         "mark": {
          "opacity": 0.2,
          "type": "line"
         }
        },
        {
         "data": {
          "format": {
           "type": "json"
          },
          "url": "altair-data-41ff9f9cd01a467cd59321e5959c75ae.json"
         },
         "encoding": {
          "color": {
           "field": "legend",
           "scale": {
            "domain": [
             "true flow",
             "quantile predictions"
            ],
            "range": [
             "red",
             "gray"
            ]
           },
           "type": "nominal"
          },
          "x": {
           "axis": {
            "labelAngle": 0
           },
           "field": "step",
           "title": "Step",
           "type": "nominal"
          },
          "y": {
           "field": "value",
           "scale": {
            "zero": false
           },
           "title": "Flow (m^3/s)",
           "type": "quantitative"
          }
         },
         "mark": {
          "opacity": 0.2,
          "type": "line"
         }
        },
        {
         "data": {
          "format": {
           "type": "json"
          },
          "url": "altair-data-9155025962ea3d2d38fd091881ff1777.json"
         },
         "encoding": {
          "color": {
           "field": "legend",
           "scale": {
            "domain": [
             "true flow",
             "quantile predictions"
            ],
            "range": [
             "red",
             "gray"
            ]
           },
           "type": "nominal"
          },
          "x": {
           "axis": {
            "labelAngle": 0
           },
           "field": "step",
           "title": "Step",
           "type": "nominal"
          },
          "y": {
           "field": "value",
           "scale": {
            "zero": false
           },
           "title": "Flow (m^3/s)",
           "type": "quantitative"
          }
         },
         "mark": {
          "opacity": 0.2,
          "type": "line"
         }
        },
        {
         "data": {
          "format": {
           "type": "json"
          },
          "url": "altair-data-feede6a822ce52d9d22696c684f5138f.json"
         },
         "encoding": {
          "color": {
           "field": "legend",
           "scale": {
            "domain": [
             "true flow",
             "quantile predictions"
            ],
            "range": [
             "red",
             "gray"
            ]
           },
           "type": "nominal"
          },
          "x": {
           "axis": {
            "labelAngle": 0
           },
           "field": "step",
           "title": "Step",
           "type": "nominal"
          },
          "y": {
           "field": "value",
           "scale": {
            "zero": false
           },
           "title": "Flow (m^3/s)",
           "type": "quantitative"
          }
         },
         "mark": {
          "opacity": 0.2,
          "type": "line"
         }
        },
        {
         "data": {
          "format": {
           "type": "json"
          },
          "url": "altair-data-ef82ae65bc4ea9a019d2e7941bf966de.json"
         },
         "encoding": {
          "color": {
           "field": "legend",
           "scale": {
            "domain": [
             "true flow",
             "quantile predictions"
            ],
            "range": [
             "red",
             "gray"
            ]
           },
           "type": "nominal"
          },
          "x": {
           "axis": {
            "labelAngle": 0
           },
           "field": "step",
           "title": "Step",
           "type": "nominal"
          },
          "y": {
           "field": "value",
           "scale": {
            "zero": false
           },
           "title": "Flow (m^3/s)",
           "type": "quantitative"
          }
         },
         "mark": {
          "opacity": 0.2,
          "type": "line"
         }
        },
        {
         "data": {
          "format": {
           "type": "json"
          },
          "url": "altair-data-1d7dcb20fbb07f318320f72bb90180b0.json"
         },
         "encoding": {
          "color": {
           "field": "legend",
           "scale": {
            "domain": [
             "true flow",
             "quantile predictions"
            ],
            "range": [
             "red",
             "gray"
            ]
           },
           "type": "nominal"
          },
          "x": {
           "axis": {
            "labelAngle": 0
           },
           "field": "step",
           "title": "Step",
           "type": "nominal"
          },
          "y": {
           "field": "value",
           "scale": {
            "zero": false
           },
           "title": "Flow (m^3/s)",
           "type": "quantitative"
          }
         },
         "mark": {
          "opacity": 0.2,
          "type": "line"
         }
        },
        {
         "data": {
          "format": {
           "type": "json"
          },
          "url": "altair-data-ac55c239e1d22606dfe23ab4d764561a.json"
         },
         "encoding": {
          "color": {
           "field": "legend",
           "scale": {
            "domain": [
             "true flow",
             "quantile predictions"
            ],
            "range": [
             "red",
             "gray"
            ]
           },
           "type": "nominal"
          },
          "x": {
           "axis": {
            "labelAngle": 0
           },
           "field": "step",
           "title": "Step",
           "type": "nominal"
          },
          "y": {
           "field": "value",
           "scale": {
            "zero": false
           },
           "title": "Flow (m^3/s)",
           "type": "quantitative"
          }
         },
         "mark": {
          "opacity": 0.2,
          "type": "line"
         }
        },
        {
         "data": {
          "format": {
           "type": "json"
          },
          "url": "altair-data-98064e5bf19d839f6005806cb859a3b4.json"
         },
         "encoding": {
          "color": {
           "field": "legend",
           "scale": {
            "domain": [
             "true flow",
             "quantile predictions"
            ],
            "range": [
             "red",
             "gray"
            ]
           },
           "type": "nominal"
          },
          "x": {
           "axis": {
            "labelAngle": 0
           },
           "field": "step",
           "title": "Step",
           "type": "nominal"
          },
          "y": {
           "field": "value",
           "scale": {
            "zero": false
           },
           "title": "Flow (m^3/s)",
           "type": "quantitative"
          }
         },
         "mark": {
          "opacity": 0.2,
          "type": "line"
         }
        },
        {
         "data": {
          "format": {
           "type": "json"
          },
          "url": "altair-data-9aedd13c52f7bf7d55172ef27ff86c95.json"
         },
         "encoding": {
          "color": {
           "field": "legend",
           "scale": {
            "domain": [
             "true flow",
             "quantile predictions"
            ],
            "range": [
             "red",
             "gray"
            ]
           },
           "type": "nominal"
          },
          "x": {
           "axis": {
            "labelAngle": 0
           },
           "field": "step",
           "title": "Step",
           "type": "nominal"
          },
          "y": {
           "field": "value",
           "scale": {
            "zero": false
           },
           "title": "Flow (m^3/s)",
           "type": "quantitative"
          }
         },
         "mark": {
          "opacity": 0.2,
          "type": "line"
         }
        },
        {
         "data": {
          "format": {
           "type": "json"
          },
          "url": "altair-data-27c54d361099b462dd59eb31a37b6cf0.json"
         },
         "encoding": {
          "color": {
           "field": "legend",
           "scale": {
            "domain": [
             "true flow",
             "quantile predictions"
            ],
            "range": [
             "red",
             "gray"
            ]
           },
           "type": "nominal"
          },
          "x": {
           "axis": {
            "labelAngle": 0
           },
           "field": "step",
           "title": "Step",
           "type": "nominal"
          },
          "y": {
           "field": "value",
           "scale": {
            "zero": false
           },
           "title": "Flow (m^3/s)",
           "type": "quantitative"
          }
         },
         "mark": {
          "opacity": 0.2,
          "type": "line"
         }
        },
        {
         "data": {
          "format": {
           "type": "json"
          },
          "url": "altair-data-dd16626f63effd63308f616f1df97cc9.json"
         },
         "encoding": {
          "color": {
           "field": "legend",
           "scale": {
            "domain": [
             "true flow",
             "quantile predictions"
            ],
            "range": [
             "red",
             "gray"
            ]
           },
           "type": "nominal"
          },
          "x": {
           "axis": {
            "labelAngle": 0
           },
           "field": "step",
           "title": "Step",
           "type": "nominal"
          },
          "y": {
           "field": "value",
           "scale": {
            "zero": false
           },
           "title": "Flow (m^3/s)",
           "type": "quantitative"
          }
         },
         "mark": {
          "opacity": 0.2,
          "type": "line"
         }
        },
        {
         "data": {
          "format": {
           "type": "json"
          },
          "url": "altair-data-689bf27e72ee47cb3f1df0740b9ccd14.json"
         },
         "encoding": {
          "color": {
           "field": "legend",
           "scale": {
            "domain": [
             "true flow",
             "quantile predictions"
            ],
            "range": [
             "red",
             "gray"
            ]
           },
           "type": "nominal"
          },
          "x": {
           "axis": {
            "labelAngle": 0
           },
           "field": "step",
           "title": "Step",
           "type": "nominal"
          },
          "y": {
           "field": "value",
           "scale": {
            "zero": false
           },
           "title": "Flow (m^3/s)",
           "type": "quantitative"
          }
         },
         "mark": {
          "opacity": 0.2,
          "type": "line"
         }
        },
        {
         "data": {
          "format": {
           "type": "json"
          },
          "url": "altair-data-b3137108f9bcdc78d1405f01a8a132a4.json"
         },
         "encoding": {
          "color": {
           "field": "legend",
           "scale": {
            "domain": [
             "true flow",
             "quantile predictions"
            ],
            "range": [
             "red",
             "gray"
            ]
           },
           "type": "nominal"
          },
          "x": {
           "axis": {
            "labelAngle": 0
           },
           "field": "step",
           "title": "Step",
           "type": "nominal"
          },
          "y": {
           "field": "value",
           "scale": {
            "zero": false
           },
           "title": "Flow (m^3/s)",
           "type": "quantitative"
          }
         },
         "mark": {
          "opacity": 0.2,
          "type": "line"
         }
        },
        {
         "data": {
          "format": {
           "type": "json"
          },
          "url": "altair-data-8b22434059603988ac14881f4c74cdb1.json"
         },
         "encoding": {
          "color": {
           "field": "legend",
           "scale": {
            "domain": [
             "true flow",
             "quantile predictions"
            ],
            "range": [
             "red",
             "gray"
            ]
           },
           "type": "nominal"
          },
          "x": {
           "axis": {
            "labelAngle": 0
           },
           "field": "step",
           "title": "Step",
           "type": "nominal"
          },
          "y": {
           "field": "value",
           "scale": {
            "zero": false
           },
           "title": "Flow (m^3/s)",
           "type": "quantitative"
          }
         },
         "mark": {
          "opacity": 0.2,
          "type": "line"
         }
        },
        {
         "data": {
          "format": {
           "type": "json"
          },
          "url": "altair-data-8a40244868d5a0cf5f30637099f00b39.json"
         },
         "encoding": {
          "color": {
           "field": "legend",
           "scale": {
            "domain": [
             "true flow",
             "quantile predictions"
            ],
            "range": [
             "red",
             "gray"
            ]
           },
           "type": "nominal"
          },
          "x": {
           "axis": {
            "labelAngle": 0
           },
           "field": "step",
           "title": "Step",
           "type": "nominal"
          },
          "y": {
           "field": "value",
           "scale": {
            "zero": false
           },
           "title": "Flow (m^3/s)",
           "type": "quantitative"
          }
         },
         "mark": {
          "opacity": 0.2,
          "type": "line"
         }
        },
        {
         "data": {
          "format": {
           "type": "json"
          },
          "url": "altair-data-2c13e564fafabe6d5fbda4c3ca417348.json"
         },
         "encoding": {
          "color": {
           "field": "legend",
           "scale": {
            "domain": [
             "true flow",
             "quantile predictions"
            ],
            "range": [
             "red",
             "gray"
            ]
           },
           "type": "nominal"
          },
          "x": {
           "axis": {
            "labelAngle": 0
           },
           "field": "step",
           "title": "Step",
           "type": "nominal"
          },
          "y": {
           "field": "value",
           "scale": {
            "zero": false
           },
           "title": "Flow (m^3/s)",
           "type": "quantitative"
          }
         },
         "mark": {
          "opacity": 0.2,
          "type": "line"
         }
        },
        {
         "data": {
          "format": {
           "type": "json"
          },
          "url": "altair-data-1160cfa856ed5688a7f8c12c5ce11073.json"
         },
         "encoding": {
          "color": {
           "field": "legend",
           "scale": {
            "domain": [
             "true flow",
             "quantile predictions"
            ],
            "range": [
             "red",
             "gray"
            ]
           },
           "type": "nominal"
          },
          "x": {
           "axis": {
            "labelAngle": 0
           },
           "field": "step",
           "title": "Step",
           "type": "nominal"
          },
          "y": {
           "field": "value",
           "scale": {
            "zero": false
           },
           "title": "Flow (m^3/s)",
           "type": "quantitative"
          }
         },
         "mark": {
          "opacity": 0.2,
          "type": "line"
         }
        },
        {
         "data": {
          "format": {
           "type": "json"
          },
          "url": "altair-data-5dfba85a06be69a61ca0008829a6a532.json"
         },
         "encoding": {
          "color": {
           "field": "legend",
           "scale": {
            "domain": [
             "true flow",
             "quantile predictions"
            ],
            "range": [
             "red",
             "gray"
            ]
           },
           "type": "nominal"
          },
          "x": {
           "axis": {
            "labelAngle": 0
           },
           "field": "step",
           "title": "Step",
           "type": "nominal"
          },
          "y": {
           "field": "value",
           "scale": {
            "zero": false
           },
           "title": "Flow (m^3/s)",
           "type": "quantitative"
          }
         },
         "mark": {
          "opacity": 0.2,
          "type": "line"
         }
        },
        {
         "data": {
          "format": {
           "type": "json"
          },
          "url": "altair-data-b6d625e07e0b6b36c684683d3d872465.json"
         },
         "encoding": {
          "color": {
           "field": "legend",
           "scale": {
            "domain": [
             "true flow",
             "quantile predictions"
            ],
            "range": [
             "red",
             "gray"
            ]
           },
           "type": "nominal"
          },
          "x": {
           "axis": {
            "labelAngle": 0
           },
           "field": "step",
           "title": "Step",
           "type": "nominal"
          },
          "y": {
           "field": "value",
           "scale": {
            "zero": false
           },
           "title": "Flow (m^3/s)",
           "type": "quantitative"
          }
         },
         "mark": {
          "opacity": 0.2,
          "type": "line"
         }
        },
        {
         "data": {
          "format": {
           "type": "json"
          },
          "url": "altair-data-82aa607957ef1a0d6ee987e5aebeaedc.json"
         },
         "encoding": {
          "color": {
           "field": "legend",
           "scale": {
            "domain": [
             "true flow",
             "quantile predictions"
            ],
            "range": [
             "red",
             "gray"
            ]
           },
           "type": "nominal"
          },
          "x": {
           "axis": {
            "labelAngle": 0
           },
           "field": "step",
           "title": "Step",
           "type": "nominal"
          },
          "y": {
           "field": "value",
           "scale": {
            "zero": false
           },
           "title": "Flow (m^3/s)",
           "type": "quantitative"
          }
         },
         "mark": {
          "opacity": 0.2,
          "type": "line"
         }
        },
        {
         "data": {
          "format": {
           "type": "json"
          },
          "url": "altair-data-607f13783613b8674533f653523f653c.json"
         },
         "encoding": {
          "color": {
           "field": "legend",
           "scale": {
            "domain": [
             "true flow",
             "quantile predictions"
            ],
            "range": [
             "red",
             "gray"
            ]
           },
           "type": "nominal"
          },
          "x": {
           "axis": {
            "labelAngle": 0
           },
           "field": "step",
           "title": "Step",
           "type": "nominal"
          },
          "y": {
           "field": "value",
           "scale": {
            "zero": false
           },
           "title": "Flow (m^3/s)",
           "type": "quantitative"
          }
         },
         "mark": {
          "opacity": 0.2,
          "type": "line"
         }
        },
        {
         "data": {
          "format": {
           "type": "json"
          },
          "url": "altair-data-51ffd68d3cd98de8ecdb9e2b57b6236c.json"
         },
         "encoding": {
          "color": {
           "field": "legend",
           "scale": {
            "domain": [
             "true flow",
             "quantile predictions"
            ],
            "range": [
             "red",
             "gray"
            ]
           },
           "type": "nominal"
          },
          "x": {
           "axis": {
            "labelAngle": 0
           },
           "field": "step",
           "title": "Step",
           "type": "nominal"
          },
          "y": {
           "field": "value",
           "scale": {
            "zero": false
           },
           "title": "Flow (m^3/s)",
           "type": "quantitative"
          }
         },
         "mark": {
          "opacity": 0.2,
          "type": "line"
         }
        },
        {
         "data": {
          "format": {
           "type": "json"
          },
          "url": "altair-data-35de4115a675d8d7b7a02042daa1ee84.json"
         },
         "encoding": {
          "color": {
           "field": "legend",
           "scale": {
            "domain": [
             "true flow",
             "quantile predictions"
            ],
            "range": [
             "red",
             "gray"
            ]
           },
           "type": "nominal"
          },
          "x": {
           "axis": {
            "labelAngle": 0
           },
           "field": "step",
           "title": "Step",
           "type": "nominal"
          },
          "y": {
           "field": "value",
           "scale": {
            "zero": false
           },
           "title": "Flow (m^3/s)",
           "type": "quantitative"
          }
         },
         "mark": {
          "opacity": 0.2,
          "type": "line"
         }
        },
        {
         "data": {
          "format": {
           "type": "json"
          },
          "url": "altair-data-d84aa04a52c9662f51ec78258ec8e325.json"
         },
         "encoding": {
          "color": {
           "field": "legend",
           "scale": {
            "domain": [
             "true flow",
             "quantile predictions"
            ],
            "range": [
             "red",
             "gray"
            ]
           },
           "type": "nominal"
          },
          "x": {
           "axis": {
            "labelAngle": 0
           },
           "field": "step",
           "title": "Step",
           "type": "nominal"
          },
          "y": {
           "field": "value",
           "scale": {
            "zero": false
           },
           "title": "Flow (m^3/s)",
           "type": "quantitative"
          }
         },
         "mark": {
          "opacity": 0.2,
          "type": "line"
         }
        },
        {
         "data": {
          "format": {
           "type": "json"
          },
          "url": "altair-data-0772f7041654f85a9c122f5c5e61048c.json"
         },
         "encoding": {
          "color": {
           "field": "legend",
           "scale": {
            "domain": [
             "true flow",
             "quantile predictions"
            ],
            "range": [
             "red",
             "gray"
            ]
           },
           "type": "nominal"
          },
          "x": {
           "axis": {
            "labelAngle": 0
           },
           "field": "step",
           "title": "Step",
           "type": "nominal"
          },
          "y": {
           "field": "value",
           "scale": {
            "zero": false
           },
           "title": "Flow (m^3/s)",
           "type": "quantitative"
          }
         },
         "mark": {
          "opacity": 0.2,
          "type": "line"
         }
        },
        {
         "data": {
          "format": {
           "type": "json"
          },
          "url": "altair-data-94abff7baf4b81b3b9d435ec29b86f63.json"
         },
         "encoding": {
          "color": {
           "field": "legend",
           "scale": {
            "domain": [
             "true flow",
             "quantile predictions"
            ],
            "range": [
             "red",
             "gray"
            ]
           },
           "type": "nominal"
          },
          "x": {
           "axis": {
            "labelAngle": 0
           },
           "field": "step",
           "title": "Step",
           "type": "nominal"
          },
          "y": {
           "field": "value",
           "scale": {
            "zero": false
           },
           "title": "Flow (m^3/s)",
           "type": "quantitative"
          }
         },
         "mark": {
          "opacity": 0.2,
          "type": "line"
         }
        },
        {
         "data": {
          "format": {
           "type": "json"
          },
          "url": "altair-data-290924b989d1245ba91c0f6708618451.json"
         },
         "encoding": {
          "color": {
           "field": "legend",
           "scale": {
            "domain": [
             "true flow",
             "quantile predictions"
            ],
            "range": [
             "red",
             "gray"
            ]
           },
           "type": "nominal"
          },
          "x": {
           "axis": {
            "labelAngle": 0
           },
           "field": "step",
           "title": "Step",
           "type": "nominal"
          },
          "y": {
           "field": "value",
           "scale": {
            "zero": false
           },
           "title": "Flow (m^3/s)",
           "type": "quantitative"
          }
         },
         "mark": {
          "opacity": 0.2,
          "type": "line"
         }
        },
        {
         "data": {
          "format": {
           "type": "json"
          },
          "url": "altair-data-be6bfaa32259c9bd63a48e9f1bf97ce4.json"
         },
         "encoding": {
          "color": {
           "field": "legend",
           "scale": {
            "domain": [
             "true flow",
             "quantile predictions"
            ],
            "range": [
             "red",
             "gray"
            ]
           },
           "type": "nominal"
          },
          "x": {
           "axis": {
            "labelAngle": 0
           },
           "field": "step",
           "title": "Step",
           "type": "nominal"
          },
          "y": {
           "field": "value",
           "scale": {
            "zero": false
           },
           "title": "Flow (m^3/s)",
           "type": "quantitative"
          }
         },
         "mark": {
          "opacity": 0.2,
          "type": "line"
         }
        },
        {
         "data": {
          "format": {
           "type": "json"
          },
          "url": "altair-data-913c8acabd30da921172196674e82c82.json"
         },
         "encoding": {
          "color": {
           "field": "legend",
           "scale": {
            "domain": [
             "true flow",
             "quantile predictions"
            ],
            "range": [
             "red",
             "gray"
            ]
           },
           "type": "nominal"
          },
          "x": {
           "axis": {
            "labelAngle": 0
           },
           "field": "step",
           "title": "Step",
           "type": "nominal"
          },
          "y": {
           "field": "value",
           "scale": {
            "zero": false
           },
           "title": "Flow (m^3/s)",
           "type": "quantitative"
          }
         },
         "mark": {
          "opacity": 0.2,
          "type": "line"
         }
        },
        {
         "data": {
          "format": {
           "type": "json"
          },
          "url": "altair-data-e615c2bcf0daccdcb11d7c9be9d932c3.json"
         },
         "encoding": {
          "color": {
           "field": "legend",
           "legend": {
            "orient": "left",
            "title": "Flows by color"
           },
           "scale": {
            "domain": [
             "true flow",
             "quantile predictions"
            ],
            "range": [
             "red",
             "grey"
            ]
           },
           "type": "nominal"
          },
          "x": {
           "axis": {
            "labelAngle": 0
           },
           "field": "step",
           "title": "Step",
           "type": "nominal"
          },
          "y": {
           "field": "value",
           "scale": {
            "zero": false
           },
           "title": "Flow (m^3/s)",
           "type": "quantitative"
          }
         },
         "mark": "line"
        },
        {
         "data": {
          "format": {
           "type": "json"
          },
          "url": "altair-data-d227f446fcc88249a9ce9e2a8abf7a2e.json"
         },
         "encoding": {
          "x": {
           "axis": {
            "labelAngle": 0
           },
           "field": "step",
           "title": "Step",
           "type": "nominal"
          },
          "y": {
           "field": "value",
           "scale": {
            "zero": false
           },
           "title": "Flow (m^3/s)",
           "type": "quantitative"
          }
         },
         "mark": {
          "color": "gray",
          "opacity": 0.2,
          "type": "circle"
         }
        }
       ],
       "title": "6 Steps Ahead Prediction",
       "width": 600
      },
      "image/png": "[encoded data removed]",
      "text/plain": [
       "<VegaLite 4 object>\n",
       "\n",
       "If you see this message, it means the renderer has not been properly enabled\n",
       "for the frontend that you are using. For more information, see\n",
       "https://altair-viz.github.io/user_guide/troubleshooting.html\n"
      ]
     },
     "execution_count": 8,
     "metadata": {},
     "output_type": "execute_result"
    }
   ],
   "source": [
    "plot_multiple_step_prediction(df_train, df_val, NARR, hourly=True, width=600, height=400)"
   ]
  },
  {
   "cell_type": "code",
   "execution_count": 9,
   "metadata": {},
   "outputs": [],
   "source": [
    "# Read result of model without NARR from the saved pickle files\n",
    "with open('../../data/pickle/qr_with_NARR_soilm.pickle', 'rb') as handle:\n",
    "    NARR_solim = pickle.load(handle)"
   ]
  },
  {
   "cell_type": "code",
   "execution_count": 10,
   "metadata": {},
   "outputs": [
    {
     "data": {
      "application/vnd.vegalite.v4+json": {
       "$schema": "https://vega.github.io/schema/vega-lite/v4.0.2.json",
       "config": {
        "view": {
         "continuousHeight": 300,
         "continuousWidth": 400
        }
       },
       "height": 400,
       "layer": [
        {
         "data": {
          "format": {
           "type": "json"
          },
          "url": "altair-data-d51cb5bc14677481fb10a1ff1299c871.json"
         },
         "encoding": {
          "color": {
           "field": "legend",
           "scale": {
            "domain": [
             "true flow",
             "quantile predictions"
            ],
            "range": [
             "red",
             "grey"
            ]
           },
           "type": "nominal"
          },
          "x": {
           "axis": {
            "labelAngle": 0
           },
           "field": "step",
           "title": "Step",
           "type": "nominal"
          },
          "y": {
           "field": "value",
           "scale": {
            "zero": false
           },
           "title": "Flow (m^3/s)",
           "type": "quantitative"
          }
         },
         "mark": {
          "opacity": 0.2,
          "type": "line"
         }
        },
        {
         "data": {
          "format": {
           "type": "json"
          },
          "url": "altair-data-800c4f15e20ce0aa3da9e187a9d60aa4.json"
         },
         "encoding": {
          "color": {
           "field": "legend",
           "scale": {
            "domain": [
             "true flow",
             "quantile predictions"
            ],
            "range": [
             "red",
             "gray"
            ]
           },
           "type": "nominal"
          },
          "x": {
           "axis": {
            "labelAngle": 0
           },
           "field": "step",
           "title": "Step",
           "type": "nominal"
          },
          "y": {
           "field": "value",
           "scale": {
            "zero": false
           },
           "title": "Flow (m^3/s)",
           "type": "quantitative"
          }
         },
         "mark": {
          "opacity": 0.2,
          "type": "line"
         }
        },
        {
         "data": {
          "format": {
           "type": "json"
          },
          "url": "altair-data-f4245225d2d3d3d7764e6f17fcd6c7c6.json"
         },
         "encoding": {
          "color": {
           "field": "legend",
           "scale": {
            "domain": [
             "true flow",
             "quantile predictions"
            ],
            "range": [
             "red",
             "gray"
            ]
           },
           "type": "nominal"
          },
          "x": {
           "axis": {
            "labelAngle": 0
           },
           "field": "step",
           "title": "Step",
           "type": "nominal"
          },
          "y": {
           "field": "value",
           "scale": {
            "zero": false
           },
           "title": "Flow (m^3/s)",
           "type": "quantitative"
          }
         },
         "mark": {
          "opacity": 0.2,
          "type": "line"
         }
        },
        {
         "data": {
          "format": {
           "type": "json"
          },
          "url": "altair-data-0df7016ceed030a2a7481f7143f36295.json"
         },
         "encoding": {
          "color": {
           "field": "legend",
           "scale": {
            "domain": [
             "true flow",
             "quantile predictions"
            ],
            "range": [
             "red",
             "gray"
            ]
           },
           "type": "nominal"
          },
          "x": {
           "axis": {
            "labelAngle": 0
           },
           "field": "step",
           "title": "Step",
           "type": "nominal"
          },
          "y": {
           "field": "value",
           "scale": {
            "zero": false
           },
           "title": "Flow (m^3/s)",
           "type": "quantitative"
          }
         },
         "mark": {
          "opacity": 0.2,
          "type": "line"
         }
        },
        {
         "data": {
          "format": {
           "type": "json"
          },
          "url": "altair-data-a0b3f3817135763730e13e2f0243982e.json"
         },
         "encoding": {
          "color": {
           "field": "legend",
           "scale": {
            "domain": [
             "true flow",
             "quantile predictions"
            ],
            "range": [
             "red",
             "gray"
            ]
           },
           "type": "nominal"
          },
          "x": {
           "axis": {
            "labelAngle": 0
           },
           "field": "step",
           "title": "Step",
           "type": "nominal"
          },
          "y": {
           "field": "value",
           "scale": {
            "zero": false
           },
           "title": "Flow (m^3/s)",
           "type": "quantitative"
          }
         },
         "mark": {
          "opacity": 0.2,
          "type": "line"
         }
        },
        {
         "data": {
          "format": {
           "type": "json"
          },
          "url": "altair-data-3054eb06525e3ad4852a692c8dab5339.json"
         },
         "encoding": {
          "color": {
           "field": "legend",
           "scale": {
            "domain": [
             "true flow",
             "quantile predictions"
            ],
            "range": [
             "red",
             "gray"
            ]
           },
           "type": "nominal"
          },
          "x": {
           "axis": {
            "labelAngle": 0
           },
           "field": "step",
           "title": "Step",
           "type": "nominal"
          },
          "y": {
           "field": "value",
           "scale": {
            "zero": false
           },
           "title": "Flow (m^3/s)",
           "type": "quantitative"
          }
         },
         "mark": {
          "opacity": 0.2,
          "type": "line"
         }
        },
        {
         "data": {
          "format": {
           "type": "json"
          },
          "url": "altair-data-c426401bbdf3a0910571cacfbfc80c15.json"
         },
         "encoding": {
          "color": {
           "field": "legend",
           "scale": {
            "domain": [
             "true flow",
             "quantile predictions"
            ],
            "range": [
             "red",
             "gray"
            ]
           },
           "type": "nominal"
          },
          "x": {
           "axis": {
            "labelAngle": 0
           },
           "field": "step",
           "title": "Step",
           "type": "nominal"
          },
          "y": {
           "field": "value",
           "scale": {
            "zero": false
           },
           "title": "Flow (m^3/s)",
           "type": "quantitative"
          }
         },
         "mark": {
          "opacity": 0.2,
          "type": "line"
         }
        },
        {
         "data": {
          "format": {
           "type": "json"
          },
          "url": "altair-data-a5cc1f59dfae9933146533b1deeed5bd.json"
         },
         "encoding": {
          "color": {
           "field": "legend",
           "scale": {
            "domain": [
             "true flow",
             "quantile predictions"
            ],
            "range": [
             "red",
             "gray"
            ]
           },
           "type": "nominal"
          },
          "x": {
           "axis": {
            "labelAngle": 0
           },
           "field": "step",
           "title": "Step",
           "type": "nominal"
          },
          "y": {
           "field": "value",
           "scale": {
            "zero": false
           },
           "title": "Flow (m^3/s)",
           "type": "quantitative"
          }
         },
         "mark": {
          "opacity": 0.2,
          "type": "line"
         }
        },
        {
         "data": {
          "format": {
           "type": "json"
          },
          "url": "altair-data-9caa9928f39ef10aabb9d74717054c60.json"
         },
         "encoding": {
          "color": {
           "field": "legend",
           "scale": {
            "domain": [
             "true flow",
             "quantile predictions"
            ],
            "range": [
             "red",
             "gray"
            ]
           },
           "type": "nominal"
          },
          "x": {
           "axis": {
            "labelAngle": 0
           },
           "field": "step",
           "title": "Step",
           "type": "nominal"
          },
          "y": {
           "field": "value",
           "scale": {
            "zero": false
           },
           "title": "Flow (m^3/s)",
           "type": "quantitative"
          }
         },
         "mark": {
          "opacity": 0.2,
          "type": "line"
         }
        },
        {
         "data": {
          "format": {
           "type": "json"
          },
          "url": "altair-data-6cd8199cb0b16a618b1e7db76e2879f0.json"
         },
         "encoding": {
          "color": {
           "field": "legend",
           "scale": {
            "domain": [
             "true flow",
             "quantile predictions"
            ],
            "range": [
             "red",
             "gray"
            ]
           },
           "type": "nominal"
          },
          "x": {
           "axis": {
            "labelAngle": 0
           },
           "field": "step",
           "title": "Step",
           "type": "nominal"
          },
          "y": {
           "field": "value",
           "scale": {
            "zero": false
           },
           "title": "Flow (m^3/s)",
           "type": "quantitative"
          }
         },
         "mark": {
          "opacity": 0.2,
          "type": "line"
         }
        },
        {
         "data": {
          "format": {
           "type": "json"
          },
          "url": "altair-data-168daf929d2db3a1bff2b43a27365860.json"
         },
         "encoding": {
          "color": {
           "field": "legend",
           "scale": {
            "domain": [
             "true flow",
             "quantile predictions"
            ],
            "range": [
             "red",
             "gray"
            ]
           },
           "type": "nominal"
          },
          "x": {
           "axis": {
            "labelAngle": 0
           },
           "field": "step",
           "title": "Step",
           "type": "nominal"
          },
          "y": {
           "field": "value",
           "scale": {
            "zero": false
           },
           "title": "Flow (m^3/s)",
           "type": "quantitative"
          }
         },
         "mark": {
          "opacity": 0.2,
          "type": "line"
         }
        },
        {
         "data": {
          "format": {
           "type": "json"
          },
          "url": "altair-data-f923d065df8e5501a0e0e686c412abc0.json"
         },
         "encoding": {
          "color": {
           "field": "legend",
           "scale": {
            "domain": [
             "true flow",
             "quantile predictions"
            ],
            "range": [
             "red",
             "gray"
            ]
           },
           "type": "nominal"
          },
          "x": {
           "axis": {
            "labelAngle": 0
           },
           "field": "step",
           "title": "Step",
           "type": "nominal"
          },
          "y": {
           "field": "value",
           "scale": {
            "zero": false
           },
           "title": "Flow (m^3/s)",
           "type": "quantitative"
          }
         },
         "mark": {
          "opacity": 0.2,
          "type": "line"
         }
        },
        {
         "data": {
          "format": {
           "type": "json"
          },
          "url": "altair-data-51003ce2af9a439385480c2245791a8d.json"
         },
         "encoding": {
          "color": {
           "field": "legend",
           "scale": {
            "domain": [
             "true flow",
             "quantile predictions"
            ],
            "range": [
             "red",
             "gray"
            ]
           },
           "type": "nominal"
          },
          "x": {
           "axis": {
            "labelAngle": 0
           },
           "field": "step",
           "title": "Step",
           "type": "nominal"
          },
          "y": {
           "field": "value",
           "scale": {
            "zero": false
           },
           "title": "Flow (m^3/s)",
           "type": "quantitative"
          }
         },
         "mark": {
          "opacity": 0.2,
          "type": "line"
         }
        },
        {
         "data": {
          "format": {
           "type": "json"
          },
          "url": "altair-data-0ef339d7581c1b995c3b9c6d8c349635.json"
         },
         "encoding": {
          "color": {
           "field": "legend",
           "scale": {
            "domain": [
             "true flow",
             "quantile predictions"
            ],
            "range": [
             "red",
             "gray"
            ]
           },
           "type": "nominal"
          },
          "x": {
           "axis": {
            "labelAngle": 0
           },
           "field": "step",
           "title": "Step",
           "type": "nominal"
          },
          "y": {
           "field": "value",
           "scale": {
            "zero": false
           },
           "title": "Flow (m^3/s)",
           "type": "quantitative"
          }
         },
         "mark": {
          "opacity": 0.2,
          "type": "line"
         }
        },
        {
         "data": {
          "format": {
           "type": "json"
          },
          "url": "altair-data-ba16c3c5beb3fd57c164ae8008ce185a.json"
         },
         "encoding": {
          "color": {
           "field": "legend",
           "scale": {
            "domain": [
             "true flow",
             "quantile predictions"
            ],
            "range": [
             "red",
             "gray"
            ]
           },
           "type": "nominal"
          },
          "x": {
           "axis": {
            "labelAngle": 0
           },
           "field": "step",
           "title": "Step",
           "type": "nominal"
          },
          "y": {
           "field": "value",
           "scale": {
            "zero": false
           },
           "title": "Flow (m^3/s)",
           "type": "quantitative"
          }
         },
         "mark": {
          "opacity": 0.2,
          "type": "line"
         }
        },
        {
         "data": {
          "format": {
           "type": "json"
          },
          "url": "altair-data-9b129c8fbb57ee2c28bc0eadf6455190.json"
         },
         "encoding": {
          "color": {
           "field": "legend",
           "scale": {
            "domain": [
             "true flow",
             "quantile predictions"
            ],
            "range": [
             "red",
             "gray"
            ]
           },
           "type": "nominal"
          },
          "x": {
           "axis": {
            "labelAngle": 0
           },
           "field": "step",
           "title": "Step",
           "type": "nominal"
          },
          "y": {
           "field": "value",
           "scale": {
            "zero": false
           },
           "title": "Flow (m^3/s)",
           "type": "quantitative"
          }
         },
         "mark": {
          "opacity": 0.2,
          "type": "line"
         }
        },
        {
         "data": {
          "format": {
           "type": "json"
          },
          "url": "altair-data-8704904355df5c730ded001f24f43174.json"
         },
         "encoding": {
          "color": {
           "field": "legend",
           "scale": {
            "domain": [
             "true flow",
             "quantile predictions"
            ],
            "range": [
             "red",
             "gray"
            ]
           },
           "type": "nominal"
          },
          "x": {
           "axis": {
            "labelAngle": 0
           },
           "field": "step",
           "title": "Step",
           "type": "nominal"
          },
          "y": {
           "field": "value",
           "scale": {
            "zero": false
           },
           "title": "Flow (m^3/s)",
           "type": "quantitative"
          }
         },
         "mark": {
          "opacity": 0.2,
          "type": "line"
         }
        },
        {
         "data": {
          "format": {
           "type": "json"
          },
          "url": "altair-data-d597e45dae0bde119586842408c9e48e.json"
         },
         "encoding": {
          "color": {
           "field": "legend",
           "scale": {
            "domain": [
             "true flow",
             "quantile predictions"
            ],
            "range": [
             "red",
             "gray"
            ]
           },
           "type": "nominal"
          },
          "x": {
           "axis": {
            "labelAngle": 0
           },
           "field": "step",
           "title": "Step",
           "type": "nominal"
          },
          "y": {
           "field": "value",
           "scale": {
            "zero": false
           },
           "title": "Flow (m^3/s)",
           "type": "quantitative"
          }
         },
         "mark": {
          "opacity": 0.2,
          "type": "line"
         }
        },
        {
         "data": {
          "format": {
           "type": "json"
          },
          "url": "altair-data-866203e80cd30219bda0d3e4e8955b8d.json"
         },
         "encoding": {
          "color": {
           "field": "legend",
           "scale": {
            "domain": [
             "true flow",
             "quantile predictions"
            ],
            "range": [
             "red",
             "gray"
            ]
           },
           "type": "nominal"
          },
          "x": {
           "axis": {
            "labelAngle": 0
           },
           "field": "step",
           "title": "Step",
           "type": "nominal"
          },
          "y": {
           "field": "value",
           "scale": {
            "zero": false
           },
           "title": "Flow (m^3/s)",
           "type": "quantitative"
          }
         },
         "mark": {
          "opacity": 0.2,
          "type": "line"
         }
        },
        {
         "data": {
          "format": {
           "type": "json"
          },
          "url": "altair-data-b1e7324591749b9ea21c84341227289b.json"
         },
         "encoding": {
          "color": {
           "field": "legend",
           "scale": {
            "domain": [
             "true flow",
             "quantile predictions"
            ],
            "range": [
             "red",
             "gray"
            ]
           },
           "type": "nominal"
          },
          "x": {
           "axis": {
            "labelAngle": 0
           },
           "field": "step",
           "title": "Step",
           "type": "nominal"
          },
          "y": {
           "field": "value",
           "scale": {
            "zero": false
           },
           "title": "Flow (m^3/s)",
           "type": "quantitative"
          }
         },
         "mark": {
          "opacity": 0.2,
          "type": "line"
         }
        },
        {
         "data": {
          "format": {
           "type": "json"
          },
          "url": "altair-data-f18e56f3e5b4029382539d1fb518be8c.json"
         },
         "encoding": {
          "color": {
           "field": "legend",
           "scale": {
            "domain": [
             "true flow",
             "quantile predictions"
            ],
            "range": [
             "red",
             "gray"
            ]
           },
           "type": "nominal"
          },
          "x": {
           "axis": {
            "labelAngle": 0
           },
           "field": "step",
           "title": "Step",
           "type": "nominal"
          },
          "y": {
           "field": "value",
           "scale": {
            "zero": false
           },
           "title": "Flow (m^3/s)",
           "type": "quantitative"
          }
         },
         "mark": {
          "opacity": 0.2,
          "type": "line"
         }
        },
        {
         "data": {
          "format": {
           "type": "json"
          },
          "url": "altair-data-b0d4642fdd8702a7b8c40281ca2c797c.json"
         },
         "encoding": {
          "color": {
           "field": "legend",
           "scale": {
            "domain": [
             "true flow",
             "quantile predictions"
            ],
            "range": [
             "red",
             "gray"
            ]
           },
           "type": "nominal"
          },
          "x": {
           "axis": {
            "labelAngle": 0
           },
           "field": "step",
           "title": "Step",
           "type": "nominal"
          },
          "y": {
           "field": "value",
           "scale": {
            "zero": false
           },
           "title": "Flow (m^3/s)",
           "type": "quantitative"
          }
         },
         "mark": {
          "opacity": 0.2,
          "type": "line"
         }
        },
        {
         "data": {
          "format": {
           "type": "json"
          },
          "url": "altair-data-eaadf6e1ee26459d3f7738606dfed7ff.json"
         },
         "encoding": {
          "color": {
           "field": "legend",
           "scale": {
            "domain": [
             "true flow",
             "quantile predictions"
            ],
            "range": [
             "red",
             "gray"
            ]
           },
           "type": "nominal"
          },
          "x": {
           "axis": {
            "labelAngle": 0
           },
           "field": "step",
           "title": "Step",
           "type": "nominal"
          },
          "y": {
           "field": "value",
           "scale": {
            "zero": false
           },
           "title": "Flow (m^3/s)",
           "type": "quantitative"
          }
         },
         "mark": {
          "opacity": 0.2,
          "type": "line"
         }
        },
        {
         "data": {
          "format": {
           "type": "json"
          },
          "url": "altair-data-4555f2e9415166663053caa1b5a07df8.json"
         },
         "encoding": {
          "color": {
           "field": "legend",
           "scale": {
            "domain": [
             "true flow",
             "quantile predictions"
            ],
            "range": [
             "red",
             "gray"
            ]
           },
           "type": "nominal"
          },
          "x": {
           "axis": {
            "labelAngle": 0
           },
           "field": "step",
           "title": "Step",
           "type": "nominal"
          },
          "y": {
           "field": "value",
           "scale": {
            "zero": false
           },
           "title": "Flow (m^3/s)",
           "type": "quantitative"
          }
         },
         "mark": {
          "opacity": 0.2,
          "type": "line"
         }
        },
        {
         "data": {
          "format": {
           "type": "json"
          },
          "url": "altair-data-8ac34eacddd43afd8a1b51311dc617ec.json"
         },
         "encoding": {
          "color": {
           "field": "legend",
           "scale": {
            "domain": [
             "true flow",
             "quantile predictions"
            ],
            "range": [
             "red",
             "gray"
            ]
           },
           "type": "nominal"
          },
          "x": {
           "axis": {
            "labelAngle": 0
           },
           "field": "step",
           "title": "Step",
           "type": "nominal"
          },
          "y": {
           "field": "value",
           "scale": {
            "zero": false
           },
           "title": "Flow (m^3/s)",
           "type": "quantitative"
          }
         },
         "mark": {
          "opacity": 0.2,
          "type": "line"
         }
        },
        {
         "data": {
          "format": {
           "type": "json"
          },
          "url": "altair-data-9863d1663e5783cc4fea7cb9fd8051b3.json"
         },
         "encoding": {
          "color": {
           "field": "legend",
           "scale": {
            "domain": [
             "true flow",
             "quantile predictions"
            ],
            "range": [
             "red",
             "gray"
            ]
           },
           "type": "nominal"
          },
          "x": {
           "axis": {
            "labelAngle": 0
           },
           "field": "step",
           "title": "Step",
           "type": "nominal"
          },
          "y": {
           "field": "value",
           "scale": {
            "zero": false
           },
           "title": "Flow (m^3/s)",
           "type": "quantitative"
          }
         },
         "mark": {
          "opacity": 0.2,
          "type": "line"
         }
        },
        {
         "data": {
          "format": {
           "type": "json"
          },
          "url": "altair-data-eac7b260abaa217e27a81982bd80f311.json"
         },
         "encoding": {
          "color": {
           "field": "legend",
           "scale": {
            "domain": [
             "true flow",
             "quantile predictions"
            ],
            "range": [
             "red",
             "gray"
            ]
           },
           "type": "nominal"
          },
          "x": {
           "axis": {
            "labelAngle": 0
           },
           "field": "step",
           "title": "Step",
           "type": "nominal"
          },
          "y": {
           "field": "value",
           "scale": {
            "zero": false
           },
           "title": "Flow (m^3/s)",
           "type": "quantitative"
          }
         },
         "mark": {
          "opacity": 0.2,
          "type": "line"
         }
        },
        {
         "data": {
          "format": {
           "type": "json"
          },
          "url": "altair-data-4a0e2283b5c6a324377bb3cfb98c1ca5.json"
         },
         "encoding": {
          "color": {
           "field": "legend",
           "scale": {
            "domain": [
             "true flow",
             "quantile predictions"
            ],
            "range": [
             "red",
             "gray"
            ]
           },
           "type": "nominal"
          },
          "x": {
           "axis": {
            "labelAngle": 0
           },
           "field": "step",
           "title": "Step",
           "type": "nominal"
          },
          "y": {
           "field": "value",
           "scale": {
            "zero": false
           },
           "title": "Flow (m^3/s)",
           "type": "quantitative"
          }
         },
         "mark": {
          "opacity": 0.2,
          "type": "line"
         }
        },
        {
         "data": {
          "format": {
           "type": "json"
          },
          "url": "altair-data-13ac5b47da14edac638276afdcca1f98.json"
         },
         "encoding": {
          "color": {
           "field": "legend",
           "scale": {
            "domain": [
             "true flow",
             "quantile predictions"
            ],
            "range": [
             "red",
             "gray"
            ]
           },
           "type": "nominal"
          },
          "x": {
           "axis": {
            "labelAngle": 0
           },
           "field": "step",
           "title": "Step",
           "type": "nominal"
          },
          "y": {
           "field": "value",
           "scale": {
            "zero": false
           },
           "title": "Flow (m^3/s)",
           "type": "quantitative"
          }
         },
         "mark": {
          "opacity": 0.2,
          "type": "line"
         }
        },
        {
         "data": {
          "format": {
           "type": "json"
          },
          "url": "altair-data-adc358e140af6a37dbb025c6b87eb2be.json"
         },
         "encoding": {
          "color": {
           "field": "legend",
           "scale": {
            "domain": [
             "true flow",
             "quantile predictions"
            ],
            "range": [
             "red",
             "gray"
            ]
           },
           "type": "nominal"
          },
          "x": {
           "axis": {
            "labelAngle": 0
           },
           "field": "step",
           "title": "Step",
           "type": "nominal"
          },
          "y": {
           "field": "value",
           "scale": {
            "zero": false
           },
           "title": "Flow (m^3/s)",
           "type": "quantitative"
          }
         },
         "mark": {
          "opacity": 0.2,
          "type": "line"
         }
        },
        {
         "data": {
          "format": {
           "type": "json"
          },
          "url": "altair-data-a07e384dbeb90fcdc3eb02cf66a0dae0.json"
         },
         "encoding": {
          "color": {
           "field": "legend",
           "scale": {
            "domain": [
             "true flow",
             "quantile predictions"
            ],
            "range": [
             "red",
             "gray"
            ]
           },
           "type": "nominal"
          },
          "x": {
           "axis": {
            "labelAngle": 0
           },
           "field": "step",
           "title": "Step",
           "type": "nominal"
          },
          "y": {
           "field": "value",
           "scale": {
            "zero": false
           },
           "title": "Flow (m^3/s)",
           "type": "quantitative"
          }
         },
         "mark": {
          "opacity": 0.2,
          "type": "line"
         }
        },
        {
         "data": {
          "format": {
           "type": "json"
          },
          "url": "altair-data-cfccf85c225af73be38918d4e064c20e.json"
         },
         "encoding": {
          "color": {
           "field": "legend",
           "scale": {
            "domain": [
             "true flow",
             "quantile predictions"
            ],
            "range": [
             "red",
             "gray"
            ]
           },
           "type": "nominal"
          },
          "x": {
           "axis": {
            "labelAngle": 0
           },
           "field": "step",
           "title": "Step",
           "type": "nominal"
          },
          "y": {
           "field": "value",
           "scale": {
            "zero": false
           },
           "title": "Flow (m^3/s)",
           "type": "quantitative"
          }
         },
         "mark": {
          "opacity": 0.2,
          "type": "line"
         }
        },
        {
         "data": {
          "format": {
           "type": "json"
          },
          "url": "altair-data-08a1cfc80070e8b43e84a3b9c889a3ed.json"
         },
         "encoding": {
          "color": {
           "field": "legend",
           "scale": {
            "domain": [
             "true flow",
             "quantile predictions"
            ],
            "range": [
             "red",
             "gray"
            ]
           },
           "type": "nominal"
          },
          "x": {
           "axis": {
            "labelAngle": 0
           },
           "field": "step",
           "title": "Step",
           "type": "nominal"
          },
          "y": {
           "field": "value",
           "scale": {
            "zero": false
           },
           "title": "Flow (m^3/s)",
           "type": "quantitative"
          }
         },
         "mark": {
          "opacity": 0.2,
          "type": "line"
         }
        },
        {
         "data": {
          "format": {
           "type": "json"
          },
          "url": "altair-data-9e50526fd1a0d41f94a1c469d38b2443.json"
         },
         "encoding": {
          "color": {
           "field": "legend",
           "scale": {
            "domain": [
             "true flow",
             "quantile predictions"
            ],
            "range": [
             "red",
             "gray"
            ]
           },
           "type": "nominal"
          },
          "x": {
           "axis": {
            "labelAngle": 0
           },
           "field": "step",
           "title": "Step",
           "type": "nominal"
          },
          "y": {
           "field": "value",
           "scale": {
            "zero": false
           },
           "title": "Flow (m^3/s)",
           "type": "quantitative"
          }
         },
         "mark": {
          "opacity": 0.2,
          "type": "line"
         }
        },
        {
         "data": {
          "format": {
           "type": "json"
          },
          "url": "altair-data-34db84e614afa6e2f17ed1e1ae4e4520.json"
         },
         "encoding": {
          "color": {
           "field": "legend",
           "scale": {
            "domain": [
             "true flow",
             "quantile predictions"
            ],
            "range": [
             "red",
             "gray"
            ]
           },
           "type": "nominal"
          },
          "x": {
           "axis": {
            "labelAngle": 0
           },
           "field": "step",
           "title": "Step",
           "type": "nominal"
          },
          "y": {
           "field": "value",
           "scale": {
            "zero": false
           },
           "title": "Flow (m^3/s)",
           "type": "quantitative"
          }
         },
         "mark": {
          "opacity": 0.2,
          "type": "line"
         }
        },
        {
         "data": {
          "format": {
           "type": "json"
          },
          "url": "altair-data-4bdb427c13dc311d60bb3292cb3dadad.json"
         },
         "encoding": {
          "color": {
           "field": "legend",
           "scale": {
            "domain": [
             "true flow",
             "quantile predictions"
            ],
            "range": [
             "red",
             "gray"
            ]
           },
           "type": "nominal"
          },
          "x": {
           "axis": {
            "labelAngle": 0
           },
           "field": "step",
           "title": "Step",
           "type": "nominal"
          },
          "y": {
           "field": "value",
           "scale": {
            "zero": false
           },
           "title": "Flow (m^3/s)",
           "type": "quantitative"
          }
         },
         "mark": {
          "opacity": 0.2,
          "type": "line"
         }
        },
        {
         "data": {
          "format": {
           "type": "json"
          },
          "url": "altair-data-2ac60dc97b0828951c19bc224070e67c.json"
         },
         "encoding": {
          "color": {
           "field": "legend",
           "scale": {
            "domain": [
             "true flow",
             "quantile predictions"
            ],
            "range": [
             "red",
             "gray"
            ]
           },
           "type": "nominal"
          },
          "x": {
           "axis": {
            "labelAngle": 0
           },
           "field": "step",
           "title": "Step",
           "type": "nominal"
          },
          "y": {
           "field": "value",
           "scale": {
            "zero": false
           },
           "title": "Flow (m^3/s)",
           "type": "quantitative"
          }
         },
         "mark": {
          "opacity": 0.2,
          "type": "line"
         }
        },
        {
         "data": {
          "format": {
           "type": "json"
          },
          "url": "altair-data-18796808ff7b48857f2419b4d5898a7b.json"
         },
         "encoding": {
          "color": {
           "field": "legend",
           "scale": {
            "domain": [
             "true flow",
             "quantile predictions"
            ],
            "range": [
             "red",
             "gray"
            ]
           },
           "type": "nominal"
          },
          "x": {
           "axis": {
            "labelAngle": 0
           },
           "field": "step",
           "title": "Step",
           "type": "nominal"
          },
          "y": {
           "field": "value",
           "scale": {
            "zero": false
           },
           "title": "Flow (m^3/s)",
           "type": "quantitative"
          }
         },
         "mark": {
          "opacity": 0.2,
          "type": "line"
         }
        },
        {
         "data": {
          "format": {
           "type": "json"
          },
          "url": "altair-data-4449d3b59607a787f069727499199ba1.json"
         },
         "encoding": {
          "color": {
           "field": "legend",
           "scale": {
            "domain": [
             "true flow",
             "quantile predictions"
            ],
            "range": [
             "red",
             "gray"
            ]
           },
           "type": "nominal"
          },
          "x": {
           "axis": {
            "labelAngle": 0
           },
           "field": "step",
           "title": "Step",
           "type": "nominal"
          },
          "y": {
           "field": "value",
           "scale": {
            "zero": false
           },
           "title": "Flow (m^3/s)",
           "type": "quantitative"
          }
         },
         "mark": {
          "opacity": 0.2,
          "type": "line"
         }
        },
        {
         "data": {
          "format": {
           "type": "json"
          },
          "url": "altair-data-0606e8f7192d8460f9835045bcd31d40.json"
         },
         "encoding": {
          "color": {
           "field": "legend",
           "scale": {
            "domain": [
             "true flow",
             "quantile predictions"
            ],
            "range": [
             "red",
             "gray"
            ]
           },
           "type": "nominal"
          },
          "x": {
           "axis": {
            "labelAngle": 0
           },
           "field": "step",
           "title": "Step",
           "type": "nominal"
          },
          "y": {
           "field": "value",
           "scale": {
            "zero": false
           },
           "title": "Flow (m^3/s)",
           "type": "quantitative"
          }
         },
         "mark": {
          "opacity": 0.2,
          "type": "line"
         }
        },
        {
         "data": {
          "format": {
           "type": "json"
          },
          "url": "altair-data-b055d4db454bda832f14283a6e09508d.json"
         },
         "encoding": {
          "color": {
           "field": "legend",
           "scale": {
            "domain": [
             "true flow",
             "quantile predictions"
            ],
            "range": [
             "red",
             "gray"
            ]
           },
           "type": "nominal"
          },
          "x": {
           "axis": {
            "labelAngle": 0
           },
           "field": "step",
           "title": "Step",
           "type": "nominal"
          },
          "y": {
           "field": "value",
           "scale": {
            "zero": false
           },
           "title": "Flow (m^3/s)",
           "type": "quantitative"
          }
         },
         "mark": {
          "opacity": 0.2,
          "type": "line"
         }
        },
        {
         "data": {
          "format": {
           "type": "json"
          },
          "url": "altair-data-4ec78c313280ae8a48bbcbdecde553b8.json"
         },
         "encoding": {
          "color": {
           "field": "legend",
           "scale": {
            "domain": [
             "true flow",
             "quantile predictions"
            ],
            "range": [
             "red",
             "gray"
            ]
           },
           "type": "nominal"
          },
          "x": {
           "axis": {
            "labelAngle": 0
           },
           "field": "step",
           "title": "Step",
           "type": "nominal"
          },
          "y": {
           "field": "value",
           "scale": {
            "zero": false
           },
           "title": "Flow (m^3/s)",
           "type": "quantitative"
          }
         },
         "mark": {
          "opacity": 0.2,
          "type": "line"
         }
        },
        {
         "data": {
          "format": {
           "type": "json"
          },
          "url": "altair-data-702221c16c3214e9616a04f17df1fa72.json"
         },
         "encoding": {
          "color": {
           "field": "legend",
           "scale": {
            "domain": [
             "true flow",
             "quantile predictions"
            ],
            "range": [
             "red",
             "gray"
            ]
           },
           "type": "nominal"
          },
          "x": {
           "axis": {
            "labelAngle": 0
           },
           "field": "step",
           "title": "Step",
           "type": "nominal"
          },
          "y": {
           "field": "value",
           "scale": {
            "zero": false
           },
           "title": "Flow (m^3/s)",
           "type": "quantitative"
          }
         },
         "mark": {
          "opacity": 0.2,
          "type": "line"
         }
        },
        {
         "data": {
          "format": {
           "type": "json"
          },
          "url": "altair-data-0e639ad7a04badc0a5a2ef41b6ea2f4c.json"
         },
         "encoding": {
          "color": {
           "field": "legend",
           "scale": {
            "domain": [
             "true flow",
             "quantile predictions"
            ],
            "range": [
             "red",
             "gray"
            ]
           },
           "type": "nominal"
          },
          "x": {
           "axis": {
            "labelAngle": 0
           },
           "field": "step",
           "title": "Step",
           "type": "nominal"
          },
          "y": {
           "field": "value",
           "scale": {
            "zero": false
           },
           "title": "Flow (m^3/s)",
           "type": "quantitative"
          }
         },
         "mark": {
          "opacity": 0.2,
          "type": "line"
         }
        },
        {
         "data": {
          "format": {
           "type": "json"
          },
          "url": "altair-data-988a20a927929feca9abe394f40511d9.json"
         },
         "encoding": {
          "color": {
           "field": "legend",
           "scale": {
            "domain": [
             "true flow",
             "quantile predictions"
            ],
            "range": [
             "red",
             "gray"
            ]
           },
           "type": "nominal"
          },
          "x": {
           "axis": {
            "labelAngle": 0
           },
           "field": "step",
           "title": "Step",
           "type": "nominal"
          },
          "y": {
           "field": "value",
           "scale": {
            "zero": false
           },
           "title": "Flow (m^3/s)",
           "type": "quantitative"
          }
         },
         "mark": {
          "opacity": 0.2,
          "type": "line"
         }
        },
        {
         "data": {
          "format": {
           "type": "json"
          },
          "url": "altair-data-ffa31b74b70289cbf595383a2b8189eb.json"
         },
         "encoding": {
          "color": {
           "field": "legend",
           "scale": {
            "domain": [
             "true flow",
             "quantile predictions"
            ],
            "range": [
             "red",
             "gray"
            ]
           },
           "type": "nominal"
          },
          "x": {
           "axis": {
            "labelAngle": 0
           },
           "field": "step",
           "title": "Step",
           "type": "nominal"
          },
          "y": {
           "field": "value",
           "scale": {
            "zero": false
           },
           "title": "Flow (m^3/s)",
           "type": "quantitative"
          }
         },
         "mark": {
          "opacity": 0.2,
          "type": "line"
         }
        },
        {
         "data": {
          "format": {
           "type": "json"
          },
          "url": "altair-data-eb52eac1c3912cedf3ccc1fea8bb9e7a.json"
         },
         "encoding": {
          "color": {
           "field": "legend",
           "scale": {
            "domain": [
             "true flow",
             "quantile predictions"
            ],
            "range": [
             "red",
             "gray"
            ]
           },
           "type": "nominal"
          },
          "x": {
           "axis": {
            "labelAngle": 0
           },
           "field": "step",
           "title": "Step",
           "type": "nominal"
          },
          "y": {
           "field": "value",
           "scale": {
            "zero": false
           },
           "title": "Flow (m^3/s)",
           "type": "quantitative"
          }
         },
         "mark": {
          "opacity": 0.2,
          "type": "line"
         }
        },
        {
         "data": {
          "format": {
           "type": "json"
          },
          "url": "altair-data-1908fba434f56fbbfa44ac806380f985.json"
         },
         "encoding": {
          "color": {
           "field": "legend",
           "scale": {
            "domain": [
             "true flow",
             "quantile predictions"
            ],
            "range": [
             "red",
             "gray"
            ]
           },
           "type": "nominal"
          },
          "x": {
           "axis": {
            "labelAngle": 0
           },
           "field": "step",
           "title": "Step",
           "type": "nominal"
          },
          "y": {
           "field": "value",
           "scale": {
            "zero": false
           },
           "title": "Flow (m^3/s)",
           "type": "quantitative"
          }
         },
         "mark": {
          "opacity": 0.2,
          "type": "line"
         }
        },
        {
         "data": {
          "format": {
           "type": "json"
          },
          "url": "altair-data-c252efb33af8e6dffd34ccfae5a65173.json"
         },
         "encoding": {
          "color": {
           "field": "legend",
           "scale": {
            "domain": [
             "true flow",
             "quantile predictions"
            ],
            "range": [
             "red",
             "gray"
            ]
           },
           "type": "nominal"
          },
          "x": {
           "axis": {
            "labelAngle": 0
           },
           "field": "step",
           "title": "Step",
           "type": "nominal"
          },
          "y": {
           "field": "value",
           "scale": {
            "zero": false
           },
           "title": "Flow (m^3/s)",
           "type": "quantitative"
          }
         },
         "mark": {
          "opacity": 0.2,
          "type": "line"
         }
        },
        {
         "data": {
          "format": {
           "type": "json"
          },
          "url": "altair-data-a259737563e3e3b1b2f363aca0ebe234.json"
         },
         "encoding": {
          "color": {
           "field": "legend",
           "scale": {
            "domain": [
             "true flow",
             "quantile predictions"
            ],
            "range": [
             "red",
             "gray"
            ]
           },
           "type": "nominal"
          },
          "x": {
           "axis": {
            "labelAngle": 0
           },
           "field": "step",
           "title": "Step",
           "type": "nominal"
          },
          "y": {
           "field": "value",
           "scale": {
            "zero": false
           },
           "title": "Flow (m^3/s)",
           "type": "quantitative"
          }
         },
         "mark": {
          "opacity": 0.2,
          "type": "line"
         }
        },
        {
         "data": {
          "format": {
           "type": "json"
          },
          "url": "altair-data-2384e03750231df712563f9549dfda75.json"
         },
         "encoding": {
          "color": {
           "field": "legend",
           "scale": {
            "domain": [
             "true flow",
             "quantile predictions"
            ],
            "range": [
             "red",
             "gray"
            ]
           },
           "type": "nominal"
          },
          "x": {
           "axis": {
            "labelAngle": 0
           },
           "field": "step",
           "title": "Step",
           "type": "nominal"
          },
          "y": {
           "field": "value",
           "scale": {
            "zero": false
           },
           "title": "Flow (m^3/s)",
           "type": "quantitative"
          }
         },
         "mark": {
          "opacity": 0.2,
          "type": "line"
         }
        },
        {
         "data": {
          "format": {
           "type": "json"
          },
          "url": "altair-data-63882a79da8cb44b8625bc32323b1551.json"
         },
         "encoding": {
          "color": {
           "field": "legend",
           "scale": {
            "domain": [
             "true flow",
             "quantile predictions"
            ],
            "range": [
             "red",
             "gray"
            ]
           },
           "type": "nominal"
          },
          "x": {
           "axis": {
            "labelAngle": 0
           },
           "field": "step",
           "title": "Step",
           "type": "nominal"
          },
          "y": {
           "field": "value",
           "scale": {
            "zero": false
           },
           "title": "Flow (m^3/s)",
           "type": "quantitative"
          }
         },
         "mark": {
          "opacity": 0.2,
          "type": "line"
         }
        },
        {
         "data": {
          "format": {
           "type": "json"
          },
          "url": "altair-data-69b22fcbe33d2035874ba7d7ebd3759c.json"
         },
         "encoding": {
          "color": {
           "field": "legend",
           "scale": {
            "domain": [
             "true flow",
             "quantile predictions"
            ],
            "range": [
             "red",
             "gray"
            ]
           },
           "type": "nominal"
          },
          "x": {
           "axis": {
            "labelAngle": 0
           },
           "field": "step",
           "title": "Step",
           "type": "nominal"
          },
          "y": {
           "field": "value",
           "scale": {
            "zero": false
           },
           "title": "Flow (m^3/s)",
           "type": "quantitative"
          }
         },
         "mark": {
          "opacity": 0.2,
          "type": "line"
         }
        },
        {
         "data": {
          "format": {
           "type": "json"
          },
          "url": "altair-data-e7a7c1e0d40bc132982d91eabc51fe62.json"
         },
         "encoding": {
          "color": {
           "field": "legend",
           "scale": {
            "domain": [
             "true flow",
             "quantile predictions"
            ],
            "range": [
             "red",
             "gray"
            ]
           },
           "type": "nominal"
          },
          "x": {
           "axis": {
            "labelAngle": 0
           },
           "field": "step",
           "title": "Step",
           "type": "nominal"
          },
          "y": {
           "field": "value",
           "scale": {
            "zero": false
           },
           "title": "Flow (m^3/s)",
           "type": "quantitative"
          }
         },
         "mark": {
          "opacity": 0.2,
          "type": "line"
         }
        },
        {
         "data": {
          "format": {
           "type": "json"
          },
          "url": "altair-data-3abae66124cb5c1e8c86416a29460144.json"
         },
         "encoding": {
          "color": {
           "field": "legend",
           "scale": {
            "domain": [
             "true flow",
             "quantile predictions"
            ],
            "range": [
             "red",
             "gray"
            ]
           },
           "type": "nominal"
          },
          "x": {
           "axis": {
            "labelAngle": 0
           },
           "field": "step",
           "title": "Step",
           "type": "nominal"
          },
          "y": {
           "field": "value",
           "scale": {
            "zero": false
           },
           "title": "Flow (m^3/s)",
           "type": "quantitative"
          }
         },
         "mark": {
          "opacity": 0.2,
          "type": "line"
         }
        },
        {
         "data": {
          "format": {
           "type": "json"
          },
          "url": "altair-data-6f88fa7c3873c0181f51a5688238930d.json"
         },
         "encoding": {
          "color": {
           "field": "legend",
           "scale": {
            "domain": [
             "true flow",
             "quantile predictions"
            ],
            "range": [
             "red",
             "gray"
            ]
           },
           "type": "nominal"
          },
          "x": {
           "axis": {
            "labelAngle": 0
           },
           "field": "step",
           "title": "Step",
           "type": "nominal"
          },
          "y": {
           "field": "value",
           "scale": {
            "zero": false
           },
           "title": "Flow (m^3/s)",
           "type": "quantitative"
          }
         },
         "mark": {
          "opacity": 0.2,
          "type": "line"
         }
        },
        {
         "data": {
          "format": {
           "type": "json"
          },
          "url": "altair-data-33aa6d0b6f7210458595a3c96f8f8e3c.json"
         },
         "encoding": {
          "color": {
           "field": "legend",
           "scale": {
            "domain": [
             "true flow",
             "quantile predictions"
            ],
            "range": [
             "red",
             "gray"
            ]
           },
           "type": "nominal"
          },
          "x": {
           "axis": {
            "labelAngle": 0
           },
           "field": "step",
           "title": "Step",
           "type": "nominal"
          },
          "y": {
           "field": "value",
           "scale": {
            "zero": false
           },
           "title": "Flow (m^3/s)",
           "type": "quantitative"
          }
         },
         "mark": {
          "opacity": 0.2,
          "type": "line"
         }
        },
        {
         "data": {
          "format": {
           "type": "json"
          },
          "url": "altair-data-84555e5982c78434f19fb2fc549cdcf9.json"
         },
         "encoding": {
          "color": {
           "field": "legend",
           "scale": {
            "domain": [
             "true flow",
             "quantile predictions"
            ],
            "range": [
             "red",
             "gray"
            ]
           },
           "type": "nominal"
          },
          "x": {
           "axis": {
            "labelAngle": 0
           },
           "field": "step",
           "title": "Step",
           "type": "nominal"
          },
          "y": {
           "field": "value",
           "scale": {
            "zero": false
           },
           "title": "Flow (m^3/s)",
           "type": "quantitative"
          }
         },
         "mark": {
          "opacity": 0.2,
          "type": "line"
         }
        },
        {
         "data": {
          "format": {
           "type": "json"
          },
          "url": "altair-data-2b50b2c78453bde61f34f24d3b826247.json"
         },
         "encoding": {
          "color": {
           "field": "legend",
           "scale": {
            "domain": [
             "true flow",
             "quantile predictions"
            ],
            "range": [
             "red",
             "gray"
            ]
           },
           "type": "nominal"
          },
          "x": {
           "axis": {
            "labelAngle": 0
           },
           "field": "step",
           "title": "Step",
           "type": "nominal"
          },
          "y": {
           "field": "value",
           "scale": {
            "zero": false
           },
           "title": "Flow (m^3/s)",
           "type": "quantitative"
          }
         },
         "mark": {
          "opacity": 0.2,
          "type": "line"
         }
        },
        {
         "data": {
          "format": {
           "type": "json"
          },
          "url": "altair-data-c5d3207b628da01f54e6db09f65bc804.json"
         },
         "encoding": {
          "color": {
           "field": "legend",
           "scale": {
            "domain": [
             "true flow",
             "quantile predictions"
            ],
            "range": [
             "red",
             "gray"
            ]
           },
           "type": "nominal"
          },
          "x": {
           "axis": {
            "labelAngle": 0
           },
           "field": "step",
           "title": "Step",
           "type": "nominal"
          },
          "y": {
           "field": "value",
           "scale": {
            "zero": false
           },
           "title": "Flow (m^3/s)",
           "type": "quantitative"
          }
         },
         "mark": {
          "opacity": 0.2,
          "type": "line"
         }
        },
        {
         "data": {
          "format": {
           "type": "json"
          },
          "url": "altair-data-f698716d15316a4d11eb7161b5bdf1e1.json"
         },
         "encoding": {
          "color": {
           "field": "legend",
           "scale": {
            "domain": [
             "true flow",
             "quantile predictions"
            ],
            "range": [
             "red",
             "gray"
            ]
           },
           "type": "nominal"
          },
          "x": {
           "axis": {
            "labelAngle": 0
           },
           "field": "step",
           "title": "Step",
           "type": "nominal"
          },
          "y": {
           "field": "value",
           "scale": {
            "zero": false
           },
           "title": "Flow (m^3/s)",
           "type": "quantitative"
          }
         },
         "mark": {
          "opacity": 0.2,
          "type": "line"
         }
        },
        {
         "data": {
          "format": {
           "type": "json"
          },
          "url": "altair-data-b248a89b26f5ecb1629f16a80cbe66eb.json"
         },
         "encoding": {
          "color": {
           "field": "legend",
           "scale": {
            "domain": [
             "true flow",
             "quantile predictions"
            ],
            "range": [
             "red",
             "gray"
            ]
           },
           "type": "nominal"
          },
          "x": {
           "axis": {
            "labelAngle": 0
           },
           "field": "step",
           "title": "Step",
           "type": "nominal"
          },
          "y": {
           "field": "value",
           "scale": {
            "zero": false
           },
           "title": "Flow (m^3/s)",
           "type": "quantitative"
          }
         },
         "mark": {
          "opacity": 0.2,
          "type": "line"
         }
        },
        {
         "data": {
          "format": {
           "type": "json"
          },
          "url": "altair-data-2f3d2f26e75d2cdf821380cdbdb1b02e.json"
         },
         "encoding": {
          "color": {
           "field": "legend",
           "scale": {
            "domain": [
             "true flow",
             "quantile predictions"
            ],
            "range": [
             "red",
             "gray"
            ]
           },
           "type": "nominal"
          },
          "x": {
           "axis": {
            "labelAngle": 0
           },
           "field": "step",
           "title": "Step",
           "type": "nominal"
          },
          "y": {
           "field": "value",
           "scale": {
            "zero": false
           },
           "title": "Flow (m^3/s)",
           "type": "quantitative"
          }
         },
         "mark": {
          "opacity": 0.2,
          "type": "line"
         }
        },
        {
         "data": {
          "format": {
           "type": "json"
          },
          "url": "altair-data-b8a8f69bca234609aebc48c3fa08fbdc.json"
         },
         "encoding": {
          "color": {
           "field": "legend",
           "scale": {
            "domain": [
             "true flow",
             "quantile predictions"
            ],
            "range": [
             "red",
             "gray"
            ]
           },
           "type": "nominal"
          },
          "x": {
           "axis": {
            "labelAngle": 0
           },
           "field": "step",
           "title": "Step",
           "type": "nominal"
          },
          "y": {
           "field": "value",
           "scale": {
            "zero": false
           },
           "title": "Flow (m^3/s)",
           "type": "quantitative"
          }
         },
         "mark": {
          "opacity": 0.2,
          "type": "line"
         }
        },
        {
         "data": {
          "format": {
           "type": "json"
          },
          "url": "altair-data-022fa5ca8ec8855572e019eef69038d9.json"
         },
         "encoding": {
          "color": {
           "field": "legend",
           "scale": {
            "domain": [
             "true flow",
             "quantile predictions"
            ],
            "range": [
             "red",
             "gray"
            ]
           },
           "type": "nominal"
          },
          "x": {
           "axis": {
            "labelAngle": 0
           },
           "field": "step",
           "title": "Step",
           "type": "nominal"
          },
          "y": {
           "field": "value",
           "scale": {
            "zero": false
           },
           "title": "Flow (m^3/s)",
           "type": "quantitative"
          }
         },
         "mark": {
          "opacity": 0.2,
          "type": "line"
         }
        },
        {
         "data": {
          "format": {
           "type": "json"
          },
          "url": "altair-data-48f749713a2b73e42f33ebfa8d41cd9a.json"
         },
         "encoding": {
          "color": {
           "field": "legend",
           "scale": {
            "domain": [
             "true flow",
             "quantile predictions"
            ],
            "range": [
             "red",
             "gray"
            ]
           },
           "type": "nominal"
          },
          "x": {
           "axis": {
            "labelAngle": 0
           },
           "field": "step",
           "title": "Step",
           "type": "nominal"
          },
          "y": {
           "field": "value",
           "scale": {
            "zero": false
           },
           "title": "Flow (m^3/s)",
           "type": "quantitative"
          }
         },
         "mark": {
          "opacity": 0.2,
          "type": "line"
         }
        },
        {
         "data": {
          "format": {
           "type": "json"
          },
          "url": "altair-data-c650ebc353319e73d86c95b6cef67297.json"
         },
         "encoding": {
          "color": {
           "field": "legend",
           "scale": {
            "domain": [
             "true flow",
             "quantile predictions"
            ],
            "range": [
             "red",
             "gray"
            ]
           },
           "type": "nominal"
          },
          "x": {
           "axis": {
            "labelAngle": 0
           },
           "field": "step",
           "title": "Step",
           "type": "nominal"
          },
          "y": {
           "field": "value",
           "scale": {
            "zero": false
           },
           "title": "Flow (m^3/s)",
           "type": "quantitative"
          }
         },
         "mark": {
          "opacity": 0.2,
          "type": "line"
         }
        },
        {
         "data": {
          "format": {
           "type": "json"
          },
          "url": "altair-data-32a0fc0537c1f0dfd718b3bc55a2ef72.json"
         },
         "encoding": {
          "color": {
           "field": "legend",
           "scale": {
            "domain": [
             "true flow",
             "quantile predictions"
            ],
            "range": [
             "red",
             "gray"
            ]
           },
           "type": "nominal"
          },
          "x": {
           "axis": {
            "labelAngle": 0
           },
           "field": "step",
           "title": "Step",
           "type": "nominal"
          },
          "y": {
           "field": "value",
           "scale": {
            "zero": false
           },
           "title": "Flow (m^3/s)",
           "type": "quantitative"
          }
         },
         "mark": {
          "opacity": 0.2,
          "type": "line"
         }
        },
        {
         "data": {
          "format": {
           "type": "json"
          },
          "url": "altair-data-f7e6fc2891c6e971c525119cdd203dd9.json"
         },
         "encoding": {
          "color": {
           "field": "legend",
           "scale": {
            "domain": [
             "true flow",
             "quantile predictions"
            ],
            "range": [
             "red",
             "gray"
            ]
           },
           "type": "nominal"
          },
          "x": {
           "axis": {
            "labelAngle": 0
           },
           "field": "step",
           "title": "Step",
           "type": "nominal"
          },
          "y": {
           "field": "value",
           "scale": {
            "zero": false
           },
           "title": "Flow (m^3/s)",
           "type": "quantitative"
          }
         },
         "mark": {
          "opacity": 0.2,
          "type": "line"
         }
        },
        {
         "data": {
          "format": {
           "type": "json"
          },
          "url": "altair-data-15e99f2ff85f3745e15971c3cb856632.json"
         },
         "encoding": {
          "color": {
           "field": "legend",
           "scale": {
            "domain": [
             "true flow",
             "quantile predictions"
            ],
            "range": [
             "red",
             "gray"
            ]
           },
           "type": "nominal"
          },
          "x": {
           "axis": {
            "labelAngle": 0
           },
           "field": "step",
           "title": "Step",
           "type": "nominal"
          },
          "y": {
           "field": "value",
           "scale": {
            "zero": false
           },
           "title": "Flow (m^3/s)",
           "type": "quantitative"
          }
         },
         "mark": {
          "opacity": 0.2,
          "type": "line"
         }
        },
        {
         "data": {
          "format": {
           "type": "json"
          },
          "url": "altair-data-6f32fb8e16e7aac659d70a1ee531b055.json"
         },
         "encoding": {
          "color": {
           "field": "legend",
           "scale": {
            "domain": [
             "true flow",
             "quantile predictions"
            ],
            "range": [
             "red",
             "gray"
            ]
           },
           "type": "nominal"
          },
          "x": {
           "axis": {
            "labelAngle": 0
           },
           "field": "step",
           "title": "Step",
           "type": "nominal"
          },
          "y": {
           "field": "value",
           "scale": {
            "zero": false
           },
           "title": "Flow (m^3/s)",
           "type": "quantitative"
          }
         },
         "mark": {
          "opacity": 0.2,
          "type": "line"
         }
        },
        {
         "data": {
          "format": {
           "type": "json"
          },
          "url": "altair-data-4fade5bc147220ad4146a88917f7cd3b.json"
         },
         "encoding": {
          "color": {
           "field": "legend",
           "scale": {
            "domain": [
             "true flow",
             "quantile predictions"
            ],
            "range": [
             "red",
             "gray"
            ]
           },
           "type": "nominal"
          },
          "x": {
           "axis": {
            "labelAngle": 0
           },
           "field": "step",
           "title": "Step",
           "type": "nominal"
          },
          "y": {
           "field": "value",
           "scale": {
            "zero": false
           },
           "title": "Flow (m^3/s)",
           "type": "quantitative"
          }
         },
         "mark": {
          "opacity": 0.2,
          "type": "line"
         }
        },
        {
         "data": {
          "format": {
           "type": "json"
          },
          "url": "altair-data-100e7e1cc7258cf71daa2ca63f9e3fb5.json"
         },
         "encoding": {
          "color": {
           "field": "legend",
           "scale": {
            "domain": [
             "true flow",
             "quantile predictions"
            ],
            "range": [
             "red",
             "gray"
            ]
           },
           "type": "nominal"
          },
          "x": {
           "axis": {
            "labelAngle": 0
           },
           "field": "step",
           "title": "Step",
           "type": "nominal"
          },
          "y": {
           "field": "value",
           "scale": {
            "zero": false
           },
           "title": "Flow (m^3/s)",
           "type": "quantitative"
          }
         },
         "mark": {
          "opacity": 0.2,
          "type": "line"
         }
        },
        {
         "data": {
          "format": {
           "type": "json"
          },
          "url": "altair-data-b9eb5aa46fa4c3ce3015a91bb4cad8a7.json"
         },
         "encoding": {
          "color": {
           "field": "legend",
           "scale": {
            "domain": [
             "true flow",
             "quantile predictions"
            ],
            "range": [
             "red",
             "gray"
            ]
           },
           "type": "nominal"
          },
          "x": {
           "axis": {
            "labelAngle": 0
           },
           "field": "step",
           "title": "Step",
           "type": "nominal"
          },
          "y": {
           "field": "value",
           "scale": {
            "zero": false
           },
           "title": "Flow (m^3/s)",
           "type": "quantitative"
          }
         },
         "mark": {
          "opacity": 0.2,
          "type": "line"
         }
        },
        {
         "data": {
          "format": {
           "type": "json"
          },
          "url": "altair-data-15ca30e125f443edcc6021b13f664839.json"
         },
         "encoding": {
          "color": {
           "field": "legend",
           "scale": {
            "domain": [
             "true flow",
             "quantile predictions"
            ],
            "range": [
             "red",
             "gray"
            ]
           },
           "type": "nominal"
          },
          "x": {
           "axis": {
            "labelAngle": 0
           },
           "field": "step",
           "title": "Step",
           "type": "nominal"
          },
          "y": {
           "field": "value",
           "scale": {
            "zero": false
           },
           "title": "Flow (m^3/s)",
           "type": "quantitative"
          }
         },
         "mark": {
          "opacity": 0.2,
          "type": "line"
         }
        },
        {
         "data": {
          "format": {
           "type": "json"
          },
          "url": "altair-data-ac7c82ea711551122ff246aad5b20a7d.json"
         },
         "encoding": {
          "color": {
           "field": "legend",
           "scale": {
            "domain": [
             "true flow",
             "quantile predictions"
            ],
            "range": [
             "red",
             "gray"
            ]
           },
           "type": "nominal"
          },
          "x": {
           "axis": {
            "labelAngle": 0
           },
           "field": "step",
           "title": "Step",
           "type": "nominal"
          },
          "y": {
           "field": "value",
           "scale": {
            "zero": false
           },
           "title": "Flow (m^3/s)",
           "type": "quantitative"
          }
         },
         "mark": {
          "opacity": 0.2,
          "type": "line"
         }
        },
        {
         "data": {
          "format": {
           "type": "json"
          },
          "url": "altair-data-a25707b16716b933c3c2328977a49b46.json"
         },
         "encoding": {
          "color": {
           "field": "legend",
           "scale": {
            "domain": [
             "true flow",
             "quantile predictions"
            ],
            "range": [
             "red",
             "gray"
            ]
           },
           "type": "nominal"
          },
          "x": {
           "axis": {
            "labelAngle": 0
           },
           "field": "step",
           "title": "Step",
           "type": "nominal"
          },
          "y": {
           "field": "value",
           "scale": {
            "zero": false
           },
           "title": "Flow (m^3/s)",
           "type": "quantitative"
          }
         },
         "mark": {
          "opacity": 0.2,
          "type": "line"
         }
        },
        {
         "data": {
          "format": {
           "type": "json"
          },
          "url": "altair-data-a2429c59af820770fcce349d04e7e143.json"
         },
         "encoding": {
          "color": {
           "field": "legend",
           "scale": {
            "domain": [
             "true flow",
             "quantile predictions"
            ],
            "range": [
             "red",
             "gray"
            ]
           },
           "type": "nominal"
          },
          "x": {
           "axis": {
            "labelAngle": 0
           },
           "field": "step",
           "title": "Step",
           "type": "nominal"
          },
          "y": {
           "field": "value",
           "scale": {
            "zero": false
           },
           "title": "Flow (m^3/s)",
           "type": "quantitative"
          }
         },
         "mark": {
          "opacity": 0.2,
          "type": "line"
         }
        },
        {
         "data": {
          "format": {
           "type": "json"
          },
          "url": "altair-data-c4590fa1d4d8d0067d21f11ec11d3562.json"
         },
         "encoding": {
          "color": {
           "field": "legend",
           "scale": {
            "domain": [
             "true flow",
             "quantile predictions"
            ],
            "range": [
             "red",
             "gray"
            ]
           },
           "type": "nominal"
          },
          "x": {
           "axis": {
            "labelAngle": 0
           },
           "field": "step",
           "title": "Step",
           "type": "nominal"
          },
          "y": {
           "field": "value",
           "scale": {
            "zero": false
           },
           "title": "Flow (m^3/s)",
           "type": "quantitative"
          }
         },
         "mark": {
          "opacity": 0.2,
          "type": "line"
         }
        },
        {
         "data": {
          "format": {
           "type": "json"
          },
          "url": "altair-data-94ac354c0d9378fedfdc06761f025391.json"
         },
         "encoding": {
          "color": {
           "field": "legend",
           "scale": {
            "domain": [
             "true flow",
             "quantile predictions"
            ],
            "range": [
             "red",
             "gray"
            ]
           },
           "type": "nominal"
          },
          "x": {
           "axis": {
            "labelAngle": 0
           },
           "field": "step",
           "title": "Step",
           "type": "nominal"
          },
          "y": {
           "field": "value",
           "scale": {
            "zero": false
           },
           "title": "Flow (m^3/s)",
           "type": "quantitative"
          }
         },
         "mark": {
          "opacity": 0.2,
          "type": "line"
         }
        },
        {
         "data": {
          "format": {
           "type": "json"
          },
          "url": "altair-data-e23acf80cdb8b3b4c78487bddf715ae2.json"
         },
         "encoding": {
          "color": {
           "field": "legend",
           "scale": {
            "domain": [
             "true flow",
             "quantile predictions"
            ],
            "range": [
             "red",
             "gray"
            ]
           },
           "type": "nominal"
          },
          "x": {
           "axis": {
            "labelAngle": 0
           },
           "field": "step",
           "title": "Step",
           "type": "nominal"
          },
          "y": {
           "field": "value",
           "scale": {
            "zero": false
           },
           "title": "Flow (m^3/s)",
           "type": "quantitative"
          }
         },
         "mark": {
          "opacity": 0.2,
          "type": "line"
         }
        },
        {
         "data": {
          "format": {
           "type": "json"
          },
          "url": "altair-data-8f40bc03b3b5130be6a2593971d8d177.json"
         },
         "encoding": {
          "color": {
           "field": "legend",
           "scale": {
            "domain": [
             "true flow",
             "quantile predictions"
            ],
            "range": [
             "red",
             "gray"
            ]
           },
           "type": "nominal"
          },
          "x": {
           "axis": {
            "labelAngle": 0
           },
           "field": "step",
           "title": "Step",
           "type": "nominal"
          },
          "y": {
           "field": "value",
           "scale": {
            "zero": false
           },
           "title": "Flow (m^3/s)",
           "type": "quantitative"
          }
         },
         "mark": {
          "opacity": 0.2,
          "type": "line"
         }
        },
        {
         "data": {
          "format": {
           "type": "json"
          },
          "url": "altair-data-0b4602403ac4f44da6e7fe2001fc18fe.json"
         },
         "encoding": {
          "color": {
           "field": "legend",
           "scale": {
            "domain": [
             "true flow",
             "quantile predictions"
            ],
            "range": [
             "red",
             "gray"
            ]
           },
           "type": "nominal"
          },
          "x": {
           "axis": {
            "labelAngle": 0
           },
           "field": "step",
           "title": "Step",
           "type": "nominal"
          },
          "y": {
           "field": "value",
           "scale": {
            "zero": false
           },
           "title": "Flow (m^3/s)",
           "type": "quantitative"
          }
         },
         "mark": {
          "opacity": 0.2,
          "type": "line"
         }
        },
        {
         "data": {
          "format": {
           "type": "json"
          },
          "url": "altair-data-a353b16999dc3b5c1369825426d4cb0e.json"
         },
         "encoding": {
          "color": {
           "field": "legend",
           "scale": {
            "domain": [
             "true flow",
             "quantile predictions"
            ],
            "range": [
             "red",
             "gray"
            ]
           },
           "type": "nominal"
          },
          "x": {
           "axis": {
            "labelAngle": 0
           },
           "field": "step",
           "title": "Step",
           "type": "nominal"
          },
          "y": {
           "field": "value",
           "scale": {
            "zero": false
           },
           "title": "Flow (m^3/s)",
           "type": "quantitative"
          }
         },
         "mark": {
          "opacity": 0.2,
          "type": "line"
         }
        },
        {
         "data": {
          "format": {
           "type": "json"
          },
          "url": "altair-data-8dc5f654c0a62e8732355d80e5d2fb31.json"
         },
         "encoding": {
          "color": {
           "field": "legend",
           "scale": {
            "domain": [
             "true flow",
             "quantile predictions"
            ],
            "range": [
             "red",
             "gray"
            ]
           },
           "type": "nominal"
          },
          "x": {
           "axis": {
            "labelAngle": 0
           },
           "field": "step",
           "title": "Step",
           "type": "nominal"
          },
          "y": {
           "field": "value",
           "scale": {
            "zero": false
           },
           "title": "Flow (m^3/s)",
           "type": "quantitative"
          }
         },
         "mark": {
          "opacity": 0.2,
          "type": "line"
         }
        },
        {
         "data": {
          "format": {
           "type": "json"
          },
          "url": "altair-data-ca754610e0e82cf4fbd47a385610aba1.json"
         },
         "encoding": {
          "color": {
           "field": "legend",
           "scale": {
            "domain": [
             "true flow",
             "quantile predictions"
            ],
            "range": [
             "red",
             "gray"
            ]
           },
           "type": "nominal"
          },
          "x": {
           "axis": {
            "labelAngle": 0
           },
           "field": "step",
           "title": "Step",
           "type": "nominal"
          },
          "y": {
           "field": "value",
           "scale": {
            "zero": false
           },
           "title": "Flow (m^3/s)",
           "type": "quantitative"
          }
         },
         "mark": {
          "opacity": 0.2,
          "type": "line"
         }
        },
        {
         "data": {
          "format": {
           "type": "json"
          },
          "url": "altair-data-940f1db65120d72520b9bdd92f9fc523.json"
         },
         "encoding": {
          "color": {
           "field": "legend",
           "scale": {
            "domain": [
             "true flow",
             "quantile predictions"
            ],
            "range": [
             "red",
             "gray"
            ]
           },
           "type": "nominal"
          },
          "x": {
           "axis": {
            "labelAngle": 0
           },
           "field": "step",
           "title": "Step",
           "type": "nominal"
          },
          "y": {
           "field": "value",
           "scale": {
            "zero": false
           },
           "title": "Flow (m^3/s)",
           "type": "quantitative"
          }
         },
         "mark": {
          "opacity": 0.2,
          "type": "line"
         }
        },
        {
         "data": {
          "format": {
           "type": "json"
          },
          "url": "altair-data-36980a889d977e596bbdfdcc72cab110.json"
         },
         "encoding": {
          "color": {
           "field": "legend",
           "scale": {
            "domain": [
             "true flow",
             "quantile predictions"
            ],
            "range": [
             "red",
             "gray"
            ]
           },
           "type": "nominal"
          },
          "x": {
           "axis": {
            "labelAngle": 0
           },
           "field": "step",
           "title": "Step",
           "type": "nominal"
          },
          "y": {
           "field": "value",
           "scale": {
            "zero": false
           },
           "title": "Flow (m^3/s)",
           "type": "quantitative"
          }
         },
         "mark": {
          "opacity": 0.2,
          "type": "line"
         }
        },
        {
         "data": {
          "format": {
           "type": "json"
          },
          "url": "altair-data-70d5a58be2de5f47930a31cccfe4b9c1.json"
         },
         "encoding": {
          "color": {
           "field": "legend",
           "scale": {
            "domain": [
             "true flow",
             "quantile predictions"
            ],
            "range": [
             "red",
             "gray"
            ]
           },
           "type": "nominal"
          },
          "x": {
           "axis": {
            "labelAngle": 0
           },
           "field": "step",
           "title": "Step",
           "type": "nominal"
          },
          "y": {
           "field": "value",
           "scale": {
            "zero": false
           },
           "title": "Flow (m^3/s)",
           "type": "quantitative"
          }
         },
         "mark": {
          "opacity": 0.2,
          "type": "line"
         }
        },
        {
         "data": {
          "format": {
           "type": "json"
          },
          "url": "altair-data-8e6048d4f21a7fca8d7e72723f922a7e.json"
         },
         "encoding": {
          "color": {
           "field": "legend",
           "scale": {
            "domain": [
             "true flow",
             "quantile predictions"
            ],
            "range": [
             "red",
             "gray"
            ]
           },
           "type": "nominal"
          },
          "x": {
           "axis": {
            "labelAngle": 0
           },
           "field": "step",
           "title": "Step",
           "type": "nominal"
          },
          "y": {
           "field": "value",
           "scale": {
            "zero": false
           },
           "title": "Flow (m^3/s)",
           "type": "quantitative"
          }
         },
         "mark": {
          "opacity": 0.2,
          "type": "line"
         }
        },
        {
         "data": {
          "format": {
           "type": "json"
          },
          "url": "altair-data-612db1d818dd1f36af977f82c3851ac6.json"
         },
         "encoding": {
          "color": {
           "field": "legend",
           "scale": {
            "domain": [
             "true flow",
             "quantile predictions"
            ],
            "range": [
             "red",
             "gray"
            ]
           },
           "type": "nominal"
          },
          "x": {
           "axis": {
            "labelAngle": 0
           },
           "field": "step",
           "title": "Step",
           "type": "nominal"
          },
          "y": {
           "field": "value",
           "scale": {
            "zero": false
           },
           "title": "Flow (m^3/s)",
           "type": "quantitative"
          }
         },
         "mark": {
          "opacity": 0.2,
          "type": "line"
         }
        },
        {
         "data": {
          "format": {
           "type": "json"
          },
          "url": "altair-data-ef8ed0f54d620a2588ab7e87f2c04f5c.json"
         },
         "encoding": {
          "color": {
           "field": "legend",
           "scale": {
            "domain": [
             "true flow",
             "quantile predictions"
            ],
            "range": [
             "red",
             "gray"
            ]
           },
           "type": "nominal"
          },
          "x": {
           "axis": {
            "labelAngle": 0
           },
           "field": "step",
           "title": "Step",
           "type": "nominal"
          },
          "y": {
           "field": "value",
           "scale": {
            "zero": false
           },
           "title": "Flow (m^3/s)",
           "type": "quantitative"
          }
         },
         "mark": {
          "opacity": 0.2,
          "type": "line"
         }
        },
        {
         "data": {
          "format": {
           "type": "json"
          },
          "url": "altair-data-b32f1b601f738f00cbb8a0ccb1902bd1.json"
         },
         "encoding": {
          "color": {
           "field": "legend",
           "scale": {
            "domain": [
             "true flow",
             "quantile predictions"
            ],
            "range": [
             "red",
             "gray"
            ]
           },
           "type": "nominal"
          },
          "x": {
           "axis": {
            "labelAngle": 0
           },
           "field": "step",
           "title": "Step",
           "type": "nominal"
          },
          "y": {
           "field": "value",
           "scale": {
            "zero": false
           },
           "title": "Flow (m^3/s)",
           "type": "quantitative"
          }
         },
         "mark": {
          "opacity": 0.2,
          "type": "line"
         }
        },
        {
         "data": {
          "format": {
           "type": "json"
          },
          "url": "altair-data-343800605c9c6a652d3edb2dad7de6ae.json"
         },
         "encoding": {
          "color": {
           "field": "legend",
           "scale": {
            "domain": [
             "true flow",
             "quantile predictions"
            ],
            "range": [
             "red",
             "gray"
            ]
           },
           "type": "nominal"
          },
          "x": {
           "axis": {
            "labelAngle": 0
           },
           "field": "step",
           "title": "Step",
           "type": "nominal"
          },
          "y": {
           "field": "value",
           "scale": {
            "zero": false
           },
           "title": "Flow (m^3/s)",
           "type": "quantitative"
          }
         },
         "mark": {
          "opacity": 0.2,
          "type": "line"
         }
        },
        {
         "data": {
          "format": {
           "type": "json"
          },
          "url": "altair-data-1cc0822ed6cb151fb043d27c4a5db255.json"
         },
         "encoding": {
          "color": {
           "field": "legend",
           "scale": {
            "domain": [
             "true flow",
             "quantile predictions"
            ],
            "range": [
             "red",
             "gray"
            ]
           },
           "type": "nominal"
          },
          "x": {
           "axis": {
            "labelAngle": 0
           },
           "field": "step",
           "title": "Step",
           "type": "nominal"
          },
          "y": {
           "field": "value",
           "scale": {
            "zero": false
           },
           "title": "Flow (m^3/s)",
           "type": "quantitative"
          }
         },
         "mark": {
          "opacity": 0.2,
          "type": "line"
         }
        },
        {
         "data": {
          "format": {
           "type": "json"
          },
          "url": "altair-data-8fe85624ee1f532ffbec10469f8d81f4.json"
         },
         "encoding": {
          "color": {
           "field": "legend",
           "scale": {
            "domain": [
             "true flow",
             "quantile predictions"
            ],
            "range": [
             "red",
             "gray"
            ]
           },
           "type": "nominal"
          },
          "x": {
           "axis": {
            "labelAngle": 0
           },
           "field": "step",
           "title": "Step",
           "type": "nominal"
          },
          "y": {
           "field": "value",
           "scale": {
            "zero": false
           },
           "title": "Flow (m^3/s)",
           "type": "quantitative"
          }
         },
         "mark": {
          "opacity": 0.2,
          "type": "line"
         }
        },
        {
         "data": {
          "format": {
           "type": "json"
          },
          "url": "altair-data-97fcd1045276a016405fbb369108834a.json"
         },
         "encoding": {
          "color": {
           "field": "legend",
           "scale": {
            "domain": [
             "true flow",
             "quantile predictions"
            ],
            "range": [
             "red",
             "gray"
            ]
           },
           "type": "nominal"
          },
          "x": {
           "axis": {
            "labelAngle": 0
           },
           "field": "step",
           "title": "Step",
           "type": "nominal"
          },
          "y": {
           "field": "value",
           "scale": {
            "zero": false
           },
           "title": "Flow (m^3/s)",
           "type": "quantitative"
          }
         },
         "mark": {
          "opacity": 0.2,
          "type": "line"
         }
        },
        {
         "data": {
          "format": {
           "type": "json"
          },
          "url": "altair-data-b2728ec6eb624b94f30dc4a4b7c933c2.json"
         },
         "encoding": {
          "color": {
           "field": "legend",
           "scale": {
            "domain": [
             "true flow",
             "quantile predictions"
            ],
            "range": [
             "red",
             "gray"
            ]
           },
           "type": "nominal"
          },
          "x": {
           "axis": {
            "labelAngle": 0
           },
           "field": "step",
           "title": "Step",
           "type": "nominal"
          },
          "y": {
           "field": "value",
           "scale": {
            "zero": false
           },
           "title": "Flow (m^3/s)",
           "type": "quantitative"
          }
         },
         "mark": {
          "opacity": 0.2,
          "type": "line"
         }
        },
        {
         "data": {
          "format": {
           "type": "json"
          },
          "url": "altair-data-45c6aa88532d912670a8d7bb4dcda86a.json"
         },
         "encoding": {
          "color": {
           "field": "legend",
           "scale": {
            "domain": [
             "true flow",
             "quantile predictions"
            ],
            "range": [
             "red",
             "gray"
            ]
           },
           "type": "nominal"
          },
          "x": {
           "axis": {
            "labelAngle": 0
           },
           "field": "step",
           "title": "Step",
           "type": "nominal"
          },
          "y": {
           "field": "value",
           "scale": {
            "zero": false
           },
           "title": "Flow (m^3/s)",
           "type": "quantitative"
          }
         },
         "mark": {
          "opacity": 0.2,
          "type": "line"
         }
        },
        {
         "data": {
          "format": {
           "type": "json"
          },
          "url": "altair-data-911aae4330af3364e48b852f25ef4bc2.json"
         },
         "encoding": {
          "color": {
           "field": "legend",
           "scale": {
            "domain": [
             "true flow",
             "quantile predictions"
            ],
            "range": [
             "red",
             "gray"
            ]
           },
           "type": "nominal"
          },
          "x": {
           "axis": {
            "labelAngle": 0
           },
           "field": "step",
           "title": "Step",
           "type": "nominal"
          },
          "y": {
           "field": "value",
           "scale": {
            "zero": false
           },
           "title": "Flow (m^3/s)",
           "type": "quantitative"
          }
         },
         "mark": {
          "opacity": 0.2,
          "type": "line"
         }
        },
        {
         "data": {
          "format": {
           "type": "json"
          },
          "url": "altair-data-e615c2bcf0daccdcb11d7c9be9d932c3.json"
         },
         "encoding": {
          "color": {
           "field": "legend",
           "legend": {
            "orient": "left",
            "title": "Flows by color"
           },
           "scale": {
            "domain": [
             "true flow",
             "quantile predictions"
            ],
            "range": [
             "red",
             "grey"
            ]
           },
           "type": "nominal"
          },
          "x": {
           "axis": {
            "labelAngle": 0
           },
           "field": "step",
           "title": "Step",
           "type": "nominal"
          },
          "y": {
           "field": "value",
           "scale": {
            "zero": false
           },
           "title": "Flow (m^3/s)",
           "type": "quantitative"
          }
         },
         "mark": "line"
        },
        {
         "data": {
          "format": {
           "type": "json"
          },
          "url": "altair-data-299da653030124cf87a43f6907d67a1c.json"
         },
         "encoding": {
          "x": {
           "axis": {
            "labelAngle": 0
           },
           "field": "step",
           "title": "Step",
           "type": "nominal"
          },
          "y": {
           "field": "value",
           "scale": {
            "zero": false
           },
           "title": "Flow (m^3/s)",
           "type": "quantitative"
          }
         },
         "mark": {
          "color": "gray",
          "opacity": 0.2,
          "type": "circle"
         }
        }
       ],
       "title": "6 Steps Ahead Prediction",
       "width": 600
      },
      "image/png": "[encoded data removed]",
      "text/plain": [
       "<VegaLite 4 object>\n",
       "\n",
       "If you see this message, it means the renderer has not been properly enabled\n",
       "for the frontend that you are using. For more information, see\n",
       "https://altair-viz.github.io/user_guide/troubleshooting.html\n"
      ]
     },
     "execution_count": 10,
     "metadata": {},
     "output_type": "execute_result"
    }
   ],
   "source": [
    "plot_multiple_step_prediction(df_train, df_val, NARR_solim, hourly=True, width=600, height=400)"
   ]
  }
 ],
 "metadata": {
  "kernelspec": {
   "display_name": "Python 3",
   "language": "python",
   "name": "python3"
  },
  "language_info": {
   "codemirror_mode": {
    "name": "ipython",
    "version": 3
   },
   "file_extension": ".py",
   "mimetype": "text/x-python",
   "name": "python",
   "nbconvert_exporter": "python",
   "pygments_lexer": "ipython3",
   "version": "3.7.6"
  }
 },
 "nbformat": 4,
 "nbformat_minor": 4
}
